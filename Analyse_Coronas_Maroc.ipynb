{
 "cells": [
  {
   "cell_type": "code",
   "execution_count": 2,
   "metadata": {},
   "outputs": [
    {
     "ename": "ImportError",
     "evalue": "\n\nIMPORTANT: PLEASE READ THIS FOR ADVICE ON HOW TO SOLVE THIS ISSUE!\n\nImporting the numpy C-extensions failed. This error can happen for\nmany reasons, often due to issues with your setup or how NumPy was\ninstalled.\n\nWe have compiled some common reasons and troubleshooting tips at:\n\n    https://numpy.org/devdocs/user/troubleshooting-importerror.html\n\nPlease note and check the following:\n\n  * The Python version is: Python3.7 from \"E:\\Anconda\\python.exe\"\n  * The NumPy version is: \"1.19.0\"\n\nand make sure that they are the versions you expect.\nPlease carefully study the documentation linked above for further help.\n\nOriginal error was: No module named 'numpy.core._multiarray_umath'\n",
     "output_type": "error",
     "traceback": [
      "\u001b[1;31m---------------------------------------------------------------------------\u001b[0m",
      "\u001b[1;31mModuleNotFoundError\u001b[0m                       Traceback (most recent call last)",
      "\u001b[1;32mC:\\Python38\\Lib\\site-packages\\numpy\\core\\__init__.py\u001b[0m in \u001b[0;36m<module>\u001b[1;34m\u001b[0m\n\u001b[0;32m     21\u001b[0m \u001b[1;32mtry\u001b[0m\u001b[1;33m:\u001b[0m\u001b[1;33m\u001b[0m\u001b[1;33m\u001b[0m\u001b[0m\n\u001b[1;32m---> 22\u001b[1;33m     \u001b[1;32mfrom\u001b[0m \u001b[1;33m.\u001b[0m \u001b[1;32mimport\u001b[0m \u001b[0mmultiarray\u001b[0m\u001b[1;33m\u001b[0m\u001b[1;33m\u001b[0m\u001b[0m\n\u001b[0m\u001b[0;32m     23\u001b[0m \u001b[1;32mexcept\u001b[0m \u001b[0mImportError\u001b[0m \u001b[1;32mas\u001b[0m \u001b[0mexc\u001b[0m\u001b[1;33m:\u001b[0m\u001b[1;33m\u001b[0m\u001b[1;33m\u001b[0m\u001b[0m\n",
      "\u001b[1;32mC:\\Python38\\Lib\\site-packages\\numpy\\core\\multiarray.py\u001b[0m in \u001b[0;36m<module>\u001b[1;34m\u001b[0m\n\u001b[0;32m     11\u001b[0m \u001b[1;33m\u001b[0m\u001b[0m\n\u001b[1;32m---> 12\u001b[1;33m \u001b[1;32mfrom\u001b[0m \u001b[1;33m.\u001b[0m \u001b[1;32mimport\u001b[0m \u001b[0moverrides\u001b[0m\u001b[1;33m\u001b[0m\u001b[1;33m\u001b[0m\u001b[0m\n\u001b[0m\u001b[0;32m     13\u001b[0m \u001b[1;32mfrom\u001b[0m \u001b[1;33m.\u001b[0m \u001b[1;32mimport\u001b[0m \u001b[0m_multiarray_umath\u001b[0m\u001b[1;33m\u001b[0m\u001b[1;33m\u001b[0m\u001b[0m\n",
      "\u001b[1;32mC:\\Python38\\Lib\\site-packages\\numpy\\core\\overrides.py\u001b[0m in \u001b[0;36m<module>\u001b[1;34m\u001b[0m\n\u001b[0;32m      6\u001b[0m \u001b[1;33m\u001b[0m\u001b[0m\n\u001b[1;32m----> 7\u001b[1;33m from numpy.core._multiarray_umath import (\n\u001b[0m\u001b[0;32m      8\u001b[0m     add_docstring, implement_array_function, _get_implementing_args)\n",
      "\u001b[1;31mModuleNotFoundError\u001b[0m: No module named 'numpy.core._multiarray_umath'",
      "\nDuring handling of the above exception, another exception occurred:\n",
      "\u001b[1;31mImportError\u001b[0m                               Traceback (most recent call last)",
      "\u001b[1;32m<ipython-input-2-62a0d9f83cf7>\u001b[0m in \u001b[0;36m<module>\u001b[1;34m\u001b[0m\n\u001b[1;32m----> 1\u001b[1;33m \u001b[1;32mimport\u001b[0m \u001b[0mnumpy\u001b[0m \u001b[1;32mas\u001b[0m \u001b[0mnp\u001b[0m\u001b[1;33m\u001b[0m\u001b[1;33m\u001b[0m\u001b[0m\n\u001b[0m\u001b[0;32m      2\u001b[0m \u001b[1;32mimport\u001b[0m \u001b[0mmatplotlib\u001b[0m\u001b[1;33m.\u001b[0m\u001b[0mpyplot\u001b[0m \u001b[1;32mas\u001b[0m \u001b[0mplt\u001b[0m\u001b[1;33m\u001b[0m\u001b[1;33m\u001b[0m\u001b[0m\n\u001b[0;32m      3\u001b[0m \u001b[1;32mimport\u001b[0m \u001b[0mpandas\u001b[0m \u001b[1;32mas\u001b[0m \u001b[0mpd\u001b[0m\u001b[1;33m\u001b[0m\u001b[1;33m\u001b[0m\u001b[0m\n\u001b[0;32m      4\u001b[0m \u001b[1;32mimport\u001b[0m \u001b[0mstatistics\u001b[0m\u001b[1;33m\u001b[0m\u001b[1;33m\u001b[0m\u001b[0m\n\u001b[0;32m      5\u001b[0m \u001b[1;32mfrom\u001b[0m \u001b[0mscipy\u001b[0m\u001b[1;33m.\u001b[0m\u001b[0mintegrate\u001b[0m \u001b[1;32mimport\u001b[0m \u001b[0modeint\u001b[0m\u001b[1;33m\u001b[0m\u001b[1;33m\u001b[0m\u001b[0m\n",
      "\u001b[1;32mC:\\Python38\\Lib\\site-packages\\numpy\\__init__.py\u001b[0m in \u001b[0;36m<module>\u001b[1;34m\u001b[0m\n\u001b[0;32m    138\u001b[0m     \u001b[1;32mfrom\u001b[0m \u001b[1;33m.\u001b[0m \u001b[1;32mimport\u001b[0m \u001b[0m_distributor_init\u001b[0m\u001b[1;33m\u001b[0m\u001b[1;33m\u001b[0m\u001b[0m\n\u001b[0;32m    139\u001b[0m \u001b[1;33m\u001b[0m\u001b[0m\n\u001b[1;32m--> 140\u001b[1;33m     \u001b[1;32mfrom\u001b[0m \u001b[1;33m.\u001b[0m \u001b[1;32mimport\u001b[0m \u001b[0mcore\u001b[0m\u001b[1;33m\u001b[0m\u001b[1;33m\u001b[0m\u001b[0m\n\u001b[0m\u001b[0;32m    141\u001b[0m     \u001b[1;32mfrom\u001b[0m \u001b[1;33m.\u001b[0m\u001b[0mcore\u001b[0m \u001b[1;32mimport\u001b[0m \u001b[1;33m*\u001b[0m\u001b[1;33m\u001b[0m\u001b[1;33m\u001b[0m\u001b[0m\n\u001b[0;32m    142\u001b[0m     \u001b[1;32mfrom\u001b[0m \u001b[1;33m.\u001b[0m \u001b[1;32mimport\u001b[0m \u001b[0mcompat\u001b[0m\u001b[1;33m\u001b[0m\u001b[1;33m\u001b[0m\u001b[0m\n",
      "\u001b[1;32mC:\\Python38\\Lib\\site-packages\\numpy\\core\\__init__.py\u001b[0m in \u001b[0;36m<module>\u001b[1;34m\u001b[0m\n\u001b[0;32m     46\u001b[0m \"\"\" % (sys.version_info[0], sys.version_info[1], sys.executable,\n\u001b[0;32m     47\u001b[0m         __version__, exc)\n\u001b[1;32m---> 48\u001b[1;33m     \u001b[1;32mraise\u001b[0m \u001b[0mImportError\u001b[0m\u001b[1;33m(\u001b[0m\u001b[0mmsg\u001b[0m\u001b[1;33m)\u001b[0m\u001b[1;33m\u001b[0m\u001b[1;33m\u001b[0m\u001b[0m\n\u001b[0m\u001b[0;32m     49\u001b[0m \u001b[1;32mfinally\u001b[0m\u001b[1;33m:\u001b[0m\u001b[1;33m\u001b[0m\u001b[1;33m\u001b[0m\u001b[0m\n\u001b[0;32m     50\u001b[0m     \u001b[1;32mfor\u001b[0m \u001b[0menvkey\u001b[0m \u001b[1;32min\u001b[0m \u001b[0menv_added\u001b[0m\u001b[1;33m:\u001b[0m\u001b[1;33m\u001b[0m\u001b[1;33m\u001b[0m\u001b[0m\n",
      "\u001b[1;31mImportError\u001b[0m: \n\nIMPORTANT: PLEASE READ THIS FOR ADVICE ON HOW TO SOLVE THIS ISSUE!\n\nImporting the numpy C-extensions failed. This error can happen for\nmany reasons, often due to issues with your setup or how NumPy was\ninstalled.\n\nWe have compiled some common reasons and troubleshooting tips at:\n\n    https://numpy.org/devdocs/user/troubleshooting-importerror.html\n\nPlease note and check the following:\n\n  * The Python version is: Python3.7 from \"E:\\Anconda\\python.exe\"\n  * The NumPy version is: \"1.19.0\"\n\nand make sure that they are the versions you expect.\nPlease carefully study the documentation linked above for further help.\n\nOriginal error was: No module named 'numpy.core._multiarray_umath'\n"
     ]
    }
   ],
   "source": [
    "import numpy as np\n",
    "import matplotlib.pyplot as plt\n",
    "import pandas as pd\n",
    "import statistics\n",
    "from scipy.integrate import odeint\n",
    "from sklearn.impute import SimpleImputer\n",
    "\n"
   ]
  },
  {
   "cell_type": "markdown",
   "metadata": {},
   "source": [
    "1) Chargement des données casablanca \n"
   ]
  },
  {
   "cell_type": "code",
   "execution_count": 3,
   "metadata": {},
   "outputs": [
    {
     "ename": "NameError",
     "evalue": "name 'pd' is not defined",
     "output_type": "error",
     "traceback": [
      "\u001b[1;31m---------------------------------------------------------------------------\u001b[0m",
      "\u001b[1;31mNameError\u001b[0m                                 Traceback (most recent call last)",
      "\u001b[1;32m<ipython-input-3-39893b6ab2b6>\u001b[0m in \u001b[0;36m<module>\u001b[1;34m\u001b[0m\n\u001b[1;32m----> 1\u001b[1;33m \u001b[0mdfcasa\u001b[0m\u001b[1;33m=\u001b[0m\u001b[0mpd\u001b[0m\u001b[1;33m.\u001b[0m\u001b[0mread_excel\u001b[0m\u001b[1;33m(\u001b[0m\u001b[1;34mr\"C:\\Users\\youne\\Desktop\\pfa\\DataFrame.xlsx\"\u001b[0m\u001b[1;33m,\u001b[0m\u001b[1;34m\"Casablanca-settat\"\u001b[0m\u001b[1;33m)\u001b[0m\u001b[1;33m\u001b[0m\u001b[1;33m\u001b[0m\u001b[0m\n\u001b[0m\u001b[0;32m      2\u001b[0m \u001b[0mdfcasa\u001b[0m\u001b[1;33m\u001b[0m\u001b[1;33m\u001b[0m\u001b[0m\n",
      "\u001b[1;31mNameError\u001b[0m: name 'pd' is not defined"
     ]
    }
   ],
   "source": [
    "dfcasa=pd.read_excel(r\"C:\\Users\\youne\\Desktop\\pfa\\DataFrame.xlsx\",\"Casablanca-settat\")\n",
    "dfcasa"
   ]
  },
  {
   "cell_type": "markdown",
   "metadata": {},
   "source": [
    "2)traitement des données manquante\n"
   ]
  },
  {
   "cell_type": "code",
   "execution_count": 3,
   "metadata": {},
   "outputs": [],
   "source": [
    "imputer_mean=SimpleImputer(missing_values=np.nan,strategy=\"mean\") \n",
    "df_casa_inf_recu=imputer_mean.fit_transform(dfcasa[['infecté','recupéré']])"
   ]
  },
  {
   "cell_type": "code",
   "execution_count": 4,
   "metadata": {},
   "outputs": [
    {
     "name": "stdout",
     "output_type": "stream",
     "text": [
      "(81,)\n",
      "(81,)\n",
      "(81,)\n"
     ]
    }
   ],
   "source": [
    "df_casa_inf_recu=df_casa_inf_recu.T\n",
    "t=dfcasa[\"la date\"]\n",
    "print(t.shape)\n",
    "print(df_casa_inf_recu[0].shape)\n",
    "print(dfcasa[\"morts\"].shape)"
   ]
  },
  {
   "cell_type": "code",
   "execution_count": 5,
   "metadata": {},
   "outputs": [],
   "source": [
    "liste=[23,30,32,36,39,42,45,49,52,58,61,64,67,70,79]\n",
    "for i in liste:\n",
    "    dfcasa[\"morts\"]=0"
   ]
  },
  {
   "cell_type": "code",
   "execution_count": 6,
   "metadata": {},
   "outputs": [
    {
     "name": "stderr",
     "output_type": "stream",
     "text": [
      "E:\\Anconda\\lib\\site-packages\\pandas\\plotting\\_matplotlib\\converter.py:103: FutureWarning: Using an implicitly registered datetime converter for a matplotlib plotting method. The converter was registered by pandas on import. Future versions of pandas will require you to explicitly register matplotlib converters.\n",
      "\n",
      "To register the converters:\n",
      "\t>>> from pandas.plotting import register_matplotlib_converters\n",
      "\t>>> register_matplotlib_converters()\n",
      "  warnings.warn(msg, FutureWarning)\n"
     ]
    },
    {
     "data": {
      "image/png": "[encoded data removed]",
      "text/plain": [
       "<Figure size 432x288 with 1 Axes>"
      ]
     },
     "metadata": {
      "needs_background": "light"
     },
     "output_type": "display_data"
    }
   ],
   "source": [
    "def plot_data(df_casa_inf_recu,dfcasa,t):\n",
    "    plt.plot(t, df_casa_inf_recu[0].T, color='blue', label='infecté')\n",
    "    plt.plot(t, df_casa_inf_recu[1].T, color='green', label='récupéré')\n",
    "    plt.plot(t, dfcasa[\"morts\"], color='red', label='morts')\n",
    "    leg = plt.legend();\n",
    "    plt.grid()\n",
    "    plt.show()\n",
    "plot_data(df_casa_inf_recu,dfcasa,t)"
   ]
  },
  {
   "cell_type": "code",
   "execution_count": 7,
   "metadata": {},
   "outputs": [
    {
     "data": {
      "text/html": [
       "<div>\n",
       "<style scoped>\n",
       "    .dataframe tbody tr th:only-of-type {\n",
       "        vertical-align: middle;\n",
       "    }\n",
       "\n",
       "    .dataframe tbody tr th {\n",
       "        vertical-align: top;\n",
       "    }\n",
       "\n",
       "    .dataframe thead th {\n",
       "        text-align: right;\n",
       "    }\n",
       "</style>\n",
       "<table border=\"1\" class=\"dataframe\">\n",
       "  <thead>\n",
       "    <tr style=\"text-align: right;\">\n",
       "      <th></th>\n",
       "      <th>la_date</th>\n",
       "      <th>suscptible</th>\n",
       "      <th>Infectés</th>\n",
       "      <th>récupérés</th>\n",
       "      <th>morts</th>\n",
       "    </tr>\n",
       "  </thead>\n",
       "  <tbody>\n",
       "    <tr>\n",
       "      <td>0</td>\n",
       "      <td>2020-03-02</td>\n",
       "      <td>39999.00000</td>\n",
       "      <td>1.0</td>\n",
       "      <td>0.000000</td>\n",
       "      <td>0</td>\n",
       "    </tr>\n",
       "    <tr>\n",
       "      <td>1</td>\n",
       "      <td>2020-03-03</td>\n",
       "      <td>39999.00000</td>\n",
       "      <td>0.0</td>\n",
       "      <td>0.000000</td>\n",
       "      <td>0</td>\n",
       "    </tr>\n",
       "    <tr>\n",
       "      <td>2</td>\n",
       "      <td>2020-03-04</td>\n",
       "      <td>39999.00000</td>\n",
       "      <td>0.0</td>\n",
       "      <td>0.000000</td>\n",
       "      <td>0</td>\n",
       "    </tr>\n",
       "    <tr>\n",
       "      <td>3</td>\n",
       "      <td>2020-03-05</td>\n",
       "      <td>39998.00000</td>\n",
       "      <td>1.0</td>\n",
       "      <td>0.000000</td>\n",
       "      <td>0</td>\n",
       "    </tr>\n",
       "    <tr>\n",
       "      <td>4</td>\n",
       "      <td>2020-03-06</td>\n",
       "      <td>39998.00000</td>\n",
       "      <td>0.0</td>\n",
       "      <td>0.000000</td>\n",
       "      <td>0</td>\n",
       "    </tr>\n",
       "    <tr>\n",
       "      <td>...</td>\n",
       "      <td>...</td>\n",
       "      <td>...</td>\n",
       "      <td>...</td>\n",
       "      <td>...</td>\n",
       "      <td>...</td>\n",
       "    </tr>\n",
       "    <tr>\n",
       "      <td>76</td>\n",
       "      <td>2020-05-17</td>\n",
       "      <td>37931.82967</td>\n",
       "      <td>83.0</td>\n",
       "      <td>2.015873</td>\n",
       "      <td>0</td>\n",
       "    </tr>\n",
       "    <tr>\n",
       "      <td>77</td>\n",
       "      <td>2020-05-18</td>\n",
       "      <td>37887.82967</td>\n",
       "      <td>39.0</td>\n",
       "      <td>5.000000</td>\n",
       "      <td>0</td>\n",
       "    </tr>\n",
       "    <tr>\n",
       "      <td>78</td>\n",
       "      <td>2020-05-19</td>\n",
       "      <td>37858.82967</td>\n",
       "      <td>19.0</td>\n",
       "      <td>10.000000</td>\n",
       "      <td>0</td>\n",
       "    </tr>\n",
       "    <tr>\n",
       "      <td>79</td>\n",
       "      <td>2020-05-20</td>\n",
       "      <td>37804.82967</td>\n",
       "      <td>49.0</td>\n",
       "      <td>5.000000</td>\n",
       "      <td>0</td>\n",
       "    </tr>\n",
       "    <tr>\n",
       "      <td>80</td>\n",
       "      <td>2020-05-21</td>\n",
       "      <td>37706.82967</td>\n",
       "      <td>94.0</td>\n",
       "      <td>4.000000</td>\n",
       "      <td>0</td>\n",
       "    </tr>\n",
       "  </tbody>\n",
       "</table>\n",
       "<p>81 rows × 5 columns</p>\n",
       "</div>"
      ],
      "text/plain": [
       "      la_date   suscptible  Infectés  récupérés  morts\n",
       "0  2020-03-02  39999.00000       1.0   0.000000      0\n",
       "1  2020-03-03  39999.00000       0.0   0.000000      0\n",
       "2  2020-03-04  39999.00000       0.0   0.000000      0\n",
       "3  2020-03-05  39998.00000       1.0   0.000000      0\n",
       "4  2020-03-06  39998.00000       0.0   0.000000      0\n",
       "..        ...          ...       ...        ...    ...\n",
       "76 2020-05-17  37931.82967      83.0   2.015873      0\n",
       "77 2020-05-18  37887.82967      39.0   5.000000      0\n",
       "78 2020-05-19  37858.82967      19.0  10.000000      0\n",
       "79 2020-05-20  37804.82967      49.0   5.000000      0\n",
       "80 2020-05-21  37706.82967      94.0   4.000000      0\n",
       "\n",
       "[81 rows x 5 columns]"
      ]
     },
     "execution_count": 7,
     "metadata": {},
     "output_type": "execute_result"
    }
   ],
   "source": [
    "def Data_frame(N,df_casa_inf_recu,dfcasa):\n",
    "    Suscptible=[]\n",
    "    S=N\n",
    "    for i in range(len(dfcasa[\"morts\"])):\n",
    "        S=S-df_casa_inf_recu[0][i]-df_casa_inf_recu[1][i]\n",
    "        Suscptible.append(S)\n",
    "    dataf_casa= pd.DataFrame({'la_date':t,'suscptible':Suscptible,'Infectés':df_casa_inf_recu[0],'récupérés':df_casa_inf_recu[1],'morts':dfcasa[\"morts\"]})\n",
    "    return dataf_casa\n",
    "dataf_casa=Data_frame(40000,df_casa_inf_recu,dfcasa)\n",
    "dataf_casa"
   ]
  },
  {
   "cell_type": "raw",
   "metadata": {},
   "source": [
    "# 3) Détection des valeur aberrants à l'aide de boite à moustache "
   ]
  },
  {
   "cell_type": "code",
   "execution_count": 8,
   "metadata": {},
   "outputs": [],
   "source": [
    "def Dectect_aberrante(dataf_casa):\n",
    "        Q1,Q2,Q3=np.percentile(dataf_casa.Infectés,[25,50,75])\n",
    "        borne_infI=Q1-1.5*(Q3-Q1)\n",
    "        borne_supI=Q3+1.5*(Q3-Q1)\n",
    "        for i in range(len(dataf_casa.Infectés)):\n",
    "            if dataf_casa.Infectés[i]<borne_infI or dataf_casa.Infectés[i]>borne_supI:\n",
    "                print(dataf_casa.Infectés[i])\n",
    "                dataf_casa.Infectés[i]=statistics.mean(dataf_casa.Infectés)\n",
    "        Q1_R,Q2_R,Q3_R=np.percentile(dataf_casa.récupérés,[25,50,75])\n",
    "        borne_infR=Q1_R-1.5*(Q3_R-Q1_R)\n",
    "        borne_supR=Q3_R+1.5*(Q3_R-Q1_R)\n",
    "        for i in range(len(dataf_casa.récupérés)):\n",
    "            if dataf_casa.récupérés[i]<borne_infR or dataf_casa.récupérés[i]>borne_supR:\n",
    "                print(dataf_casa.récupérés[i])\n",
    "                dataf_casa.récupérés[i]=statistics.mean(dataf_casa.récupérés)\n",
    "        return dataf_casa"
   ]
  },
  {
   "cell_type": "code",
   "execution_count": 9,
   "metadata": {},
   "outputs": [
    {
     "name": "stdout",
     "output_type": "stream",
     "text": [
      "96.0\n",
      "94.0\n",
      "10.0\n"
     ]
    },
    {
     "name": "stderr",
     "output_type": "stream",
     "text": [
      "E:\\Anconda\\lib\\site-packages\\ipykernel_launcher.py:8: SettingWithCopyWarning: \n",
      "A value is trying to be set on a copy of a slice from a DataFrame\n",
      "\n",
      "See the caveats in the documentation: http://pandas.pydata.org/pandas-docs/stable/user_guide/indexing.html#returning-a-view-versus-a-copy\n",
      "  \n",
      "E:\\Anconda\\lib\\site-packages\\ipykernel_launcher.py:15: SettingWithCopyWarning: \n",
      "A value is trying to be set on a copy of a slice from a DataFrame\n",
      "\n",
      "See the caveats in the documentation: http://pandas.pydata.org/pandas-docs/stable/user_guide/indexing.html#returning-a-view-versus-a-copy\n",
      "  from ipykernel import kernelapp as app\n"
     ]
    }
   ],
   "source": [
    "dataf_casa=Dectect_aberrante(dataf_casa)"
   ]
  },
  {
   "cell_type": "code",
   "execution_count": 10,
   "metadata": {},
   "outputs": [
    {
     "data": {
      "text/plain": [
       "[<matplotlib.lines.Line2D at 0x1403a37b548>]"
      ]
     },
     "execution_count": 10,
     "metadata": {},
     "output_type": "execute_result"
    },
    {
     "data": {
      "image/png": "[encoded data removed]",
      "text/plain": [
       "<Figure size 432x288 with 1 Axes>"
      ]
     },
     "metadata": {
      "needs_background": "light"
     },
     "output_type": "display_data"
    }
   ],
   "source": [
    "plt.plot(dataf_casa.la_date,dataf_casa.Infectés)"
   ]
  },
  {
   "cell_type": "markdown",
   "metadata": {},
   "source": [
    "# resolution du modéle\n"
   ]
  },
  {
   "cell_type": "code",
   "execution_count": 11,
   "metadata": {},
   "outputs": [],
   "source": [
    "def deriv(y, t, N, beta, gamma):\n",
    "    S, I, R = y \n",
    "    dSdt = -beta * S * I / N\n",
    "    dIdt = beta * S * I / N - gamma * I\n",
    "    dRdt = gamma * I\n",
    "    return dSdt, dIdt, dRdt"
   ]
  },
  {
   "cell_type": "code",
   "execution_count": 12,
   "metadata": {},
   "outputs": [],
   "source": [
    "def filtrage(N,I0,R0,t,dataf_casa):\n",
    "    S0=N-I0-R0\n",
    "    y0 = S0, I0, R0\n",
    "    dictionnaire_I={}\n",
    "    dictionnaire_R={}\n",
    "    for gamma in np.arange(0.001,1,0.01):\n",
    "        for beta in np.arange(0.001,1,0.01):\n",
    "            ret = odeint(deriv, y0, t, args=(N, beta, gamma))\n",
    "            St,It,Rt=ret.T\n",
    "            DiffS=St-dataf_casa.suscptible\n",
    "            DiffI=It-dataf_casa.Infectés\n",
    "            DiffR=Rt-dataf_casa.récupérés\n",
    "            cv=DiffS-DiffI-DiffR\n",
    "            normI=np.linalg.norm(cv)\n",
    "            dictionnaire_I[\"beta est:{} gamma est:{}\".format(beta,gamma)]=normI\n",
    "    return dictionnaire_I,dictionnaire_R"
   ]
  },
  {
   "cell_type": "code",
   "execution_count": 13,
   "metadata": {},
   "outputs": [],
   "source": [
    "dictionnaire_I,dictionnaire_R=filtrage(40000,1,0,np.arange(2,83),dataf_casa)"
   ]
  },
  {
   "cell_type": "code",
   "execution_count": 14,
   "metadata": {},
   "outputs": [
    {
     "data": {
      "text/plain": [
       "{'beta est:0.001 gamma est:0.001': 9218.32739508416,\n",
       " 'beta est:0.011 gamma est:0.001': 9206.737808311778,\n",
       " 'beta est:0.020999999999999998 gamma est:0.001': 9184.275298232787,\n",
       " 'beta est:0.030999999999999996 gamma est:0.001': 9140.144376144577,\n",
       " 'beta est:0.040999999999999995 gamma est:0.001': 9052.443022646243,\n",
       " 'beta est:0.05099999999999999 gamma est:0.001': 8876.56821552118,\n",
       " 'beta est:0.06099999999999999 gamma est:0.001': 8521.97991028973,\n",
       " 'beta est:0.071 gamma est:0.001': 7809.204059145199,\n",
       " 'beta est:0.08099999999999999 gamma est:0.001': 6420.761097488512,\n",
       " 'beta est:0.09099999999999998 gamma est:0.001': 4281.998741492022,\n",
       " 'beta est:0.10099999999999998 gamma est:0.001': 6704.622905416904,\n",
       " 'beta est:0.11099999999999999 gamma est:0.001': 19429.574624727888,\n",
       " 'beta est:0.12099999999999998 gamma est:0.001': 43650.17110495145,\n",
       " 'beta est:0.13099999999999998 gamma est:0.001': 81744.41322043803,\n",
       " 'beta est:0.141 gamma est:0.001': 131180.81230686323,\n",
       " 'beta est:0.15099999999999997 gamma est:0.001': 184340.3406795793,\n",
       " 'beta est:0.16099999999999998 gamma est:0.001': 234131.72414922368,\n",
       " 'beta est:0.17099999999999999 gamma est:0.001': 277402.72234154405,\n",
       " 'beta est:0.18099999999999997 gamma est:0.001': 313955.29423234006,\n",
       " 'beta est:0.19099999999999998 gamma est:0.001': 344732.3510519697,\n",
       " 'beta est:0.20099999999999996 gamma est:0.001': 370844.16246714286,\n",
       " 'beta est:0.21099999999999997 gamma est:0.001': 393246.5129223955,\n",
       " 'beta est:0.22099999999999997 gamma est:0.001': 412688.8068207323,\n",
       " 'beta est:0.23099999999999996 gamma est:0.001': 429742.36306942464,\n",
       " 'beta est:0.24099999999999996 gamma est:0.001': 444841.8324552003,\n",
       " 'beta est:0.25099999999999995 gamma est:0.001': 458320.9424796178,\n",
       " 'beta est:0.26099999999999995 gamma est:0.001': 470439.46777509444,\n",
       " 'beta est:0.27099999999999996 gamma est:0.001': 481402.64732288365,\n",
       " 'beta est:0.28099999999999997 gamma est:0.001': 491374.98861149943,\n",
       " 'beta est:0.291 gamma est:0.001': 500490.1119768684,\n",
       " 'beta est:0.30099999999999993 gamma est:0.001': 508857.8536491432,\n",
       " 'beta est:0.31099999999999994 gamma est:0.001': 516569.4615736754,\n",
       " 'beta est:0.32099999999999995 gamma est:0.001': 523701.4572798657,\n",
       " 'beta est:0.33099999999999996 gamma est:0.001': 530318.5539224267,\n",
       " 'beta est:0.34099999999999997 gamma est:0.001': 536475.8976245852,\n",
       " 'beta est:0.3509999999999999 gamma est:0.001': 542220.8138361059,\n",
       " 'beta est:0.36099999999999993 gamma est:0.001': 547594.1833188947,\n",
       " 'beta est:0.37099999999999994 gamma est:0.001': 552631.534997192,\n",
       " 'beta est:0.38099999999999995 gamma est:0.001': 557363.9197376089,\n",
       " 'beta est:0.39099999999999996 gamma est:0.001': 561818.613015506,\n",
       " 'beta est:0.4009999999999999 gamma est:0.001': 566019.6845233416,\n",
       " 'beta est:0.4109999999999999 gamma est:0.001': 569988.4638693945,\n",
       " 'beta est:0.42099999999999993 gamma est:0.001': 573743.9250333215,\n",
       " 'beta est:0.43099999999999994 gamma est:0.001': 577303.0064603472,\n",
       " 'beta est:0.44099999999999995 gamma est:0.001': 580680.8799067559,\n",
       " 'beta est:0.45099999999999996 gamma est:0.001': 583891.1768858869,\n",
       " 'beta est:0.4609999999999999 gamma est:0.001': 586946.180965633,\n",
       " 'beta est:0.4709999999999999 gamma est:0.001': 589856.9912889105,\n",
       " 'beta est:0.4809999999999999 gamma est:0.001': 592633.6627942362,\n",
       " 'beta est:0.49099999999999994 gamma est:0.001': 595285.3267219677,\n",
       " 'beta est:0.5009999999999999 gamma est:0.001': 597820.2951306959,\n",
       " 'beta est:0.5109999999999999 gamma est:0.001': 600246.151400605,\n",
       " 'beta est:0.5209999999999999 gamma est:0.001': 602569.8294505832,\n",
       " 'beta est:0.5309999999999999 gamma est:0.001': 604797.6826656685,\n",
       " 'beta est:0.5409999999999999 gamma est:0.001': 606935.5443295118,\n",
       " 'beta est:0.5509999999999999 gamma est:0.001': 608988.7806376925,\n",
       " 'beta est:0.5609999999999999 gamma est:0.001': 610962.3370723246,\n",
       " 'beta est:0.571 gamma est:0.001': 612860.7795407005,\n",
       " 'beta est:0.581 gamma est:0.001': 614688.3304378425,\n",
       " 'beta est:0.5909999999999999 gamma est:0.001': 616448.9005900089,\n",
       " 'beta est:0.6009999999999999 gamma est:0.001': 618146.1177492612,\n",
       " 'beta est:0.6109999999999999 gamma est:0.001': 619783.3518369184,\n",
       " 'beta est:0.6209999999999999 gamma est:0.001': 621363.7375029122,\n",
       " 'beta est:0.6309999999999999 gamma est:0.001': 622890.1943129944,\n",
       " 'beta est:0.6409999999999999 gamma est:0.001': 624365.4449176369,\n",
       " 'beta est:0.6509999999999999 gamma est:0.001': 625792.0314076941,\n",
       " 'beta est:0.6609999999999999 gamma est:0.001': 627172.3299638429,\n",
       " 'beta est:0.6709999999999999 gamma est:0.001': 628508.564254685,\n",
       " 'beta est:0.6809999999999999 gamma est:0.001': 629802.8174161486,\n",
       " 'beta est:0.691 gamma est:0.001': 631057.0430585126,\n",
       " 'beta est:0.7009999999999998 gamma est:0.001': 632273.0751956519,\n",
       " 'beta est:0.7109999999999999 gamma est:0.001': 633452.6371757614,\n",
       " 'beta est:0.7209999999999999 gamma est:0.001': 634597.3500527751,\n",
       " 'beta est:0.7309999999999999 gamma est:0.001': 635708.739975693,\n",
       " 'beta est:0.7409999999999999 gamma est:0.001': 636788.2451112809,\n",
       " 'beta est:0.7509999999999999 gamma est:0.001': 637837.2219159672,\n",
       " 'beta est:0.7609999999999999 gamma est:0.001': 638856.9507731404,\n",
       " 'beta est:0.7709999999999999 gamma est:0.001': 639848.6413715379,\n",
       " 'beta est:0.7809999999999999 gamma est:0.001': 640813.4374486165,\n",
       " 'beta est:0.7909999999999999 gamma est:0.001': 641752.4212763949,\n",
       " 'beta est:0.8009999999999998 gamma est:0.001': 642666.6177440424,\n",
       " 'beta est:0.8109999999999998 gamma est:0.001': 643556.998049684,\n",
       " 'beta est:0.8209999999999998 gamma est:0.001': 644424.4832513416,\n",
       " 'beta est:0.8309999999999998 gamma est:0.001': 645269.9474137079,\n",
       " 'beta est:0.8409999999999999 gamma est:0.001': 646094.2205677929,\n",
       " 'beta est:0.8509999999999999 gamma est:0.001': 646898.0914261186,\n",
       " 'beta est:0.8609999999999999 gamma est:0.001': 647682.309947445,\n",
       " 'beta est:0.8709999999999999 gamma est:0.001': 648447.589774622,\n",
       " 'beta est:0.8809999999999999 gamma est:0.001': 649194.6102391897,\n",
       " 'beta est:0.8909999999999999 gamma est:0.001': 649924.0185994586,\n",
       " 'beta est:0.9009999999999999 gamma est:0.001': 650636.4317174421,\n",
       " 'beta est:0.9109999999999998 gamma est:0.001': 651332.4378696497,\n",
       " 'beta est:0.9209999999999998 gamma est:0.001': 652012.5983651308,\n",
       " 'beta est:0.9309999999999998 gamma est:0.001': 652677.4491252499,\n",
       " 'beta est:0.9409999999999998 gamma est:0.001': 653327.5021550336,\n",
       " 'beta est:0.9509999999999998 gamma est:0.001': 653963.246964721,\n",
       " 'beta est:0.9609999999999999 gamma est:0.001': 654585.1516575307,\n",
       " 'beta est:0.9709999999999999 gamma est:0.001': 655193.6642249057,\n",
       " 'beta est:0.9809999999999999 gamma est:0.001': 655789.2133495195,\n",
       " 'beta est:0.9909999999999999 gamma est:0.001': 656372.2094689847,\n",
       " 'beta est:0.001 gamma est:0.011': 9218.537371066659,\n",
       " 'beta est:0.011 gamma est:0.011': 9210.363937543298,\n",
       " 'beta est:0.020999999999999998 gamma est:0.011': 9195.479251257239,\n",
       " 'beta est:0.030999999999999996 gamma est:0.011': 9167.68421680926,\n",
       " 'beta est:0.040999999999999995 gamma est:0.011': 9114.676878495267,\n",
       " 'beta est:0.05099999999999999 gamma est:0.011': 9011.825116777763,\n",
       " 'beta est:0.06099999999999999 gamma est:0.011': 8809.560831367728,\n",
       " 'beta est:0.071 gamma est:0.011': 8408.479924823667,\n",
       " 'beta est:0.08099999999999999 gamma est:0.011': 7614.799583259622,\n",
       " 'beta est:0.09099999999999998 gamma est:0.011': 6102.032299223073,\n",
       " 'beta est:0.10099999999999998 gamma est:0.011': 4022.7624152332005,\n",
       " 'beta est:0.11099999999999999 gamma est:0.011': 7676.306622788262,\n",
       " 'beta est:0.12099999999999998 gamma est:0.011': 21384.23174658205,\n",
       " 'beta est:0.13099999999999998 gamma est:0.011': 46534.96824371754,\n",
       " 'beta est:0.141 gamma est:0.011': 85068.61369331974,\n",
       " 'beta est:0.15099999999999997 gamma est:0.011': 133958.46729791726,\n",
       " 'beta est:0.16099999999999998 gamma est:0.011': 185863.03291270367,\n",
       " 'beta est:0.17099999999999999 gamma est:0.011': 234398.25862313478,\n",
       " 'beta est:0.18099999999999997 gamma est:0.011': 276800.50697248615,\n",
       " 'beta est:0.19099999999999998 gamma est:0.011': 312885.67056295514,\n",
       " 'beta est:0.20099999999999996 gamma est:0.011': 343475.3686276773,\n",
       " 'beta est:0.21099999999999997 gamma est:0.011': 369561.99612876755,\n",
       " 'beta est:0.22099999999999997 gamma est:0.011': 392021.09836754797,\n",
       " 'beta est:0.23099999999999996 gamma est:0.011': 411554.99858200876,\n",
       " 'beta est:0.24099999999999996 gamma est:0.011': 428709.847255258,\n",
       " 'beta est:0.25099999999999995 gamma est:0.011': 443907.9817289522,\n",
       " 'beta est:0.26099999999999995 gamma est:0.011': 457477.8366834879,\n",
       " 'beta est:0.27099999999999996 gamma est:0.011': 469677.5015429424,\n",
       " 'beta est:0.28099999999999997 gamma est:0.011': 480712.25735617324,\n",
       " 'beta est:0.291 gamma est:0.011': 490747.39161228156,\n",
       " 'beta est:0.30099999999999993 gamma est:0.011': 499917.5492497815,\n",
       " 'beta est:0.31099999999999994 gamma est:0.011': 508333.60153977625,\n",
       " 'beta est:0.32099999999999995 gamma est:0.011': 516087.7436550184,\n",
       " 'beta est:0.33099999999999996 gamma est:0.011': 523257.32483212295,\n",
       " 'beta est:0.34099999999999997 gamma est:0.011': 529907.7655308703,\n",
       " 'beta est:0.3509999999999999 gamma est:0.011': 536094.8103583928,\n",
       " 'beta est:0.36099999999999993 gamma est:0.011': 541866.2894080569,\n",
       " 'beta est:0.37099999999999994 gamma est:0.011': 547263.5087235406,\n",
       " 'beta est:0.38099999999999995 gamma est:0.011': 552322.3558734405,\n",
       " 'beta est:0.39099999999999996 gamma est:0.011': 557074.184451098,\n",
       " 'beta est:0.4009999999999999 gamma est:0.011': 561546.5260309384,\n",
       " 'beta est:0.4109999999999999 gamma est:0.011': 565763.6675028746,\n",
       " 'beta est:0.42099999999999993 gamma est:0.011': 569747.1234170418,\n",
       " 'beta est:0.43099999999999994 gamma est:0.011': 573516.0259408398,\n",
       " 'beta est:0.44099999999999995 gamma est:0.011': 577087.4496025803,\n",
       " 'beta est:0.45099999999999996 gamma est:0.011': 580476.6836401408,\n",
       " 'beta est:0.4609999999999999 gamma est:0.011': 583697.4616017019,\n",
       " 'beta est:0.4709999999999999 gamma est:0.011': 586762.1559166039,\n",
       " 'beta est:0.4809999999999999 gamma est:0.011': 589681.9435489998,\n",
       " 'beta est:0.49099999999999994 gamma est:0.011': 592466.9477466608,\n",
       " 'beta est:0.5009999999999999 gamma est:0.011': 595126.3600786076,\n",
       " 'beta est:0.5109999999999999 gamma est:0.011': 597668.5459771699,\n",
       " 'beta est:0.5209999999999999 gamma est:0.011': 600101.1363367673,\n",
       " 'beta est:0.5309999999999999 gamma est:0.011': 602431.107447386,\n",
       " 'beta est:0.5409999999999999 gamma est:0.011': 604664.8505438626,\n",
       " 'beta est:0.5509999999999999 gamma est:0.011': 606808.2328537018,\n",
       " 'beta est:0.5609999999999999 gamma est:0.011': 608866.6510189852,\n",
       " 'beta est:0.571 gamma est:0.011': 610845.077988457,\n",
       " 'beta est:0.581 gamma est:0.011': 612748.1043279618,\n",
       " 'beta est:0.5909999999999999 gamma est:0.011': 614579.9746762413,\n",
       " 'beta est:0.6009999999999999 gamma est:0.011': 616344.6200413704,\n",
       " 'beta est:0.6109999999999999 gamma est:0.011': 618045.6863947314,\n",
       " 'beta est:0.6209999999999999 gamma est:0.011': 619686.5601669033,\n",
       " 'beta est:0.6309999999999999 gamma est:0.011': 621270.391047075,\n",
       " 'beta est:0.6409999999999999 gamma est:0.011': 622800.1122486667,\n",
       " 'beta est:0.6509999999999999 gamma est:0.011': 624278.4589728555,\n",
       " 'beta est:0.6609999999999999 gamma est:0.011': 625707.9846619075,\n",
       " 'beta est:0.6709999999999999 gamma est:0.011': 627091.0759561002,\n",
       " 'beta est:0.6809999999999999 gamma est:0.011': 628429.9658881684,\n",
       " 'beta est:0.691 gamma est:0.011': 629726.7468253445,\n",
       " 'beta est:0.7009999999999998 gamma est:0.011': 630983.3802704955,\n",
       " 'beta est:0.7109999999999999 gamma est:0.011': 632201.7077371698,\n",
       " 'beta est:0.7209999999999999 gamma est:0.011': 633383.4594371466,\n",
       " 'beta est:0.7309999999999999 gamma est:0.011': 634530.2628231494,\n",
       " 'beta est:0.7409999999999999 gamma est:0.011': 635643.649937927,\n",
       " 'beta est:0.7509999999999999 gamma est:0.011': 636725.0644263821,\n",
       " 'beta est:0.7609999999999999 gamma est:0.011': 637775.8678272854,\n",
       " 'beta est:0.7709999999999999 gamma est:0.011': 638797.3452033921,\n",
       " 'beta est:0.7809999999999999 gamma est:0.011': 639790.7106646651,\n",
       " 'beta est:0.7909999999999999 gamma est:0.011': 640757.1120154369,\n",
       " 'beta est:0.8009999999999998 gamma est:0.011': 641697.6350810209,\n",
       " 'beta est:0.8109999999999998 gamma est:0.011': 642613.308784925,\n",
       " 'beta est:0.8209999999999998 gamma est:0.011': 643505.1074025987,\n",
       " 'beta est:0.8309999999999998 gamma est:0.011': 644373.9550433442,\n",
       " 'beta est:0.8409999999999999 gamma est:0.011': 645220.7286919875,\n",
       " 'beta est:0.8509999999999999 gamma est:0.011': 646046.2610812624,\n",
       " 'beta est:0.8609999999999999 gamma est:0.011': 646851.3434635712,\n",
       " 'beta est:0.8709999999999999 gamma est:0.011': 647636.7281817694,\n",
       " 'beta est:0.8809999999999999 gamma est:0.011': 648403.1310683102,\n",
       " 'beta est:0.8909999999999999 gamma est:0.011': 649151.2335639129,\n",
       " 'beta est:0.9009999999999999 gamma est:0.011': 649881.6849239209,\n",
       " 'beta est:0.9109999999999998 gamma est:0.011': 650595.1038916156,\n",
       " 'beta est:0.9209999999999998 gamma est:0.011': 651292.0803803693,\n",
       " 'beta est:0.9309999999999998 gamma est:0.011': 651973.1774026199,\n",
       " 'beta est:0.9409999999999998 gamma est:0.011': 652638.9324444412,\n",
       " 'beta est:0.9509999999999998 gamma est:0.011': 653289.8589801386,\n",
       " 'beta est:0.9609999999999999 gamma est:0.011': 653926.4478585972,\n",
       " 'beta est:0.9709999999999999 gamma est:0.011': 654549.168547526,\n",
       " 'beta est:0.9809999999999999 gamma est:0.011': 655158.4702538473,\n",
       " 'beta est:0.9909999999999999 gamma est:0.011': 655754.7827896818,\n",
       " 'beta est:0.001 gamma est:0.020999999999999998': 9218.675424720508,\n",
       " 'beta est:0.011 gamma est:0.020999999999999998': 9212.673556325903,\n",
       " 'beta est:0.020999999999999998 gamma est:0.020999999999999998': 9202.401501723776,\n",
       " 'beta est:0.030999999999999996 gamma est:0.020999999999999998': 9184.222243669557,\n",
       " 'beta est:0.040999999999999995 gamma est:0.020999999999999998': 9151.095898558624,\n",
       " 'beta est:0.05099999999999999 gamma est:0.020999999999999998': 9089.215692720578,\n",
       " 'beta est:0.06099999999999999 gamma est:0.020999999999999998': 8971.225938389503,\n",
       " 'beta est:0.071 gamma est:0.020999999999999998': 8742.620670167576,\n",
       " 'beta est:0.08099999999999999 gamma est:0.020999999999999998': 8295.254499206187,\n",
       " 'beta est:0.09099999999999998 gamma est:0.020999999999999998': 7421.69532062688,\n",
       " 'beta est:0.10099999999999998 gamma est:0.020999999999999998': 5791.890818939154,\n",
       " 'beta est:0.11099999999999999 gamma est:0.020999999999999998': 3868.572472342977,\n",
       " 'beta est:0.12099999999999998 gamma est:0.020999999999999998': 8685.346576510125,\n",
       " 'beta est:0.13099999999999998 gamma est:0.020999999999999998': 23272.101874866425,\n",
       " 'beta est:0.141 gamma est:0.020999999999999998': 49231.706990544204,\n",
       " 'beta est:0.15099999999999997 gamma est:0.020999999999999998': 88050.40861261697,\n",
       " 'beta est:0.16099999999999998 gamma est:0.020999999999999998': 136309.52333326582,\n",
       " 'beta est:0.17099999999999999 gamma est:0.020999999999999998': 186986.02586678008,\n",
       " 'beta est:0.18099999999999997 gamma est:0.020999999999999998': 234323.95418923313,\n",
       " 'beta est:0.19099999999999998 gamma est:0.020999999999999998': 275886.7224879219,\n",
       " 'beta est:0.20099999999999996 gamma est:0.020999999999999998': 311503.0555550611,\n",
       " 'beta est:0.21099999999999997 gamma est:0.020999999999999998': 341892.88278965245,\n",
       " 'beta est:0.22099999999999997 gamma est:0.020999999999999998': 367945.42599374166,\n",
       " 'beta est:0.23099999999999996 gamma est:0.020999999999999998': 390461.8592344155,\n",
       " 'beta est:0.24099999999999996 gamma est:0.020999999999999998': 410097.57944013673,\n",
       " 'beta est:0.25099999999999995 gamma est:0.020999999999999998': 427371.26121333946,\n",
       " 'beta est:0.26099999999999995 gamma est:0.020999999999999998': 442690.1092707984,\n",
       " 'beta est:0.27099999999999996 gamma est:0.020999999999999998': 456374.8175569512,\n",
       " 'beta est:0.28099999999999997 gamma est:0.020999999999999998': 468679.9849662857,\n",
       " 'beta est:0.291 gamma est:0.020999999999999998': 479809.7514034578,\n",
       " 'beta est:0.30099999999999993 gamma est:0.020999999999999998': 489929.5028453634,\n",
       " 'beta est:0.31099999999999994 gamma est:0.020999999999999998': 499174.58271831827,\n",
       " 'beta est:0.32099999999999995 gamma est:0.020999999999999998': 507656.80683203513,\n",
       " 'beta est:0.33099999999999996 gamma est:0.020999999999999998': 515469.37301131315,\n",
       " 'beta est:0.34099999999999997 gamma est:0.020999999999999998': 522690.5920387331,\n",
       " 'beta est:0.3509999999999999 gamma est:0.020999999999999998': 529386.7623969353,\n",
       " 'beta est:0.36099999999999993 gamma est:0.020999999999999998': 535614.4095195378,\n",
       " 'beta est:0.37099999999999994 gamma est:0.020999999999999998': 541422.0454437676,\n",
       " 'beta est:0.38099999999999995 gamma est:0.020999999999999998': 546851.5658405672,\n",
       " 'beta est:0.39099999999999996 gamma est:0.020999999999999998': 551939.3652690055,\n",
       " 'beta est:0.4009999999999999 gamma est:0.020999999999999998': 556717.2306533476,\n",
       " 'beta est:0.4109999999999999 gamma est:0.020999999999999998': 561213.0638471049,\n",
       " 'beta est:0.42099999999999993 gamma est:0.020999999999999998': 565451.4673485934,\n",
       " 'beta est:0.43099999999999994 gamma est:0.020999999999999998': 569454.226131249,\n",
       " 'beta est:0.44099999999999995 gamma est:0.020999999999999998': 573240.7034219583,\n",
       " 'beta est:0.45099999999999996 gamma est:0.020999999999999998': 576828.1725691713,\n",
       " 'beta est:0.4609999999999999 gamma est:0.020999999999999998': 580232.0941496481,\n",
       " 'beta est:0.4709999999999999 gamma est:0.020999999999999998': 583466.3499508572,\n",
       " 'beta est:0.4809999999999999 gamma est:0.020999999999999998': 586543.441040962,\n",
       " 'beta est:0.49099999999999994 gamma est:0.020999999999999998': 589474.6564053338,\n",
       " 'beta est:0.5009999999999999 gamma est:0.020999999999999998': 592270.217225093,\n",
       " 'beta est:0.5109999999999999 gamma est:0.020999999999999998': 594939.4009987037,\n",
       " 'beta est:0.5209999999999999 gamma est:0.020999999999999998': 597490.6487840537,\n",
       " 'beta est:0.5309999999999999 gamma est:0.020999999999999998': 599931.6583926543,\n",
       " 'beta est:0.5409999999999999 gamma est:0.020999999999999998': 602269.4652892681,\n",
       " 'beta est:0.5509999999999999 gamma est:0.020999999999999998': 604510.5133976422,\n",
       " 'beta est:0.5609999999999999 gamma est:0.020999999999999998': 606660.7168770758,\n",
       " 'beta est:0.571 gamma est:0.020999999999999998': 608725.51423931,\n",
       " 'beta est:0.581 gamma est:0.020999999999999998': 610709.9159158048,\n",
       " 'beta est:0.5909999999999999 gamma est:0.020999999999999998': 612618.5460717131,\n",
       " 'beta est:0.6009999999999999 gamma est:0.020999999999999998': 614455.6795361532,\n",
       " 'beta est:0.6109999999999999 gamma est:0.020999999999999998': 616225.2744806405,\n",
       " 'beta est:0.6209999999999999 gamma est:0.020999999999999998': 617931.0013517659,\n",
       " 'beta est:0.6309999999999999 gamma est:0.020999999999999998': 619576.2687288391,\n",
       " 'beta est:0.6409999999999999 gamma est:0.020999999999999998': 621164.2463122274,\n",
       " 'beta est:0.6509999999999999 gamma est:0.020999999999999998': 622697.8855274994,\n",
       " 'beta est:0.6609999999999999 gamma est:0.020999999999999998': 624179.9380274779,\n",
       " 'beta est:0.6709999999999999 gamma est:0.020999999999999998': 625612.972321944,\n",
       " 'beta est:0.6809999999999999 gamma est:0.020999999999999998': 626999.3887851362,\n",
       " 'beta est:0.691 gamma est:0.020999999999999998': 628341.4331984944,\n",
       " 'beta est:0.7009999999999998 gamma est:0.020999999999999998': 629641.2090155367,\n",
       " 'beta est:0.7109999999999999 gamma est:0.020999999999999998': 630900.688485334,\n",
       " 'beta est:0.7209999999999999 gamma est:0.020999999999999998': 632121.7227450595,\n",
       " 'beta est:0.7309999999999999 gamma est:0.020999999999999998': 633306.0509949866,\n",
       " 'beta est:0.7409999999999999 gamma est:0.020999999999999998': 634455.3088460774,\n",
       " 'beta est:0.7509999999999999 gamma est:0.020999999999999998': 635571.0359407666,\n",
       " 'beta est:0.7609999999999999 gamma est:0.020999999999999998': 636654.6829057405,\n",
       " 'beta est:0.7709999999999999 gamma est:0.020999999999999998': 637707.6177060793,\n",
       " 'beta est:0.7809999999999999 gamma est:0.020999999999999998': 638731.1314712714,\n",
       " 'beta est:0.7909999999999999 gamma est:0.020999999999999998': 639726.4438115549,\n",
       " 'beta est:0.8009999999999998 gamma est:0.020999999999999998': 640694.7077098364,\n",
       " 'beta est:0.8109999999999998 gamma est:0.020999999999999998': 641637.0140183837,\n",
       " 'beta est:0.8209999999999998 gamma est:0.020999999999999998': 642554.3955984523,\n",
       " 'beta est:0.8309999999999998 gamma est:0.020999999999999998': 643447.8311329444,\n",
       " 'beta est:0.8409999999999999 gamma est:0.020999999999999998': 644318.2486304742,\n",
       " 'beta est:0.8509999999999999 gamma est:0.020999999999999998': 645166.528646712,\n",
       " 'beta est:0.8609999999999999 gamma est:0.020999999999999998': 645993.5072663443,\n",
       " 'beta est:0.8709999999999999 gamma est:0.020999999999999998': 646799.9788940902,\n",
       " 'beta est:0.8809999999999999 gamma est:0.020999999999999998': 647586.6988309498,\n",
       " 'beta est:0.8909999999999999 gamma est:0.020999999999999998': 648354.3856538478,\n",
       " 'beta est:0.9009999999999999 gamma est:0.020999999999999998': 649103.723435645,\n",
       " 'beta est:0.9109999999999998 gamma est:0.020999999999999998': 649835.3637811556,\n",
       " 'beta est:0.9209999999999998 gamma est:0.020999999999999998': 650549.9276868249,\n",
       " 'beta est:0.9309999999999998 gamma est:0.020999999999999998': 651248.0072900057,\n",
       " 'beta est:0.9409999999999998 gamma est:0.020999999999999998': 651930.1675611116,\n",
       " 'beta est:0.9509999999999998 gamma est:0.020999999999999998': 652596.9478780018,\n",
       " 'beta est:0.9609999999999999 gamma est:0.020999999999999998': 653248.8635230919,\n",
       " 'beta est:0.9709999999999999 gamma est:0.020999999999999998': 653886.4070494646,\n",
       " 'beta est:0.9809999999999999 gamma est:0.020999999999999998': 654510.0495068148,\n",
       " 'beta est:0.9909999999999999 gamma est:0.020999999999999998': 655120.2415375669,\n",
       " 'beta est:0.001 gamma est:0.030999999999999996': 9218.769160778007,\n",
       " 'beta est:0.011 gamma est:0.030999999999999996': 9214.192055862315,\n",
       " 'beta est:0.020999999999999998 gamma est:0.030999999999999996': 9206.810520292765,\n",
       " 'beta est:0.030999999999999996 gamma est:0.030999999999999996': 9194.440177740415,\n",
       " 'beta est:0.040999999999999995 gamma est:0.030999999999999996': 9172.96696989212,\n",
       " 'beta est:0.05099999999999999 gamma est:0.030999999999999996': 9134.510739626341,\n",
       " 'beta est:0.06099999999999999 gamma est:0.030999999999999996': 9063.761735479236,\n",
       " 'beta est:0.071 gamma est:0.030999999999999996': 8930.647758213203,\n",
       " 'beta est:0.08099999999999999 gamma est:0.030999999999999996': 8675.753864390848,\n",
       " 'beta est:0.09099999999999998 gamma est:0.030999999999999996': 8182.323178748357,\n",
       " 'beta est:0.10099999999999998 gamma est:0.030999999999999996': 7229.985770581824,\n",
       " 'beta est:0.11099999999999999 gamma est:0.030999999999999996': 5491.454697170988,\n",
       " 'beta est:0.12099999999999998 gamma est:0.030999999999999996': 3828.073332179143,\n",
       " 'beta est:0.13099999999999998 gamma est:0.030999999999999996': 9710.003616322507,\n",
       " 'beta est:0.141 gamma est:0.030999999999999996': 25090.14432639642,\n",
       " 'beta est:0.15099999999999997 gamma est:0.030999999999999996': 51746.86038129645,\n",
       " 'beta est:0.16099999999999998 gamma est:0.030999999999999996': 90717.50719741402,\n",
       " 'beta est:0.17099999999999999 gamma est:0.030999999999999996': 138282.41686390684,\n",
       " 'beta est:0.18099999999999997 gamma est:0.030999999999999996': 187759.53412743003,\n",
       " 'beta est:0.19099999999999998 gamma est:0.030999999999999996': 233949.91029066322,\n",
       " 'beta est:0.20099999999999996 gamma est:0.030999999999999996': 274694.5556570436,\n",
       " 'beta est:0.21099999999999997 gamma est:0.030999999999999996': 309834.69557265757,\n",
       " 'beta est:0.22099999999999997 gamma est:0.030999999999999996': 340005.1308530981,\n",
       " 'beta est:0.23099999999999996 gamma est:0.030999999999999996': 366005.3283922494,\n",
       " 'beta est:0.24099999999999996 gamma est:0.030999999999999996': 388568.6564371626,\n",
       " 'beta est:0.25099999999999995 gamma est:0.030999999999999996': 408305.19661481696,\n",
       " 'beta est:0.26099999999999995 gamma est:0.030999999999999996': 425705.16205297434,\n",
       " 'beta est:0.27099999999999996 gamma est:0.030999999999999996': 441158.6383676953,\n",
       " 'beta est:0.28099999999999997 gamma est:0.030999999999999996': 454976.4581333487,\n",
       " 'beta est:0.291 gamma est:0.030999999999999996': 467407.87209106656,\n",
       " 'beta est:0.30099999999999993 gamma est:0.030999999999999996': 478654.42087788467,\n",
       " 'beta est:0.31099999999999994 gamma est:0.030999999999999996': 488880.52351565816,\n",
       " 'beta est:0.32099999999999995 gamma est:0.030999999999999996': 498221.5007770513,\n",
       " 'beta est:0.33099999999999996 gamma est:0.030999999999999996': 506789.66388877045,\n",
       " 'beta est:0.34099999999999997 gamma est:0.030999999999999996': 514678.96291319444,\n",
       " 'beta est:0.3509999999999999 gamma est:0.030999999999999996': 521968.5654742575,\n",
       " 'beta est:0.36099999999999993 gamma est:0.030999999999999996': 528725.6426111641,\n",
       " 'beta est:0.37099999999999994 gamma est:0.030999999999999996': 535007.5554159835,\n",
       " 'beta est:0.38099999999999995 gamma est:0.030999999999999996': 540863.5909517745,\n",
       " 'beta est:0.39099999999999996 gamma est:0.030999999999999996': 546336.3474749245,\n",
       " 'beta est:0.4009999999999999 gamma est:0.030999999999999996': 551462.8460660585,\n",
       " 'beta est:0.4109999999999999 gamma est:0.030999999999999996': 556275.4271470975,\n",
       " 'beta est:0.42099999999999993 gamma est:0.030999999999999996': 560802.477233624,\n",
       " 'beta est:0.43099999999999994 gamma est:0.030999999999999996': 565069.0221370475,\n",
       " 'beta est:0.44099999999999995 gamma est:0.030999999999999996': 569097.2138435489,\n",
       " 'beta est:0.45099999999999996 gamma est:0.030999999999999996': 572906.7353444007,\n",
       " 'beta est:0.4609999999999999 gamma est:0.030999999999999996': 576515.1369839067,\n",
       " 'beta est:0.4709999999999999 gamma est:0.030999999999999996': 579938.1201018468,\n",
       " 'beta est:0.4809999999999999 gamma est:0.030999999999999996': 583189.7761770689,\n",
       " 'beta est:0.49099999999999994 gamma est:0.030999999999999996': 586282.7885045126,\n",
       " 'beta est:0.5009999999999999 gamma est:0.030999999999999996': 589228.6052023363,\n",
       " 'beta est:0.5109999999999999 gamma est:0.030999999999999996': 592037.5861750193,\n",
       " 'beta est:0.5209999999999999 gamma est:0.030999999999999996': 594719.1307303368,\n",
       " 'beta est:0.5309999999999999 gamma est:0.030999999999999996': 597281.7869841417,\n",
       " 'beta est:0.5409999999999999 gamma est:0.030999999999999996': 599733.3468103589,\n",
       " 'beta est:0.5509999999999999 gamma est:0.030999999999999996': 602080.9288476327,\n",
       " 'beta est:0.5609999999999999 gamma est:0.030999999999999996': 604331.0504215809,\n",
       " 'beta est:0.571 gamma est:0.030999999999999996': 606489.691098521,\n",
       " 'beta est:0.581 gamma est:0.030999999999999996': 608562.3471619665,\n",
       " 'beta est:0.5909999999999999 gamma est:0.030999999999999996': 610554.0806348757,\n",
       " 'beta est:0.6009999999999999 gamma est:0.030999999999999996': 612469.5618300524,\n",
       " 'beta est:0.6109999999999999 gamma est:0.030999999999999996': 614313.1064538704,\n",
       " 'beta est:0.6209999999999999 gamma est:0.030999999999999996': 616088.7095181067,\n",
       " 'beta est:0.6309999999999999 gamma est:0.030999999999999996': 617800.0747992251,\n",
       " 'beta est:0.6409999999999999 gamma est:0.030999999999999996': 619450.6403038718,\n",
       " 'beta est:0.6509999999999999 gamma est:0.030999999999999996': 621043.6027047337,\n",
       " 'beta est:0.6609999999999999 gamma est:0.030999999999999996': 622581.9375783884,\n",
       " 'beta est:0.6709999999999999 gamma est:0.030999999999999996': 624068.4184766342,\n",
       " 'beta est:0.6809999999999999 gamma est:0.030999999999999996': 625505.6337734802,\n",
       " 'beta est:0.691 gamma est:0.030999999999999996': 626896.0018814047,\n",
       " 'beta est:0.7009999999999998 gamma est:0.030999999999999996': 628241.7850039974,\n",
       " 'beta est:0.7109999999999999 gamma est:0.030999999999999996': 629545.1015790746,\n",
       " 'beta est:0.7209999999999999 gamma est:0.030999999999999996': 630807.9375436723,\n",
       " 'beta est:0.7309999999999999 gamma est:0.030999999999999996': 632032.1565565956,\n",
       " 'beta est:0.7409999999999999 gamma est:0.030999999999999996': 633219.5092962913,\n",
       " 'beta est:0.7509999999999999 gamma est:0.030999999999999996': 634371.6419107078,\n",
       " 'beta est:0.7609999999999999 gamma est:0.030999999999999996': 635490.1037280047,\n",
       " 'beta est:0.7709999999999999 gamma est:0.030999999999999996': 636576.3542923045,\n",
       " 'beta est:0.7809999999999999 gamma est:0.030999999999999996': 637631.7697919926,\n",
       " 'beta est:0.7909999999999999 gamma est:0.030999999999999996': 638657.6489371391,\n",
       " 'beta est:0.8009999999999998 gamma est:0.030999999999999996': 639655.2183478934,\n",
       " 'beta est:0.8109999999999998 gamma est:0.030999999999999996': 640625.6374929957,\n",
       " 'beta est:0.8209999999999998 gamma est:0.030999999999999996': 641570.0032344345,\n",
       " 'beta est:0.8309999999999998 gamma est:0.030999999999999996': 642489.3540066512,\n",
       " 'beta est:0.8409999999999999 gamma est:0.030999999999999996': 643384.6736669696,\n",
       " 'beta est:0.8509999999999999 gamma est:0.030999999999999996': 644256.8950297975,\n",
       " 'beta est:0.8609999999999999 gamma est:0.030999999999999996': 645106.9031276286,\n",
       " 'beta est:0.8709999999999999 gamma est:0.030999999999999996': 645935.5382086248,\n",
       " 'beta est:0.8809999999999999 gamma est:0.030999999999999996': 646743.5985533355,\n",
       " 'beta est:0.8909999999999999 gamma est:0.030999999999999996': 647531.8430898759,\n",
       " 'beta est:0.9009999999999999 gamma est:0.030999999999999996': 648300.9937970608,\n",
       " 'beta est:0.9109999999999998 gamma est:0.030999999999999996': 649051.737914848,\n",
       " 'beta est:0.9209999999999998 gamma est:0.030999999999999996': 649784.7299994065,\n",
       " 'beta est:0.9309999999999998 gamma est:0.030999999999999996': 650500.5938170115,\n",
       " 'beta est:0.9409999999999998 gamma est:0.030999999999999996': 651199.9241079798,\n",
       " 'beta est:0.9509999999999998 gamma est:0.030999999999999996': 651883.2882802153,\n",
       " 'beta est:0.9609999999999999 gamma est:0.030999999999999996': 652551.2280196743,\n",
       " 'beta est:0.9709999999999999 gamma est:0.030999999999999996': 653204.2607755922,\n",
       " 'beta est:0.9809999999999999 gamma est:0.030999999999999996': 653842.8811366586,\n",
       " 'beta est:0.9909999999999999 gamma est:0.030999999999999996': 654467.5620582798,\n",
       " 'beta est:0.001 gamma est:0.040999999999999995': 9218.834861851656,\n",
       " 'beta est:0.011 gamma est:0.040999999999999995': 9215.223083499219,\n",
       " 'beta est:0.020999999999999998 gamma est:0.040999999999999995': 9209.709286435384,\n",
       " 'beta est:0.030999999999999996 gamma est:0.040999999999999995': 9200.948308966821,\n",
       " 'beta est:0.040999999999999995 gamma est:0.040999999999999995': 9186.480053811154,\n",
       " 'beta est:0.05099999999999999 gamma est:0.040999999999999995': 9161.713612489148,\n",
       " 'beta est:0.06099999999999999 gamma est:0.040999999999999995': 9117.929135516386,\n",
       " 'beta est:0.071 gamma est:0.040999999999999995': 9038.315923114587,\n",
       " 'beta est:0.08099999999999999 gamma est:0.040999999999999995': 8890.092836159476,\n",
       " 'beta est:0.09099999999999998 gamma est:0.040999999999999995': 8608.966508862266,\n",
       " 'beta est:0.10099999999999998 gamma est:0.040999999999999995': 8069.7054280339935,\n",
       " 'beta est:0.11099999999999999 gamma est:0.040999999999999995': 7039.768296967377,\n",
       " 'beta est:0.12099999999999998 gamma est:0.040999999999999995': 5202.005588129772,\n",
       " 'beta est:0.13099999999999998 gamma est:0.040999999999999995': 3900.5876942988675,\n",
       " 'beta est:0.141 gamma est:0.040999999999999995': 10736.582212907166,\n",
       " 'beta est:0.15099999999999997 gamma est:0.040999999999999995': 26836.594746384275,\n",
       " 'beta est:0.16099999999999998 gamma est:0.040999999999999995': 54087.51982424212,\n",
       " 'beta est:0.17099999999999999 gamma est:0.040999999999999995': 93095.74152276317,\n",
       " 'beta est:0.18099999999999997 gamma est:0.040999999999999995': 139919.4211512391,\n",
       " 'beta est:0.19099999999999998 gamma est:0.040999999999999995': 188226.64394124903,\n",
       " 'beta est:0.20099999999999996 gamma est:0.040999999999999995': 233312.35215611363,\n",
       " 'beta est:0.21099999999999997 gamma est:0.040999999999999995': 273255.01052971545,\n",
       " 'beta est:0.22099999999999997 gamma est:0.040999999999999995': 307908.2936468507,\n",
       " 'beta est:0.23099999999999996 gamma est:0.040999999999999995': 337835.7081698968,\n",
       " 'beta est:0.24099999999999996 gamma est:0.040999999999999995': 363758.8878976801,\n",
       " 'beta est:0.25099999999999995 gamma est:0.040999999999999995': 386350.06852663564,\n",
       " 'beta est:0.26099999999999995 gamma est:0.040999999999999995': 406176.56997731474,\n",
       " 'beta est:0.27099999999999996 gamma est:0.040999999999999995': 423700.2591385337,\n",
       " 'beta est:0.28099999999999997 gamma est:0.040999999999999995': 439293.0218443053,\n",
       " 'beta est:0.291 gamma est:0.040999999999999995': 453254.30852103094,\n",
       " 'beta est:0.30099999999999993 gamma est:0.040999999999999995': 465826.469012359,\n",
       " 'beta est:0.31099999999999994 gamma est:0.040999999999999995': 477207.051584968,\n",
       " 'beta est:0.32099999999999995 gamma est:0.040999999999999995': 487558.3526321451,\n",
       " 'beta est:0.33099999999999996 gamma est:0.040999999999999995': 497014.7585498706,\n",
       " 'beta est:0.34099999999999997 gamma est:0.040999999999999995': 505688.3894710204,\n",
       " 'beta est:0.3509999999999999 gamma est:0.040999999999999995': 513673.4535430604,\n",
       " 'beta est:0.36099999999999993 gamma est:0.040999999999999995': 521049.6384969542,\n",
       " 'beta est:0.37099999999999994 gamma est:0.040999999999999995': 527884.7713397318,\n",
       " 'beta est:0.38099999999999995 gamma est:0.040999999999999995': 534236.9281728066,\n",
       " 'beta est:0.39099999999999996 gamma est:0.040999999999999995': 540156.1200347128,\n",
       " 'beta est:0.4009999999999999 gamma est:0.040999999999999995': 545685.6461967732,\n",
       " 'beta est:0.4109999999999999 gamma est:0.040999999999999995': 550863.1878454468,\n",
       " 'beta est:0.42099999999999993 gamma est:0.040999999999999995': 555721.6949129809,\n",
       " 'beta est:0.43099999999999994 gamma est:0.040999999999999995': 560290.1092249734,\n",
       " 'beta est:0.44099999999999995 gamma est:0.040999999999999995': 564593.9572216613,\n",
       " 'beta est:0.45099999999999996 gamma est:0.040999999999999995': 568655.8391901356,\n",
       " 'beta est:0.4609999999999999 gamma est:0.040999999999999995': 572495.8373973676,\n",
       " 'beta est:0.4709999999999999 gamma est:0.040999999999999995': 576131.8572732273,\n",
       " 'beta est:0.4809999999999999 gamma est:0.040999999999999995': 579579.9141691367,\n",
       " 'beta est:0.49099999999999994 gamma est:0.040999999999999995': 582854.376898267,\n",
       " 'beta est:0.5009999999999999 gamma est:0.040999999999999995': 585968.1739232779,\n",
       " 'beta est:0.5109999999999999 gamma est:0.040999999999999995': 588932.9695587602,\n",
       " 'beta est:0.5209999999999999 gamma est:0.040999999999999995': 591759.3147954048,\n",
       " 'beta est:0.5309999999999999 gamma est:0.040999999999999995': 594456.7773402178,\n",
       " 'beta est:0.5409999999999999 gamma est:0.040999999999999995': 597034.0540053957,\n",
       " 'beta est:0.5509999999999999 gamma est:0.040999999999999995': 599499.0683152925,\n",
       " 'beta est:0.5609999999999999 gamma est:0.040999999999999995': 601859.0550762963,\n",
       " 'beta est:0.571 gamma est:0.040999999999999995': 604120.6351009979,\n",
       " 'beta est:0.581 gamma est:0.040999999999999995': 606289.8790275777,\n",
       " 'beta est:0.5909999999999999 gamma est:0.040999999999999995': 608372.3645623885,\n",
       " 'beta est:0.6009999999999999 gamma est:0.040999999999999995': 610373.2258812415,\n",
       " 'beta est:0.6109999999999999 gamma est:0.040999999999999995': 612297.1974325158,\n",
       " 'beta est:0.6209999999999999 gamma est:0.040999999999999995': 614148.6522862052,\n",
       " 'beta est:0.6309999999999999 gamma est:0.040999999999999995': 615931.6368531317,\n",
       " 'beta est:0.6409999999999999 gamma est:0.040999999999999995': 617649.9003038711,\n",
       " 'beta est:0.6509999999999999 gamma est:0.040999999999999995': 619306.9219966521,\n",
       " 'beta est:0.6609999999999999 gamma est:0.040999999999999995': 620905.9352736456,\n",
       " 'beta est:0.6709999999999999 gamma est:0.040999999999999995': 622449.9486559968,\n",
       " 'beta est:0.6809999999999999 gamma est:0.040999999999999995': 623941.7656493955,\n",
       " 'beta est:0.691 gamma est:0.040999999999999995': 625384.0014838995,\n",
       " 'beta est:0.7009999999999998 gamma est:0.040999999999999995': 626779.0989451815,\n",
       " 'beta est:0.7109999999999999 gamma est:0.040999999999999995': 628129.3422418204,\n",
       " 'beta est:0.7209999999999999 gamma est:0.040999999999999995': 629436.8698089726,\n",
       " 'beta est:0.7309999999999999 gamma est:0.040999999999999995': 630703.6858431313,\n",
       " 'beta est:0.7409999999999999 gamma est:0.040999999999999995': 631931.6704111148,\n",
       " 'beta est:0.7509999999999999 gamma est:0.040999999999999995': 633122.5894822823,\n",
       " 'beta est:0.7609999999999999 gamma est:0.040999999999999995': 634278.1028815564,\n",
       " 'beta est:0.7709999999999999 gamma est:0.040999999999999995': 635399.7726115773,\n",
       " 'beta est:0.7809999999999999 gamma est:0.040999999999999995': 636489.0697690144,\n",
       " 'beta est:0.7909999999999999 gamma est:0.040999999999999995': 637547.3812163736,\n",
       " 'beta est:0.8009999999999998 gamma est:0.040999999999999995': 638576.0152854808,\n",
       " 'beta est:0.8109999999999998 gamma est:0.040999999999999995': 639576.2077051033,\n",
       " 'beta est:0.8209999999999998 gamma est:0.040999999999999995': 640549.1261196265,\n",
       " 'beta est:0.8309999999999998 gamma est:0.040999999999999995': 641495.8751763825,\n",
       " 'beta est:0.8409999999999999 gamma est:0.040999999999999995': 642417.5002025564,\n",
       " 'beta est:0.8509999999999999 gamma est:0.040999999999999995': 643314.9916831214,\n",
       " 'beta est:0.8609999999999999 gamma est:0.040999999999999995': 644189.2884496482,\n",
       " 'beta est:0.8709999999999999 gamma est:0.040999999999999995': 645041.2811373133,\n",
       " 'beta est:0.8809999999999999 gamma est:0.040999999999999995': 645871.8152027611,\n",
       " 'beta est:0.8909999999999999 gamma est:0.040999999999999995': 646681.6937586741,\n",
       " 'beta est:0.9009999999999999 gamma est:0.040999999999999995': 647471.6802300236,\n",
       " 'beta est:0.9109999999999998 gamma est:0.040999999999999995': 648242.5007905087,\n",
       " 'beta est:0.9209999999999998 gamma est:0.040999999999999995': 648994.8465899276,\n",
       " 'beta est:0.9309999999999998 gamma est:0.040999999999999995': 649729.3758259303,\n",
       " 'beta est:0.9409999999999998 gamma est:0.040999999999999995': 650446.715659912,\n",
       " 'beta est:0.9509999999999998 gamma est:0.040999999999999995': 651147.464019067,\n",
       " 'beta est:0.9609999999999999 gamma est:0.040999999999999995': 651832.1912913007,\n",
       " 'beta est:0.9709999999999999 gamma est:0.040999999999999995': 652501.4419659447,\n",
       " 'beta est:0.9809999999999999 gamma est:0.040999999999999995': 653155.7361221231,\n",
       " 'beta est:0.9909999999999999 gamma est:0.040999999999999995': 653795.5708115571,\n",
       " 'beta est:0.001 gamma est:0.05099999999999999': 9218.882342780798,\n",
       " 'beta est:0.011 gamma est:0.05099999999999999': 9215.94574328112,\n",
       " 'beta est:0.020999999999999998 gamma est:0.05099999999999999': 9211.677472661533,\n",
       " 'beta est:0.030999999999999996 gamma est:0.05099999999999999': 9205.227141662857,\n",
       " 'beta est:0.040999999999999995 gamma est:0.05099999999999999': 9195.086969051625,\n",
       " 'beta est:0.05099999999999999 gamma est:0.05099999999999999': 9178.521219616583,\n",
       " 'beta est:0.06099999999999999 gamma est:0.05099999999999999': 9150.462353245905,\n",
       " 'beta est:0.071 gamma est:0.05099999999999999': 9101.351486834488,\n",
       " 'beta est:0.08099999999999999 gamma est:0.05099999999999999': 9012.8791648707,\n",
       " 'beta est:0.09099999999999998 gamma est:0.05099999999999999': 8849.563429019805,\n",
       " 'beta est:0.10099999999999998 gamma est:0.05099999999999999': 8542.26466493631,\n",
       " 'beta est:0.11099999999999999 gamma est:0.05099999999999999': 7957.420608745061,\n",
       " 'beta est:0.12099999999999998 gamma est:0.05099999999999999': 6851.143411214093,\n",
       " 'beta est:0.13099999999999998 gamma est:0.05099999999999999': 4925.013779785729,\n",
       " 'beta est:0.141 gamma est:0.05099999999999999': 4075.8622215764817,\n",
       " 'beta est:0.15099999999999997 gamma est:0.05099999999999999': 11756.148700570206,\n",
       " 'beta est:0.16099999999999998 gamma est:0.05099999999999999': 28510.603773179166,\n",
       " 'beta est:0.17099999999999999 gamma est:0.05099999999999999': 56261.174490877485,\n",
       " 'beta est:0.18099999999999997 gamma est:0.05099999999999999': 95209.06937628542,\n",
       " 'beta est:0.19099999999999998 gamma est:0.05099999999999999': 141257.58183075575,\n",
       " 'beta est:0.20099999999999996 gamma est:0.05099999999999999': 188424.66351094344,\n",
       " 'beta est:0.21099999999999997 gamma est:0.05099999999999999': 232443.49972877765,\n",
       " 'beta est:0.22099999999999997 gamma est:0.05099999999999999': 271597.1225454287,\n",
       " 'beta est:0.23099999999999996 gamma est:0.05099999999999999': 305751.64840062545,\n",
       " 'beta est:0.24099999999999996 gamma est:0.05099999999999999': 335410.7654407613,\n",
       " 'beta est:0.25099999999999995 gamma est:0.05099999999999999': 361228.66477432114,\n",
       " 'beta est:0.26099999999999995 gamma est:0.05099999999999999': 383822.84443811007,\n",
       " 'beta est:0.27099999999999996 gamma est:0.05099999999999999': 403720.89817505394,\n",
       " 'beta est:0.28099999999999997 gamma est:0.05099999999999999': 421357.22501841444,\n",
       " 'beta est:0.291 gamma est:0.05099999999999999': 437085.18958723976,\n",
       " 'beta est:0.30099999999999993 gamma est:0.05099999999999999': 451191.95995540195,\n",
       " 'beta est:0.31099999999999994 gamma est:0.05099999999999999': 463911.8703696274,\n",
       " 'beta est:0.32099999999999995 gamma est:0.05099999999999999': 475437.3523605595,\n",
       " 'beta est:0.33099999999999996 gamma est:0.05099999999999999': 485927.54771138856,\n",
       " 'beta est:0.34099999999999997 gamma est:0.05099999999999999': 495515.014159885,\n",
       " 'beta est:0.3509999999999999 gamma est:0.05099999999999999': 504310.93361292104,\n",
       " 'beta est:0.36099999999999993 gamma est:0.05099999999999999': 512409.1691581617,\n",
       " 'beta est:0.37099999999999994 gamma est:0.05099999999999999': 519889.45346534066,\n",
       " 'beta est:0.38099999999999995 gamma est:0.05099999999999999': 526819.9087023862,\n",
       " 'beta est:0.39099999999999996 gamma est:0.05099999999999999': 533259.0592399325,\n",
       " 'beta est:0.4009999999999999 gamma est:0.05099999999999999': 539257.4501298239,\n",
       " 'beta est:0.4109999999999999 gamma est:0.05099999999999999': 544858.9549980649,\n",
       " 'beta est:0.42099999999999993 gamma est:0.05099999999999999': 550101.838162825,\n",
       " 'beta est:0.43099999999999994 gamma est:0.05099999999999999': 555019.6217470677,\n",
       " 'beta est:0.44099999999999995 gamma est:0.05099999999999999': 559641.7945944148,\n",
       " 'beta est:0.45099999999999996 gamma est:0.05099999999999999': 563994.3974532887,\n",
       " 'beta est:0.4609999999999999 gamma est:0.05099999999999999': 568100.5090338748,\n",
       " 'beta est:0.4709999999999999 gamma est:0.05099999999999999': 571980.6519052007,\n",
       " 'beta est:0.4809999999999999 gamma est:0.05099999999999999': 575653.1339609501,\n",
       " 'beta est:0.49099999999999994 gamma est:0.05099999999999999': 579134.3370503918,\n",
       " 'beta est:0.5009999999999999 gamma est:0.05099999999999999': 582438.9616397057,\n",
       " 'beta est:0.5109999999999999 gamma est:0.05099999999999999': 585580.2356534369,\n",
       " 'beta est:0.5209999999999999 gamma est:0.05099999999999999': 588570.0927557192,\n",
       " 'beta est:0.5309999999999999 gamma est:0.05099999999999999': 591419.3261257722,\n",
       " 'beta est:0.5409999999999999 gamma est:0.05099999999999999': 594137.7206085676,\n",
       " 'beta est:0.5509999999999999 gamma est:0.05099999999999999': 596734.1677085996,\n",
       " 'beta est:0.5609999999999999 gamma est:0.05099999999999999': 599216.7649828471,\n",
       " 'beta est:0.571 gamma est:0.05099999999999999': 601592.9033382034,\n",
       " 'beta est:0.581 gamma est:0.05099999999999999': 603869.3430018687,\n",
       " 'beta est:0.5909999999999999 gamma est:0.05099999999999999': 606052.2793924545,\n",
       " 'beta est:0.6009999999999999 gamma est:0.05099999999999999': 608147.4016846227,\n",
       " 'beta est:0.6109999999999999 gamma est:0.05099999999999999': 610159.943829886,\n",
       " 'beta est:0.6209999999999999 gamma est:0.05099999999999999': 612094.72947861,\n",
       " 'beta est:0.6309999999999999 gamma est:0.05099999999999999': 613956.2118086156,\n",
       " 'beta est:0.6409999999999999 gamma est:0.05099999999999999': 615748.5084707392,\n",
       " 'beta est:0.6509999999999999 gamma est:0.05099999999999999': 617475.4328920594,\n",
       " 'beta est:0.6609999999999999 gamma est:0.05099999999999999': 619140.5218594121,\n",
       " 'beta est:0.6709999999999999 gamma est:0.05099999999999999': 620747.0602950756,\n",
       " 'beta est:0.6809999999999999 gamma est:0.05099999999999999': 622298.1034083889,\n",
       " 'beta est:0.691 gamma est:0.05099999999999999': 623796.4960538419,\n",
       " 'beta est:0.7009999999999998 gamma est:0.05099999999999999': 625244.8913970469,\n",
       " 'beta est:0.7109999999999999 gamma est:0.05099999999999999': 626645.7660032568,\n",
       " 'beta est:0.7209999999999999 gamma est:0.05099999999999999': 628001.4348242205,\n",
       " 'beta est:0.7309999999999999 gamma est:0.05099999999999999': 629314.0640163395,\n",
       " 'beta est:0.7409999999999999 gamma est:0.05099999999999999': 630585.6827994591,\n",
       " 'beta est:0.7509999999999999 gamma est:0.05099999999999999': 631818.1940898924,\n",
       " 'beta est:0.7609999999999999 gamma est:0.05099999999999999': 633013.3844613127,\n",
       " 'beta est:0.7709999999999999 gamma est:0.05099999999999999': 634172.9325321285,\n",
       " 'beta est:0.7809999999999999 gamma est:0.05099999999999999': 635298.4175797033,\n",
       " 'beta est:0.7909999999999999 gamma est:0.05099999999999999': 636391.326260467,\n",
       " 'beta est:0.8009999999999998 gamma est:0.05099999999999999': 637453.0596821988,\n",
       " 'beta est:0.8109999999999998 gamma est:0.05099999999999999': 638484.9392850013,\n",
       " 'beta est:0.8209999999999998 gamma est:0.05099999999999999': 639488.2127680986,\n",
       " 'beta est:0.8309999999999998 gamma est:0.05099999999999999': 640464.0586869613,\n",
       " 'beta est:0.8409999999999999 gamma est:0.05099999999999999': 641413.5916033286,\n",
       " 'beta est:0.8509999999999999 gamma est:0.05099999999999999': 642337.8663610792,\n",
       " 'beta est:0.8609999999999999 gamma est:0.05099999999999999': 643237.8817897858,\n",
       " 'beta est:0.8709999999999999 gamma est:0.05099999999999999': 644114.5846089649,\n",
       " 'beta est:0.8809999999999999 gamma est:0.05099999999999999': 644968.8727385048,\n",
       " 'beta est:0.8909999999999999 gamma est:0.05099999999999999': 645801.5982624654,\n",
       " 'beta est:0.9009999999999999 gamma est:0.05099999999999999': 646613.5705693546,\n",
       " 'beta est:0.9109999999999998 gamma est:0.05099999999999999': 647405.558722054,\n",
       " 'beta est:0.9209999999999998 gamma est:0.05099999999999999': 648178.2942918567,\n",
       " 'beta est:0.9309999999999998 gamma est:0.05099999999999999': 648932.4733629451,\n",
       " 'beta est:0.9409999999999998 gamma est:0.05099999999999999': 649668.7587525459,\n",
       " 'beta est:0.9509999999999998 gamma est:0.05099999999999999': 650387.7817996504,\n",
       " 'beta est:0.9609999999999999 gamma est:0.05099999999999999': 651090.1444844969,\n",
       " 'beta est:0.9709999999999999 gamma est:0.05099999999999999': 651776.4208399385,\n",
       " 'beta est:0.9809999999999999 gamma est:0.05099999999999999': 652447.1589727114,\n",
       " 'beta est:0.9909999999999999 gamma est:0.05099999999999999': 653102.8820404375,\n",
       " 'beta est:0.001 gamma est:0.06099999999999999': 9218.917655857003,\n",
       " 'beta est:0.011 gamma est:0.06099999999999999': 9216.46799427381,\n",
       " 'beta est:0.020999999999999998 gamma est:0.06099999999999999': 9213.056992473468,\n",
       " 'beta est:0.030999999999999996 gamma est:0.06099999999999999': 9208.132342779832,\n",
       " 'beta est:0.040999999999999995 gamma est:0.06099999999999999': 9200.745646759786,\n",
       " 'beta est:0.05099999999999999 gamma est:0.06099999999999999': 9189.2265464522,\n",
       " 'beta est:0.06099999999999999 gamma est:0.06099999999999999': 9170.563764409582,\n",
       " 'beta est:0.071 gamma est:0.06099999999999999': 9139.213375322573,\n",
       " 'beta est:0.08099999999999999 gamma est:0.06099999999999999': 9084.778188191322,\n",
       " 'beta est:0.09099999999999998 gamma est:0.06099999999999999': 8987.452391559045,\n",
       " 'beta est:0.10099999999999998 gamma est:0.06099999999999999': 8809.061786135142,\n",
       " 'beta est:0.11099999999999999 gamma est:0.06099999999999999': 8475.654359181288,\n",
       " 'beta est:0.12099999999999998 gamma est:0.06099999999999999': 7845.487993275738,\n",
       " 'beta est:0.13099999999999998 gamma est:0.06099999999999999': 6664.21516586047,\n",
       " 'beta est:0.141 gamma est:0.06099999999999999': 4662.1619600017475,\n",
       " 'beta est:0.15099999999999997 gamma est:0.06099999999999999': 4337.332948602679,\n",
       " 'beta est:0.16099999999999998 gamma est:0.06099999999999999': 12762.676465847102,\n",
       " 'beta est:0.17099999999999999 gamma est:0.06099999999999999': 30112.004178841482,\n",
       " 'beta est:0.18099999999999997 gamma est:0.06099999999999999': 58275.534774989086,\n",
       " 'beta est:0.19099999999999998 gamma est:0.06099999999999999': 97079.6335510419,\n",
       " 'beta est:0.20099999999999996 gamma est:0.06099999999999999': 142329.49569719803,\n",
       " 'beta est:0.21099999999999997 gamma est:0.06099999999999999': 188386.15294970263,\n",
       " 'beta est:0.22099999999999997 gamma est:0.06099999999999999': 231372.1901698227,\n",
       " 'beta est:0.23099999999999996 gamma est:0.06099999999999999': 269748.0390153504,\n",
       " 'beta est:0.24099999999999996 gamma est:0.06099999999999999': 303392.19810531527,\n",
       " 'beta est:0.25099999999999995 gamma est:0.06099999999999999': 332758.0193499921,\n",
       " 'beta est:0.26099999999999995 gamma est:0.06099999999999999': 358441.19413297425,\n",
       " 'beta est:0.27099999999999996 gamma est:0.06099999999999999': 381010.3861007278,\n",
       " 'beta est:0.28099999999999997 gamma est:0.06099999999999999': 400956.6451983336,\n",
       " 'beta est:0.291 gamma est:0.06099999999999999': 418688.2384762481,\n",
       " 'beta est:0.30099999999999993 gamma est:0.06099999999999999': 434540.2320110519,\n",
       " 'beta est:0.31099999999999994 gamma est:0.06099999999999999': 448787.11605130724,\n",
       " 'beta est:0.32099999999999995 gamma est:0.06099999999999999': 461654.52000824496,\n",
       " 'beta est:0.33099999999999996 gamma est:0.06099999999999999': 473328.95355844154,\n",
       " 'beta est:0.34099999999999997 gamma est:0.06099999999999999': 483965.5948481726,\n",
       " 'beta est:0.3509999999999999 gamma est:0.06099999999999999': 493694.4144097062,\n",
       " 'beta est:0.36099999999999993 gamma est:0.06099999999999999': 502624.975350467,\n",
       " 'beta est:0.37099999999999994 gamma est:0.06099999999999999': 510850.2062987189,\n",
       " 'beta est:0.38099999999999995 gamma est:0.06099999999999999': 518449.38455664634,\n",
       " 'beta est:0.39099999999999996 gamma est:0.06099999999999999': 525490.5100052891,\n",
       " 'beta est:0.4009999999999999 gamma est:0.06099999999999999': 532032.2157675234,\n",
       " 'beta est:0.4109999999999999 gamma est:0.06099999999999999': 538125.3085104816,\n",
       " 'beta est:0.42099999999999993 gamma est:0.06099999999999999': 543814.0239557683,\n",
       " 'beta est:0.43099999999999994 gamma est:0.06099999999999999': 549137.0464783034,\n",
       " 'beta est:0.44099999999999995 gamma est:0.06099999999999999': 554128.3496018989,\n",
       " 'beta est:0.45099999999999996 gamma est:0.06099999999999999': 558817.8833298996,\n",
       " 'beta est:0.4609999999999999 gamma est:0.06099999999999999': 563232.1474598299,\n",
       " 'beta est:0.4709999999999999 gamma est:0.06099999999999999': 567394.6659935287,\n",
       " 'beta est:0.4809999999999999 gamma est:0.06099999999999999': 571326.3882374768,\n",
       " 'beta est:0.49099999999999994 gamma est:0.06099999999999999': 575046.0253888847,\n",
       " 'beta est:0.5009999999999999 gamma est:0.06099999999999999': 578570.3380962234,\n",
       " 'beta est:0.5109999999999999 gamma est:0.06099999999999999': 581914.3793904708,\n",
       " 'beta est:0.5209999999999999 gamma est:0.06099999999999999': 585091.7040164911,\n",
       " 'beta est:0.5309999999999999 gamma est:0.06099999999999999': 588114.546691738,\n",
       " 'beta est:0.5409999999999999 gamma est:0.06099999999999999': 590993.9771063442,\n",
       " 'beta est:0.5509999999999999 gamma est:0.06099999999999999': 593740.0334705354,\n",
       " 'beta est:0.5609999999999999 gamma est:0.06099999999999999': 596361.8383540498,\n",
       " 'beta est:0.571 gamma est:0.06099999999999999': 598867.7004616781,\n",
       " 'beta est:0.581 gamma est:0.06099999999999999': 601265.2025459748,\n",
       " 'beta est:0.5909999999999999 gamma est:0.06099999999999999': 603561.2788470405,\n",
       " 'beta est:0.6009999999999999 gamma est:0.06099999999999999': 605762.2829920214,\n",
       " 'beta est:0.6109999999999999 gamma est:0.06099999999999999': 607874.04743253,\n",
       " 'beta est:0.6209999999999999 gamma est:0.06099999999999999': 609901.9357807416,\n",
       " 'beta est:0.6309999999999999 gamma est:0.06099999999999999': 611850.8890823693,\n",
       " 'beta est:0.6409999999999999 gamma est:0.06099999999999999': 613725.4666083633,\n",
       " 'beta est:0.6509999999999999 gamma est:0.06099999999999999': 615529.881989809,\n",
       " 'beta est:0.6609999999999999 gamma est:0.06099999999999999': 617268.035366592,\n",
       " 'beta est:0.6709999999999999 gamma est:0.06099999999999999': 618943.5417998526,\n",
       " 'beta est:0.6809999999999999 gamma est:0.06099999999999999': 620559.7570261902,\n",
       " 'beta est:0.691 gamma est:0.06099999999999999': 622119.8003528813,\n",
       " 'beta est:0.7009999999999998 gamma est:0.06099999999999999': 623626.5747199944,\n",
       " 'beta est:0.7109999999999999 gamma est:0.06099999999999999': 625082.7854114375,\n",
       " 'beta est:0.7209999999999999 gamma est:0.06099999999999999': 626490.9565153399,\n",
       " 'beta est:0.7309999999999999 gamma est:0.06099999999999999': 627853.4458794587,\n",
       " 'beta est:0.7409999999999999 gamma est:0.06099999999999999': 629172.458548509,\n",
       " 'beta est:0.7509999999999999 gamma est:0.06099999999999999': 630450.0590601442,\n",
       " 'beta est:0.7609999999999999 gamma est:0.06099999999999999': 631688.1824148425,\n",
       " 'beta est:0.7709999999999999 gamma est:0.06099999999999999': 632888.6441523494,\n",
       " 'beta est:0.7809999999999999 gamma est:0.06099999999999999': 634053.1494637962,\n",
       " 'beta est:0.7909999999999999 gamma est:0.06099999999999999': 635183.3014643346,\n",
       " 'beta est:0.8009999999999998 gamma est:0.06099999999999999': 636280.6087802097,\n",
       " 'beta est:0.8109999999999998 gamma est:0.06099999999999999': 637346.4924594384,\n",
       " 'beta est:0.8209999999999998 gamma est:0.06099999999999999': 638382.292107493,\n",
       " 'beta est:0.8309999999999998 gamma est:0.06099999999999999': 639389.2719776008,\n",
       " 'beta est:0.8409999999999999 gamma est:0.06099999999999999': 640368.6259477985,\n",
       " 'beta est:0.8509999999999999 gamma est:0.06099999999999999': 641321.4824308921,\n",
       " 'beta est:0.8609999999999999 gamma est:0.06099999999999999': 642248.9089567016,\n",
       " 'beta est:0.8709999999999999 gamma est:0.06099999999999999': 643151.9159997769,\n",
       " 'beta est:0.8809999999999999 gamma est:0.06099999999999999': 644031.4610271557,\n",
       " 'beta est:0.8909999999999999 gamma est:0.06099999999999999': 644888.451719109,\n",
       " 'beta est:0.9009999999999999 gamma est:0.06099999999999999': 645723.7492338656,\n",
       " 'beta est:0.9109999999999998 gamma est:0.06099999999999999': 646538.1713091764,\n",
       " 'beta est:0.9209999999999998 gamma est:0.06099999999999999': 647332.4946128862,\n",
       " 'beta est:0.9309999999999998 gamma est:0.06099999999999999': 648107.4579494357,\n",
       " 'beta est:0.9409999999999998 gamma est:0.06099999999999999': 648863.76385548,\n",
       " 'beta est:0.9509999999999998 gamma est:0.06099999999999999': 649602.0812008814,\n",
       " 'beta est:0.9609999999999999 gamma est:0.06099999999999999': 650323.0469365132,\n",
       " 'beta est:0.9709999999999999 gamma est:0.06099999999999999': 651027.2682507763,\n",
       " 'beta est:0.9809999999999999 gamma est:0.06099999999999999': 651715.3240395323,\n",
       " 'beta est:0.9909999999999999 gamma est:0.06099999999999999': 652387.7667619179,\n",
       " 'beta est:0.001 gamma est:0.071': 9218.944621924136,\n",
       " 'beta est:0.011 gamma est:0.071': 9216.85640837763,\n",
       " 'beta est:0.020999999999999998 gamma est:0.071': 9214.05393993202,\n",
       " 'beta est:0.030999999999999996 gamma est:0.071': 9210.168618188238,\n",
       " 'beta est:0.040999999999999995 gamma est:0.071': 9204.58770835661,\n",
       " 'beta est:0.05099999999999999 gamma est:0.071': 9196.264826938983,\n",
       " 'beta est:0.06099999999999999 gamma est:0.071': 9183.36708731692,\n",
       " 'beta est:0.071 gamma est:0.071': 9162.607777421035,\n",
       " 'beta est:0.08099999999999999 gamma est:0.071': 9127.966861359415,\n",
       " 'beta est:0.09099999999999998 gamma est:0.071': 9068.209637203701,\n",
       " 'beta est:0.10099999999999998 gamma est:0.071': 8962.03650296899,\n",
       " 'beta est:0.11099999999999999 gamma est:0.071': 8768.590134499824,\n",
       " 'beta est:0.12099999999999998 gamma est:0.071': 8409.141578597606,\n",
       " 'beta est:0.13099999999999998 gamma est:0.071': 7733.926753082581,\n",
       " 'beta est:0.141 gamma est:0.071': 6479.091584382372,\n",
       " 'beta est:0.15099999999999997 gamma est:0.071': 4415.363644717857,\n",
       " 'beta est:0.16099999999999998 gamma est:0.071': 4666.578387802675,\n",
       " 'beta est:0.17099999999999999 gamma est:0.071': 13751.982876425498,\n",
       " 'beta est:0.18099999999999997 gamma est:0.071': 31641.153848433132,\n",
       " 'beta est:0.19099999999999998 gamma est:0.071': 60138.3949818576,\n",
       " 'beta est:0.20099999999999996 gamma est:0.071': 98727.84121103758,\n",
       " 'beta est:0.21099999999999997 gamma est:0.071': 143163.9503404542,\n",
       " 'beta est:0.22099999999999997 gamma est:0.071': 188139.70762231652,\n",
       " 'beta est:0.23099999999999996 gamma est:0.071': 230124.33377755087,\n",
       " 'beta est:0.24099999999999996 gamma est:0.071': 267733.04409468407,\n",
       " 'beta est:0.25099999999999995 gamma est:0.071': 300856.5700779048,\n",
       " 'beta est:0.26099999999999995 gamma est:0.071': 329905.7565171527,\n",
       " 'beta est:0.27099999999999996 gamma est:0.071': 355425.44412381836,\n",
       " 'beta est:0.28099999999999997 gamma est:0.071': 377940.7757177502,\n",
       " 'beta est:0.291 gamma est:0.071': 397909.37638018286,\n",
       " 'beta est:0.30099999999999993 gamma est:0.071': 415714.9452998572,\n",
       " 'beta est:0.31099999999999994 gamma est:0.071': 431674.8129994431,\n",
       " 'beta est:0.32099999999999995 gamma est:0.071': 446050.77244463796,\n",
       " 'beta est:0.33099999999999996 gamma est:0.071': 459059.39352587675,\n",
       " 'beta est:0.34099999999999997 gamma est:0.071': 470880.7497108801,\n",
       " 'beta est:0.3509999999999999 gamma est:0.071': 481665.477181106,\n",
       " 'beta est:0.36099999999999993 gamma est:0.071': 491540.3740946705,\n",
       " 'beta est:0.37099999999999994 gamma est:0.071': 500612.8312441278,\n",
       " 'beta est:0.38099999999999995 gamma est:0.071': 508974.3326617952,\n",
       " 'beta est:0.39099999999999996 gamma est:0.071': 516703.2441261521,\n",
       " 'beta est:0.4009999999999999 gamma est:0.071': 523867.0445045904,\n",
       " 'beta est:0.4109999999999999 gamma est:0.071': 530524.1297528329,\n",
       " 'beta est:0.42099999999999993 gamma est:0.071': 536725.2745757318,\n",
       " 'beta est:0.43099999999999994 gamma est:0.071': 542514.8275142602,\n",
       " 'beta est:0.44099999999999995 gamma est:0.071': 547931.6892401525,\n",
       " 'beta est:0.45099999999999996 gamma est:0.071': 553010.1155908466,\n",
       " 'beta est:0.4609999999999999 gamma est:0.071': 557780.3837667193,\n",
       " 'beta est:0.4709999999999999 gamma est:0.071': 562269.3444301779,\n",
       " 'beta est:0.4809999999999999 gamma est:0.071': 566500.8855074884,\n",
       " 'beta est:0.49099999999999994 gamma est:0.071': 570496.3213634669,\n",
       " 'beta est:0.5009999999999999 gamma est:0.071': 574274.7231487294,\n",
       " 'beta est:0.5109999999999999 gamma est:0.071': 577853.2015054896,\n",
       " 'beta est:0.5209999999999999 gamma est:0.071': 581247.1453392156,\n",
       " 'beta est:0.5309999999999999 gamma est:0.071': 584470.4299905682,\n",
       " 'beta est:0.5409999999999999 gamma est:0.071': 587535.592965654,\n",
       " 'beta est:0.5509999999999999 gamma est:0.071': 590453.9889953627,\n",
       " 'beta est:0.5609999999999999 gamma est:0.071': 593235.9230299774,\n",
       " 'beta est:0.571 gamma est:0.071': 595890.7664166411,\n",
       " 'beta est:0.581 gamma est:0.071': 598427.0590250635,\n",
       " 'beta est:0.5909999999999999 gamma est:0.071': 600852.5980028305,\n",
       " 'beta est:0.6009999999999999 gamma est:0.071': 603174.5155009483,\n",
       " 'beta est:0.6109999999999999 gamma est:0.071': 605399.3480462235,\n",
       " 'beta est:0.6209999999999999 gamma est:0.071': 607533.096199532,\n",
       " 'beta est:0.6309999999999999 gamma est:0.071': 609581.2782227923,\n",
       " 'beta est:0.6409999999999999 gamma est:0.071': 611548.9770811205,\n",
       " 'beta est:0.6509999999999999 gamma est:0.071': 613440.8820324257,\n",
       " 'beta est:0.6609999999999999 gamma est:0.071': 615261.3259175284,\n",
       " 'beta est:0.6709999999999999 gamma est:0.071': 617014.3176521816,\n",
       " 'beta est:0.6809999999999999 gamma est:0.071': 618703.5722757922,\n",
       " 'beta est:0.691 gamma est:0.071': 620332.5364867658,\n",
       " 'beta est:0.7009999999999998 gamma est:0.071': 621904.4126544455,\n",
       " 'beta est:0.7109999999999999 gamma est:0.071': 623422.1796843216,\n",
       " 'beta est:0.7209999999999999 gamma est:0.071': 624888.612188572,\n",
       " 'beta est:0.7309999999999999 gamma est:0.071': 626306.2974886446,\n",
       " 'beta est:0.7409999999999999 gamma est:0.071': 627677.6511793726,\n",
       " 'beta est:0.7509999999999999 gamma est:0.071': 629004.9310042766,\n",
       " 'beta est:0.7609999999999999 gamma est:0.071': 630290.2495929378,\n",
       " 'beta est:0.7709999999999999 gamma est:0.071': 631535.5856980195,\n",
       " 'beta est:0.7809999999999999 gamma est:0.071': 632742.7949697732,\n",
       " 'beta est:0.7909999999999999 gamma est:0.071': 633913.6190843544,\n",
       " 'beta est:0.8009999999999998 gamma est:0.071': 635049.6946843653,\n",
       " 'beta est:0.8109999999999998 gamma est:0.071': 636152.5608194305,\n",
       " 'beta est:0.8209999999999998 gamma est:0.071': 637223.6663750672,\n",
       " 'beta est:0.8309999999999998 gamma est:0.071': 638264.3765347803,\n",
       " 'beta est:0.8409999999999999 gamma est:0.071': 639275.9787541789,\n",
       " 'beta est:0.8509999999999999 gamma est:0.071': 640259.6882443612,\n",
       " 'beta est:0.8609999999999999 gamma est:0.071': 641216.6529500857,\n",
       " 'beta est:0.8709999999999999 gamma est:0.071': 642147.9582403667,\n",
       " 'beta est:0.8809999999999999 gamma est:0.071': 643054.6310546302,\n",
       " 'beta est:0.8909999999999999 gamma est:0.071': 643937.6438278769,\n",
       " 'beta est:0.9009999999999999 gamma est:0.071': 644797.91805978,\n",
       " 'beta est:0.9109999999999998 gamma est:0.071': 645636.3276217225,\n",
       " 'beta est:0.9209999999999998 gamma est:0.071': 646453.7018049585,\n",
       " 'beta est:0.9309999999999998 gamma est:0.071': 647250.8281652557,\n",
       " 'beta est:0.9409999999999998 gamma est:0.071': 648028.4551394256,\n",
       " 'beta est:0.9509999999999998 gamma est:0.071': 648787.2944971287,\n",
       " 'beta est:0.9609999999999999 gamma est:0.071': 649528.0232902584,\n",
       " 'beta est:0.9709999999999999 gamma est:0.071': 650251.2864384892,\n",
       " 'beta est:0.9809999999999999 gamma est:0.071': 650957.6980937729,\n",
       " 'beta est:0.9909999999999999 gamma est:0.071': 651647.8439029813,\n",
       " 'beta est:0.001 gamma est:0.08099999999999999': 9218.965711381114,\n",
       " 'beta est:0.011 gamma est:0.08099999999999999': 9217.153012352339,\n",
       " 'beta est:0.020999999999999998 gamma est:0.08099999999999999': 9214.79539966246,\n",
       " 'beta est:0.030999999999999996 gamma est:0.08099999999999999': 9211.640185291531,\n",
       " 'beta est:0.040999999999999995 gamma est:0.08099999999999999': 9207.280629195178,\n",
       " 'beta est:0.05099999999999999 gamma est:0.08099999999999999': 9201.043583897655,\n",
       " 'beta est:0.06099999999999999 gamma est:0.08099999999999999': 9191.784707278335,\n",
       " 'beta est:0.071 gamma est:0.08099999999999999': 9177.508637785588,\n",
       " 'beta est:0.08099999999999999 gamma est:0.08099999999999999': 9154.653347863701,\n",
       " 'beta est:0.09099999999999998 gamma est:0.08099999999999999': 9116.722993916133,\n",
       " 'beta est:0.10099999999999998 gamma est:0.08099999999999999': 9051.646227262789,\n",
       " 'beta est:0.11099999999999999 gamma est:0.08099999999999999': 8936.632413479945,\n",
       " 'beta est:0.12099999999999998 gamma est:0.08099999999999999': 8728.15074512188,\n",
       " 'beta est:0.13099999999999998 gamma est:0.08099999999999999': 8342.732247334792,\n",
       " 'beta est:0.141 gamma est:0.08099999999999999': 7622.755947115101,\n",
       " 'beta est:0.15099999999999997 gamma est:0.08099999999999999': 6295.885119499973,\n",
       " 'beta est:0.16099999999999998 gamma est:0.08099999999999999': 4186.7690501282905,\n",
       " 'beta est:0.17099999999999999 gamma est:0.08099999999999999': 5046.600096855326,\n",
       " 'beta est:0.18099999999999997 gamma est:0.08099999999999999': 14721.10120586172,\n",
       " 'beta est:0.19099999999999998 gamma est:0.08099999999999999': 33098.822978140044,\n",
       " 'beta est:0.20099999999999996 gamma est:0.08099999999999999': 61857.527052957754,\n",
       " 'beta est:0.21099999999999997 gamma est:0.08099999999999999': 100172.4669408205,\n",
       " 'beta est:0.22099999999999997 gamma est:0.08099999999999999': 143786.45856826523,\n",
       " 'beta est:0.23099999999999996 gamma est:0.08099999999999999': 187710.56890459685,\n",
       " 'beta est:0.24099999999999996 gamma est:0.08099999999999999': 228723.25400641593,\n",
       " 'beta est:0.25099999999999995 gamma est:0.08099999999999999': 265575.5495629049,\n",
       " 'beta est:0.26099999999999995 gamma est:0.08099999999999999': 298170.18491726404,\n",
       " 'beta est:0.27099999999999996 gamma est:0.08099999999999999': 326881.96060516767,\n",
       " 'beta est:0.28099999999999997 gamma est:0.08099999999999999': 352211.3795442692,\n",
       " 'beta est:0.291 gamma est:0.08099999999999999': 374644.77429902676,\n",
       " 'beta est:0.30099999999999993 gamma est:0.08099999999999999': 394609.29111727927,\n",
       " 'beta est:0.31099999999999994 gamma est:0.08099999999999999': 412465.69268397364,\n",
       " 'beta est:0.32099999999999995 gamma est:0.08099999999999999': 428514.3418503936,\n",
       " 'beta est:0.33099999999999996 gamma est:0.08099999999999999': 443004.5520216879,\n",
       " 'beta est:0.34099999999999997 gamma est:0.08099999999999999': 456143.72934787127,\n",
       " 'beta est:0.3509999999999999 gamma est:0.08099999999999999': 468105.22520422784,\n",
       " 'beta est:0.36099999999999993 gamma est:0.08099999999999999': 479034.75189275766,\n",
       " 'beta est:0.37099999999999994 gamma est:0.08099999999999999': 489055.52011317946,\n",
       " 'beta est:0.38099999999999995 gamma est:0.08099999999999999': 498272.3242384823,\n",
       " 'beta est:0.39099999999999996 gamma est:0.08099999999999999': 506774.79837517685,\n",
       " 'beta est:0.4009999999999999 gamma est:0.08099999999999999': 514640.0184061096,\n",
       " 'beta est:0.4109999999999999 gamma est:0.08099999999999999': 521934.59554795694,\n",
       " 'beta est:0.42099999999999993 gamma est:0.08099999999999999': 528716.3778556729,\n",
       " 'beta est:0.43099999999999994 gamma est:0.08099999999999999': 535035.8320771754,\n",
       " 'beta est:0.44099999999999995 gamma est:0.08099999999999999': 540937.177373112,\n",
       " 'beta est:0.45099999999999996 gamma est:0.08099999999999999': 546459.3190340962,\n",
       " 'beta est:0.4609999999999999 gamma est:0.08099999999999999': 551636.6149997349,\n",
       " 'beta est:0.4709999999999999 gamma est:0.08099999999999999': 556499.5142321278,\n",
       " 'beta est:0.4809999999999999 gamma est:0.08099999999999999': 561075.0882723347,\n",
       " 'beta est:0.49099999999999994 gamma est:0.08099999999999999': 565387.4791135739,\n",
       " 'beta est:0.5009999999999999 gamma est:0.08099999999999999': 569458.2763889718,\n",
       " 'beta est:0.5109999999999999 gamma est:0.08099999999999999': 573306.8389479849,\n",
       " 'beta est:0.5209999999999999 gamma est:0.08099999999999999': 576950.5683818666,\n",
       " 'beta est:0.5309999999999999 gamma est:0.08099999999999999': 580405.1448616949,\n",
       " 'beta est:0.5409999999999999 gamma est:0.08099999999999999': 583684.7289197776,\n",
       " 'beta est:0.5509999999999999 gamma est:0.08099999999999999': 586802.1370094448,\n",
       " 'beta est:0.5609999999999999 gamma est:0.08099999999999999': 589768.9920065696,\n",
       " 'beta est:0.571 gamma est:0.08099999999999999': 592595.8555967277,\n",
       " 'beta est:0.581 gamma est:0.08099999999999999': 595292.3442896386,\n",
       " 'beta est:0.5909999999999999 gamma est:0.08099999999999999': 597867.230129832,\n",
       " 'beta est:0.6009999999999999 gamma est:0.08099999999999999': 600328.5295189174,\n",
       " 'beta est:0.6109999999999999 gamma est:0.08099999999999999': 602683.5810090362,\n",
       " 'beta est:0.6209999999999999 gamma est:0.08099999999999999': 604939.1144611291,\n",
       " 'beta est:0.6309999999999999 gamma est:0.08099999999999999': 607101.3116615227,\n",
       " 'beta est:0.6409999999999999 gamma est:0.08099999999999999': 609175.85990683,\n",
       " 'beta est:0.6509999999999999 gamma est:0.08099999999999999': 611167.9994205432,\n",
       " 'beta est:0.6609999999999999 gamma est:0.08099999999999999': 613082.565972903,\n",
       " 'beta est:0.6709999999999999 gamma est:0.08099999999999999': 614924.0283961641,\n",
       " 'beta est:0.6809999999999999 gamma est:0.08099999999999999': 616696.5216202037,\n",
       " 'beta est:0.691 gamma est:0.08099999999999999': 618403.8772707089,\n",
       " 'beta est:0.7009999999999998 gamma est:0.08099999999999999': 620049.6500527177,\n",
       " 'beta est:0.7109999999999999 gamma est:0.08099999999999999': 621637.1421180845,\n",
       " 'beta est:0.7209999999999999 gamma est:0.08099999999999999': 623169.4246278941,\n",
       " 'beta est:0.7309999999999999 gamma est:0.08099999999999999': 624649.3570038324,\n",
       " 'beta est:0.7409999999999999 gamma est:0.08099999999999999': 626079.6052147937,\n",
       " 'beta est:0.7509999999999999 gamma est:0.08099999999999999': 627462.65703328,\n",
       " 'beta est:0.7609999999999999 gamma est:0.08099999999999999': 628800.8368208061,\n",
       " 'beta est:0.7709999999999999 gamma est:0.08099999999999999': 630096.3186110149,\n",
       " 'beta est:0.7809999999999999 gamma est:0.08099999999999999': 631351.1376820927,\n",
       " 'beta est:0.7909999999999999 gamma est:0.08099999999999999': 632567.2016658569,\n",
       " 'beta est:0.8009999999999998 gamma est:0.08099999999999999': 633746.30013792,\n",
       " 'beta est:0.8109999999999998 gamma est:0.08099999999999999': 634890.1135843733,\n",
       " 'beta est:0.8209999999999998 gamma est:0.08099999999999999': 636000.2216850788,\n",
       " 'beta est:0.8309999999999998 gamma est:0.08099999999999999': 637078.1105457769,\n",
       " 'beta est:0.8409999999999999 gamma est:0.08099999999999999': 638125.1796446802,\n",
       " 'beta est:0.8509999999999999 gamma est:0.08099999999999999': 639142.7479393005,\n",
       " 'beta est:0.8609999999999999 gamma est:0.08099999999999999': 640132.0596391027,\n",
       " 'beta est:0.8709999999999999 gamma est:0.08099999999999999': 641094.2894492828,\n",
       " 'beta est:0.8809999999999999 gamma est:0.08099999999999999': 642030.5471547935,\n",
       " 'beta est:0.8909999999999999 gamma est:0.08099999999999999': 642941.8823443081,\n",
       " 'beta est:0.9009999999999999 gamma est:0.08099999999999999': 643829.2881904448,\n",
       " 'beta est:0.9109999999999998 gamma est:0.08099999999999999': 644693.7054526402,\n",
       " 'beta est:0.9209999999999998 gamma est:0.08099999999999999': 645536.0255691949,\n",
       " 'beta est:0.9309999999999998 gamma est:0.08099999999999999': 646357.0940713609,\n",
       " 'beta est:0.9409999999999998 gamma est:0.08099999999999999': 647157.7134879224,\n",
       " 'beta est:0.9509999999999998 gamma est:0.08099999999999999': 647938.646064164,\n",
       " 'beta est:0.9609999999999999 gamma est:0.08099999999999999': 648700.6162411496,\n",
       " 'beta est:0.9709999999999999 gamma est:0.08099999999999999': 649444.312964414,\n",
       " 'beta est:0.9809999999999999 gamma est:0.08099999999999999': 650170.3918033736,\n",
       " 'beta est:0.9909999999999999 gamma est:0.08099999999999999': 650879.4770265608,\n",
       " 'beta est:0.001 gamma est:0.09099999999999998': 9218.982560062455,\n",
       " 'beta est:0.011 gamma est:0.09099999999999998': 9217.384978744627,\n",
       " 'beta est:0.020999999999999998 gamma est:0.09099999999999998': 9215.361599347136,\n",
       " 'beta est:0.030999999999999996 gamma est:0.09099999999999998': 9212.734633365553,\n",
       " 'beta est:0.040999999999999995 gamma est:0.09099999999999998': 9209.226735893375,\n",
       " 'beta est:0.05099999999999999 gamma est:0.09099999999999998': 9204.393034252213,\n",
       " 'beta est:0.06099999999999999 gamma est:0.09099999999999998': 9197.499983906795,\n",
       " 'beta est:0.071 gamma est:0.09099999999999998': 9187.305313232537,\n",
       " 'beta est:0.08099999999999999 gamma est:0.09099999999999998': 9171.65124398584,\n",
       " 'beta est:0.09099999999999998 gamma est:0.09099999999999998': 9146.700564998866,\n",
       " 'beta est:0.10099999999999998 gamma est:0.09099999999999998': 9105.481955460662,\n",
       " 'beta est:0.11099999999999999 gamma est:0.09099999999999998': 9035.08835524566,\n",
       " 'beta est:0.12099999999999998 gamma est:0.09099999999999998': 8911.241032682854,\n",
       " 'beta est:0.13099999999999998 gamma est:0.09099999999999998': 8687.745811524821,\n",
       " 'beta est:0.141 gamma est:0.09099999999999998': 8276.43230501546,\n",
       " 'beta est:0.15099999999999997 gamma est:0.09099999999999998': 7511.994515370979,\n",
       " 'beta est:0.16099999999999998 gamma est:0.09099999999999998': 6114.713098214039,\n",
       " 'beta est:0.17099999999999999 gamma est:0.09099999999999998': 3978.748455057884,\n",
       " 'beta est:0.18099999999999997 gamma est:0.09099999999999998': 5463.2799158585,\n",
       " 'beta est:0.19099999999999998 gamma est:0.09099999999999998': 15667.898061987344,\n",
       " 'beta est:0.20099999999999996 gamma est:0.09099999999999998': 34486.10786940259,\n",
       " 'beta est:0.21099999999999997 gamma est:0.09099999999999998': 63440.59789481027,\n",
       " 'beta est:0.22099999999999997 gamma est:0.09099999999999998': 101430.76144265471,\n",
       " 'beta est:0.23099999999999996 gamma est:0.09099999999999998': 144219.70188836992,\n",
       " 'beta est:0.24099999999999996 gamma est:0.09099999999999998': 187121.1071765621,\n",
       " 'beta est:0.25099999999999995 gamma est:0.09099999999999998': 227189.95594118262,\n",
       " 'beta est:0.26099999999999995 gamma est:0.09099999999999998': 263297.09685437847,\n",
       " 'beta est:0.27099999999999996 gamma est:0.09099999999999998': 295356.94256613206,\n",
       " 'beta est:0.28099999999999997 gamma est:0.09099999999999998': 323713.5913855738,\n",
       " 'beta est:0.291 gamma est:0.09099999999999998': 348828.74302291364,\n",
       " 'beta est:0.30099999999999993 gamma est:0.09099999999999998': 371154.0624714793,\n",
       " 'beta est:0.31099999999999994 gamma est:0.09099999999999998': 391088.9239472717,\n",
       " 'beta est:0.32099999999999995 gamma est:0.09099999999999998': 408972.7650130474,\n",
       " 'beta est:0.33099999999999996 gamma est:0.09099999999999998': 425089.84044064727,\n",
       " 'beta est:0.34099999999999997 gamma est:0.09099999999999998': 439677.3575071541,\n",
       " 'beta est:0.3509999999999999 gamma est:0.09099999999999998': 452933.6270492976,\n",
       " 'beta est:0.36099999999999993 gamma est:0.09099999999999998': 465025.1603828707,\n",
       " 'beta est:0.37099999999999994 gamma est:0.09099999999999998': 476092.5233991258,\n",
       " 'beta est:0.38099999999999995 gamma est:0.09099999999999998': 486255.05653482577,\n",
       " 'beta est:0.39099999999999996 gamma est:0.09099999999999998': 495614.65758735035,\n",
       " 'beta est:0.4009999999999999 gamma est:0.09099999999999998': 504258.80286236014,\n",
       " 'beta est:0.4109999999999999 gamma est:0.09099999999999998': 512262.9831106747,\n",
       " 'beta est:0.42099999999999993 gamma est:0.09099999999999998': 519692.6615259322,\n",
       " 'beta est:0.43099999999999994 gamma est:0.09099999999999998': 526604.8766921193,\n",
       " 'beta est:0.44099999999999995 gamma est:0.09099999999999998': 533049.5493373991,\n",
       " 'beta est:0.45099999999999996 gamma est:0.09099999999999998': 539070.5544357074,\n",
       " 'beta est:0.4609999999999999 gamma est:0.09099999999999998': 544706.6076675678,\n",
       " 'beta est:0.4709999999999999 gamma est:0.09099999999999998': 549991.9969314263,\n",
       " 'beta est:0.4809999999999999 gamma est:0.09099999999999998': 554957.1907121616,\n",
       " 'beta est:0.49099999999999994 gamma est:0.09099999999999998': 559629.3485122484,\n",
       " 'beta est:0.5009999999999999 gamma est:0.09099999999999998': 564032.7503697112,\n",
       " 'beta est:0.5109999999999999 gamma est:0.09099999999999998': 568189.1608381023,\n",
       " 'beta est:0.5209999999999999 gamma est:0.09099999999999998': 572118.139362709,\n",
       " 'beta est:0.5309999999999999 gamma est:0.09099999999999998': 575837.3063359979,\n",
       " 'beta est:0.5409999999999999 gamma est:0.09099999999999998': 579362.570373419,\n",
       " 'beta est:0.5509999999999999 gamma est:0.09099999999999998': 582708.326844644,\n",
       " 'beta est:0.5609999999999999 gamma est:0.09099999999999998': 585887.6275095503,\n",
       " 'beta est:0.571 gamma est:0.09099999999999998': 588912.3294624166,\n",
       " 'beta est:0.581 gamma est:0.09099999999999998': 591793.2246231848,\n",
       " 'beta est:0.5909999999999999 gamma est:0.09099999999999998': 594540.1535824949,\n",
       " 'beta est:0.6009999999999999 gamma est:0.09099999999999998': 597162.105207505,\n",
       " 'beta est:0.6109999999999999 gamma est:0.09099999999999998': 599667.304319271,\n",
       " 'beta est:0.6209999999999999 gamma est:0.09099999999999998': 602063.2898307047,\n",
       " 'beta est:0.6309999999999999 gamma est:0.09099999999999998': 604356.9817968418,\n",
       " 'beta est:0.6409999999999999 gamma est:0.09099999999999998': 606554.7432338573,\n",
       " 'beta est:0.6509999999999999 gamma est:0.09099999999999998': 608662.432883281,\n",
       " 'beta est:0.6609999999999999 gamma est:0.09099999999999998': 610685.4534332319,\n",
       " 'beta est:0.6709999999999999 gamma est:0.09099999999999998': 612628.7935421484,\n",
       " 'beta est:0.6809999999999999 gamma est:0.09099999999999998': 614497.0656145555,\n",
       " 'beta est:0.691 gamma est:0.09099999999999998': 616294.5399102633,\n",
       " 'beta est:0.7009999999999998 gamma est:0.09099999999999998': 618025.1746145523,\n",
       " 'beta est:0.7109999999999999 gamma est:0.09099999999999998': 619692.6432474649,\n",
       " 'beta est:0.7209999999999999 gamma est:0.09099999999999998': 621300.3586663933,\n",
       " 'beta est:0.7309999999999999 gamma est:0.09099999999999998': 622851.4956279274,\n",
       " 'beta est:0.7409999999999999 gamma est:0.09099999999999998': 624349.0105282307,\n",
       " 'beta est:0.7509999999999999 gamma est:0.09099999999999998': 625795.6593493094,\n",
       " 'beta est:0.7609999999999999 gamma est:0.09099999999999998': 627194.0138733265,\n",
       " 'beta est:0.7709999999999999 gamma est:0.09099999999999998': 628546.476731026,\n",
       " 'beta est:0.7809999999999999 gamma est:0.09099999999999998': 629855.29452266,\n",
       " 'beta est:0.7909999999999999 gamma est:0.09099999999999998': 631122.5702323386,\n",
       " 'beta est:0.8009999999999998 gamma est:0.09099999999999998': 632350.2743167221,\n",
       " 'beta est:0.8109999999999998 gamma est:0.09099999999999998': 633540.2546912172,\n",
       " 'beta est:0.8209999999999998 gamma est:0.09099999999999998': 634694.2459670503,\n",
       " 'beta est:0.8309999999999998 gamma est:0.09099999999999998': 635813.8780216099,\n",
       " 'beta est:0.8409999999999999 gamma est:0.09099999999999998': 636900.6836757145,\n",
       " 'beta est:0.8509999999999999 gamma est:0.09099999999999998': 637956.1055160847,\n",
       " 'beta est:0.8609999999999999 gamma est:0.09099999999999998': 638981.5026588185,\n",
       " 'beta est:0.8709999999999999 gamma est:0.09099999999999998': 639978.1563937376,\n",
       " 'beta est:0.8809999999999999 gamma est:0.09099999999999998': 640947.2757772392,\n",
       " 'beta est:0.8909999999999999 gamma est:0.09099999999999998': 641890.0025797264,\n",
       " 'beta est:0.9009999999999999 gamma est:0.09099999999999998': 642807.4158589513,\n",
       " 'beta est:0.9109999999999998 gamma est:0.09099999999999998': 643700.5361486579,\n",
       " 'beta est:0.9209999999999998 gamma est:0.09099999999999998': 644570.3294593452,\n",
       " 'beta est:0.9309999999999998 gamma est:0.09099999999999998': 645417.7107175542,\n",
       " 'beta est:0.9409999999999998 gamma est:0.09099999999999998': 646243.5472030111,\n",
       " 'beta est:0.9509999999999998 gamma est:0.09099999999999998': 647048.6615464571,\n",
       " 'beta est:0.9609999999999999 gamma est:0.09099999999999998': 647833.8346446594,\n",
       " 'beta est:0.9709999999999999 gamma est:0.09099999999999998': 648599.8081870957,\n",
       " 'beta est:0.9809999999999999 gamma est:0.09099999999999998': 649347.2871360722,\n",
       " 'beta est:0.9909999999999999 gamma est:0.09099999999999998': 650076.9418156663,\n",
       " ...}"
      ]
     },
     "execution_count": 14,
     "metadata": {},
     "output_type": "execute_result"
    }
   ],
   "source": [
    "dictionnaire_I"
   ]
  },
  {
   "cell_type": "code",
   "execution_count": 15,
   "metadata": {},
   "outputs": [],
   "source": [
    "def keyminval(d):\n",
    "    v=list(d.values())\n",
    "    u=list(d.keys())\n",
    "    return u[v.index(min(v))],min(v)"
   ]
  },
  {
   "cell_type": "code",
   "execution_count": 16,
   "metadata": {},
   "outputs": [
    {
     "data": {
      "text/plain": [
       "('beta est:0.9909999999999999 gamma est:0.9309999999999998',\n",
       " 1607.5578042975749)"
      ]
     },
     "execution_count": 16,
     "metadata": {},
     "output_type": "execute_result"
    }
   ],
   "source": [
    "keyminval(dictionnaire_I)"
   ]
  },
  {
   "cell_type": "code",
   "execution_count": 17,
   "metadata": {},
   "outputs": [
    {
     "data": {
      "text/plain": [
       "('beta est:0.9909999999999999 gamma est:0.9309999999999998',\n",
       " 1607.5578042975749)"
      ]
     },
     "execution_count": 17,
     "metadata": {},
     "output_type": "execute_result"
    }
   ],
   "source": [
    "keyminval(dictionnaire_I)\n"
   ]
  },
  {
   "cell_type": "code",
   "execution_count": 18,
   "metadata": {},
   "outputs": [
    {
     "data": {
      "text/plain": [
       "('beta est:0.9909999999999999 gamma est:0.9309999999999998',\n",
       " 1607.5578042975749)"
      ]
     },
     "execution_count": 18,
     "metadata": {},
     "output_type": "execute_result"
    }
   ],
   "source": [
    "keyminval(dictionnaire_I)"
   ]
  },
  {
   "cell_type": "code",
   "execution_count": 19,
   "metadata": {},
   "outputs": [],
   "source": [
    "def SolutionSIR(N,I0,R0,t,beta,gamma):\n",
    "    S0=N-I0-R0\n",
    "    y0 = S0, I0, R0\n",
    "    ret = odeint(deriv, y0, t, args=(N, beta, gamma))\n",
    "    St,It,Rt=ret.T\n",
    "    return St,It,Rt"
   ]
  },
  {
   "cell_type": "code",
   "execution_count": 20,
   "metadata": {},
   "outputs": [],
   "source": [
    "#St,It,Rt=SolutionSIR(4000000,1,0,np.arange(2,183),0.7509999999999999,0.691)"
   ]
  },
  {
   "cell_type": "code",
   "execution_count": 21,
   "metadata": {},
   "outputs": [],
   "source": [
    "St,It,Rt=SolutionSIR(40000,1,0,np.arange(2,183),0.990,0.930)"
   ]
  },
  {
   "cell_type": "code",
   "execution_count": 22,
   "metadata": {},
   "outputs": [
    {
     "data": {
      "image/png": "[encoded data removed]",
      "text/plain": [
       "<Figure size 360x360 with 1 Axes>"
      ]
     },
     "metadata": {
      "needs_background": "light"
     },
     "output_type": "display_data"
    }
   ],
   "source": [
    "plt.figure(figsize=(5,5))\n",
    "plt.plot(np.arange(2,183),It)\n",
    "plt.plot(np.arange(2,83),dataf_casa.Infectés)\n",
    "plt.savefig(\"casablancaRA.png\")\n",
    "plt.show()\n"
   ]
  },
  {
   "cell_type": "code",
   "execution_count": 69,
   "metadata": {},
   "outputs": [],
   "source": [
    "#dg=pd.DataFrame({\"temps\":np.arange(2,183),\"infecte\":It})\n",
    "t=[[i] for i in range(2,183)]\n",
    "I=[[int(i)] for i in It]"
   ]
  },
  {
   "cell_type": "code",
   "execution_count": 72,
   "metadata": {},
   "outputs": [
    {
     "data": {
      "text/plain": [
       "array([[  2,   1],\n",
       "       [  3,   1],\n",
       "       [  4,   1],\n",
       "       [  5,   1],\n",
       "       [  6,   1],\n",
       "       [  7,   1],\n",
       "       [  8,   1],\n",
       "       [  9,   1],\n",
       "       [ 10,   1],\n",
       "       [ 11,   1],\n",
       "       [ 12,   1],\n",
       "       [ 13,   1],\n",
       "       [ 14,   2],\n",
       "       [ 15,   2],\n",
       "       [ 16,   2],\n",
       "       [ 17,   2],\n",
       "       [ 18,   2],\n",
       "       [ 19,   2],\n",
       "       [ 20,   2],\n",
       "       [ 21,   3],\n",
       "       [ 22,   3],\n",
       "       [ 23,   3],\n",
       "       [ 24,   3],\n",
       "       [ 25,   3],\n",
       "       [ 26,   4],\n",
       "       [ 27,   4],\n",
       "       [ 28,   4],\n",
       "       [ 29,   4],\n",
       "       [ 30,   5],\n",
       "       [ 31,   5],\n",
       "       [ 32,   5],\n",
       "       [ 33,   6],\n",
       "       [ 34,   6],\n",
       "       [ 35,   7],\n",
       "       [ 36,   7],\n",
       "       [ 37,   7],\n",
       "       [ 38,   8],\n",
       "       [ 39,   8],\n",
       "       [ 40,   9],\n",
       "       [ 41,   9],\n",
       "       [ 42,  10],\n",
       "       [ 43,  11],\n",
       "       [ 44,  11],\n",
       "       [ 45,  12],\n",
       "       [ 46,  13],\n",
       "       [ 47,  13],\n",
       "       [ 48,  14],\n",
       "       [ 49,  15],\n",
       "       [ 50,  16],\n",
       "       [ 51,  17],\n",
       "       [ 52,  18],\n",
       "       [ 53,  19],\n",
       "       [ 54,  20],\n",
       "       [ 55,  21],\n",
       "       [ 56,  22],\n",
       "       [ 57,  23],\n",
       "       [ 58,  24],\n",
       "       [ 59,  25],\n",
       "       [ 60,  27],\n",
       "       [ 61,  28],\n",
       "       [ 62,  29],\n",
       "       [ 63,  31],\n",
       "       [ 64,  32],\n",
       "       [ 65,  34],\n",
       "       [ 66,  35],\n",
       "       [ 67,  37],\n",
       "       [ 68,  38],\n",
       "       [ 69,  40],\n",
       "       [ 70,  42],\n",
       "       [ 71,  43],\n",
       "       [ 72,  45],\n",
       "       [ 73,  47],\n",
       "       [ 74,  49],\n",
       "       [ 75,  50],\n",
       "       [ 76,  52],\n",
       "       [ 77,  54],\n",
       "       [ 78,  55],\n",
       "       [ 79,  57],\n",
       "       [ 80,  59],\n",
       "       [ 81,  61],\n",
       "       [ 82,  62],\n",
       "       [ 83,  64],\n",
       "       [ 84,  65],\n",
       "       [ 85,  67],\n",
       "       [ 86,  68],\n",
       "       [ 87,  69],\n",
       "       [ 88,  70],\n",
       "       [ 89,  71],\n",
       "       [ 90,  72],\n",
       "       [ 91,  73],\n",
       "       [ 92,  74],\n",
       "       [ 93,  74],\n",
       "       [ 94,  75],\n",
       "       [ 95,  75],\n",
       "       [ 96,  75],\n",
       "       [ 97,  75],\n",
       "       [ 98,  75],\n",
       "       [ 99,  75],\n",
       "       [100,  75],\n",
       "       [101,  74],\n",
       "       [102,  74],\n",
       "       [103,  73],\n",
       "       [104,  72],\n",
       "       [105,  71],\n",
       "       [106,  70],\n",
       "       [107,  69],\n",
       "       [108,  68],\n",
       "       [109,  67],\n",
       "       [110,  65],\n",
       "       [111,  64],\n",
       "       [112,  62],\n",
       "       [113,  61],\n",
       "       [114,  59],\n",
       "       [115,  58],\n",
       "       [116,  56],\n",
       "       [117,  54],\n",
       "       [118,  53],\n",
       "       [119,  51],\n",
       "       [120,  49],\n",
       "       [121,  47],\n",
       "       [122,  46],\n",
       "       [123,  44],\n",
       "       [124,  42],\n",
       "       [125,  41],\n",
       "       [126,  39],\n",
       "       [127,  38],\n",
       "       [128,  36],\n",
       "       [129,  35],\n",
       "       [130,  33],\n",
       "       [131,  32],\n",
       "       [132,  30],\n",
       "       [133,  29],\n",
       "       [134,  28],\n",
       "       [135,  26],\n",
       "       [136,  25],\n",
       "       [137,  24],\n",
       "       [138,  23],\n",
       "       [139,  22],\n",
       "       [140,  21],\n",
       "       [141,  20],\n",
       "       [142,  19],\n",
       "       [143,  18],\n",
       "       [144,  17],\n",
       "       [145,  16],\n",
       "       [146,  15],\n",
       "       [147,  14],\n",
       "       [148,  14],\n",
       "       [149,  13],\n",
       "       [150,  12],\n",
       "       [151,  11],\n",
       "       [152,  11],\n",
       "       [153,  10],\n",
       "       [154,  10],\n",
       "       [155,   9],\n",
       "       [156,   9],\n",
       "       [157,   8],\n",
       "       [158,   8],\n",
       "       [159,   7],\n",
       "       [160,   7],\n",
       "       [161,   6],\n",
       "       [162,   6],\n",
       "       [163,   6],\n",
       "       [164,   5],\n",
       "       [165,   5],\n",
       "       [166,   5],\n",
       "       [167,   4],\n",
       "       [168,   4],\n",
       "       [169,   4],\n",
       "       [170,   4],\n",
       "       [171,   3],\n",
       "       [172,   3],\n",
       "       [173,   3],\n",
       "       [174,   3],\n",
       "       [175,   3],\n",
       "       [176,   2],\n",
       "       [177,   2],\n",
       "       [178,   2],\n",
       "       [179,   2],\n",
       "       [180,   2],\n",
       "       [181,   2],\n",
       "       [182,   2]])"
      ]
     },
     "execution_count": 72,
     "metadata": {},
     "output_type": "execute_result"
    }
   ],
   "source": [
    "dg=np.hstack((t,I))\n",
    "dg\n",
    "\n"
   ]
  },
  {
   "cell_type": "code",
   "execution_count": 37,
   "metadata": {},
   "outputs": [
    {
     "data": {
      "text/plain": [
       "1.0617969955221622"
      ]
     },
     "execution_count": 37,
     "metadata": {},
     "output_type": "execute_result"
    }
   ],
   "source": [
    "dg[1][1]"
   ]
  },
  {
   "cell_type": "code",
   "execution_count": 64,
   "metadata": {},
   "outputs": [
    {
     "data": {
      "text/plain": [
       "'data_interpelles=dfff[\"Interpellés\"]\\ndata_températeur=dfff[\"Température\"]\\ndata_interpelles_casa=[]\\ndata_températeur_casa=[]\\nfor i,j in zip(data_interpelles[9::12],data_températeur[9::12]):\\n    data_interpelles_casa.append(i)\\n    data_températeur_casa.append(j)\\ndata_interpelles_casa.insert(len(data_températeur_casa),73)\\ndata_températeur_casa.insert(len(data_températeur_casa),25)  \\n'"
      ]
     },
     "execution_count": 64,
     "metadata": {},
     "output_type": "execute_result"
    }
   ],
   "source": [
    "'''data_interpelles=dfff[\"Interpellés\"]\n",
    "data_températeur=dfff[\"Température\"]\n",
    "data_interpelles_casa=[]\n",
    "data_températeur_casa=[]\n",
    "for i,j in zip(data_interpelles[9::12],data_températeur[9::12]):\n",
    "    data_interpelles_casa.append(i)\n",
    "    data_températeur_casa.append(j)\n",
    "data_interpelles_casa.insert(len(data_températeur_casa),73)\n",
    "data_températeur_casa.insert(len(data_températeur_casa),25)  \n",
    "'''"
   ]
  },
  {
   "cell_type": "markdown",
   "metadata": {},
   "source": [
    "## Région marrakeche"
   ]
  },
  {
   "cell_type": "code",
   "execution_count": 78,
   "metadata": {},
   "outputs": [],
   "source": [
    "dfmarr=pd.read_excel(r\"C:\\Users\\youne\\Desktop\\pfa\\DataFrame.xlsx\",\"Marrakech-asfi\")\n"
   ]
  },
  {
   "cell_type": "code",
   "execution_count": 79,
   "metadata": {},
   "outputs": [],
   "source": [
    "imputer_mean=SimpleImputer(missing_values=np.nan,strategy=\"mean\") \n",
    "df_marr_inf_recu=imputer_mean.fit_transform(dfmarr[['infecté','récupéré']])\n"
   ]
  },
  {
   "cell_type": "code",
   "execution_count": 80,
   "metadata": {},
   "outputs": [
    {
     "name": "stdout",
     "output_type": "stream",
     "text": [
      "(80,)\n",
      "(80,)\n",
      "(80,)\n"
     ]
    }
   ],
   "source": [
    "df_marr_inf_recu=df_marr_inf_recu.T\n",
    "tt=dfmarr[\"date\"]\n",
    "print(tt.shape)\n",
    "print(df_marr_inf_recu[0].shape)\n",
    "print(dfmarr[\"morts\"].shape)"
   ]
  },
  {
   "cell_type": "code",
   "execution_count": 81,
   "metadata": {},
   "outputs": [
    {
     "name": "stderr",
     "output_type": "stream",
     "text": [
      "E:\\Anconda\\lib\\site-packages\\ipykernel_launcher.py:1: SettingWithCopyWarning: \n",
      "A value is trying to be set on a copy of a slice from a DataFrame\n",
      "\n",
      "See the caveats in the documentation: http://pandas.pydata.org/pandas-docs/stable/user_guide/indexing.html#returning-a-view-versus-a-copy\n",
      "  \"\"\"Entry point for launching an IPython kernel.\n"
     ]
    }
   ],
   "source": [
    "dfmarr[\"morts\"][np.isnan(dfmarr[\"morts\"])]=0"
   ]
  },
  {
   "cell_type": "code",
   "execution_count": 82,
   "metadata": {},
   "outputs": [
    {
     "data": {
      "text/plain": [
       "0.0"
      ]
     },
     "execution_count": 82,
     "metadata": {},
     "output_type": "execute_result"
    }
   ],
   "source": [
    "dfmarr[\"morts\"][42]"
   ]
  },
  {
   "cell_type": "code",
   "execution_count": 83,
   "metadata": {},
   "outputs": [
    {
     "data": {
      "image/png": "[encoded data removed]",
      "text/plain": [
       "<Figure size 432x288 with 1 Axes>"
      ]
     },
     "metadata": {
      "needs_background": "light"
     },
     "output_type": "display_data"
    }
   ],
   "source": [
    "plot_data(df_marr_inf_recu,dfmarr,tt)"
   ]
  },
  {
   "cell_type": "code",
   "execution_count": 87,
   "metadata": {},
   "outputs": [],
   "source": [
    "Suscptible=[]\n",
    "S=30000\n",
    "for i in range(80):\n",
    "    S=S-df_marr_inf_recu[0][i]-df_marr_inf_recu[1][i]\n",
    "    Suscptible.append(S)\n",
    "dataf_marr= pd.DataFrame({'la_date':tt,'suscptible':Suscptible,'Infectés':df_marr_inf_recu[0],'récupérés':df_marr_inf_recu[1],'morts':dfmarr[\"morts\"]})\n"
   ]
  },
  {
   "cell_type": "code",
   "execution_count": 89,
   "metadata": {},
   "outputs": [
    {
     "name": "stdout",
     "output_type": "stream",
     "text": [
      "36.0\n",
      "33.0\n"
     ]
    },
    {
     "name": "stderr",
     "output_type": "stream",
     "text": [
      "E:\\Anconda\\lib\\site-packages\\ipykernel_launcher.py:8: SettingWithCopyWarning: \n",
      "A value is trying to be set on a copy of a slice from a DataFrame\n",
      "\n",
      "See the caveats in the documentation: http://pandas.pydata.org/pandas-docs/stable/user_guide/indexing.html#returning-a-view-versus-a-copy\n",
      "  \n"
     ]
    }
   ],
   "source": [
    "dataf_marr=Dectect_aberrante(dataf_marr)"
   ]
  },
  {
   "cell_type": "code",
   "execution_count": 90,
   "metadata": {},
   "outputs": [
    {
     "data": {
      "text/plain": [
       "[<matplotlib.lines.Line2D at 0x1ffc0ac1f48>]"
      ]
     },
     "execution_count": 90,
     "metadata": {},
     "output_type": "execute_result"
    },
    {
     "data": {
      "image/png": "[encoded data removed]",
      "text/plain": [
       "<Figure size 432x288 with 1 Axes>"
      ]
     },
     "metadata": {
      "needs_background": "light"
     },
     "output_type": "display_data"
    }
   ],
   "source": [
    "plt.plot(dataf_marr.la_date,dataf_marr.Infectés)"
   ]
  },
  {
   "cell_type": "code",
   "execution_count": 91,
   "metadata": {},
   "outputs": [],
   "source": [
    "dictionnaire_II,dictionnaire_R=filtrage(30000,1,0,np.arange(2,82),dataf_marr)"
   ]
  },
  {
   "cell_type": "code",
   "execution_count": 92,
   "metadata": {},
   "outputs": [
    {
     "data": {
      "text/plain": [
       "('beta est:0.9409999999999998 gamma est:0.8809999999999999',\n",
       " 1153.5594195107174)"
      ]
     },
     "execution_count": 92,
     "metadata": {},
     "output_type": "execute_result"
    }
   ],
   "source": [
    "keyminval(dictionnaire_II)"
   ]
  },
  {
   "cell_type": "code",
   "execution_count": null,
   "metadata": {},
   "outputs": [],
   "source": []
  },
  {
   "cell_type": "code",
   "execution_count": 93,
   "metadata": {},
   "outputs": [],
   "source": [
    "Stt,Itt,Rtt=SolutionSIR(30000,1,0,np.arange(2,183),0.940,0.88)"
   ]
  },
  {
   "cell_type": "code",
   "execution_count": 97,
   "metadata": {},
   "outputs": [
    {
     "data": {
      "image/png": "[encoded data removed]",
      "text/plain": [
       "<Figure size 360x360 with 1 Axes>"
      ]
     },
     "metadata": {
      "needs_background": "light"
     },
     "output_type": "display_data"
    }
   ],
   "source": [
    "plt.figure(figsize=(5,5))\n",
    "plt.plot(np.arange(2,183),Itt)\n",
    "plt.plot(np.arange(2,82),dataf_marr.Infectés)\n",
    "plt.savefig(\"marrakcheRA.png\")\n",
    "plt.show()\n",
    "\n"
   ]
  },
  {
   "cell_type": "markdown",
   "metadata": {},
   "source": [
    "## Région Rabat"
   ]
  },
  {
   "cell_type": "code",
   "execution_count": 98,
   "metadata": {},
   "outputs": [
    {
     "data": {
      "text/html": [
       "<div>\n",
       "<style scoped>\n",
       "    .dataframe tbody tr th:only-of-type {\n",
       "        vertical-align: middle;\n",
       "    }\n",
       "\n",
       "    .dataframe tbody tr th {\n",
       "        vertical-align: top;\n",
       "    }\n",
       "\n",
       "    .dataframe thead th {\n",
       "        text-align: right;\n",
       "    }\n",
       "</style>\n",
       "<table border=\"1\" class=\"dataframe\">\n",
       "  <thead>\n",
       "    <tr style=\"text-align: right;\">\n",
       "      <th></th>\n",
       "      <th>date</th>\n",
       "      <th>infecte</th>\n",
       "      <th>morts</th>\n",
       "      <th>recuperé</th>\n",
       "      <th>temperature</th>\n",
       "    </tr>\n",
       "  </thead>\n",
       "  <tbody>\n",
       "    <tr>\n",
       "      <td>0</td>\n",
       "      <td>2020-03-02</td>\n",
       "      <td>0.0</td>\n",
       "      <td>0.0</td>\n",
       "      <td>0.0</td>\n",
       "      <td>16.0</td>\n",
       "    </tr>\n",
       "    <tr>\n",
       "      <td>1</td>\n",
       "      <td>2020-03-03</td>\n",
       "      <td>0.0</td>\n",
       "      <td>0.0</td>\n",
       "      <td>0.0</td>\n",
       "      <td>15.5</td>\n",
       "    </tr>\n",
       "    <tr>\n",
       "      <td>2</td>\n",
       "      <td>2020-03-04</td>\n",
       "      <td>0.0</td>\n",
       "      <td>0.0</td>\n",
       "      <td>0.0</td>\n",
       "      <td>16.0</td>\n",
       "    </tr>\n",
       "    <tr>\n",
       "      <td>3</td>\n",
       "      <td>2020-03-05</td>\n",
       "      <td>0.0</td>\n",
       "      <td>0.0</td>\n",
       "      <td>0.0</td>\n",
       "      <td>15.0</td>\n",
       "    </tr>\n",
       "    <tr>\n",
       "      <td>4</td>\n",
       "      <td>2020-03-06</td>\n",
       "      <td>0.0</td>\n",
       "      <td>0.0</td>\n",
       "      <td>0.0</td>\n",
       "      <td>14.5</td>\n",
       "    </tr>\n",
       "    <tr>\n",
       "      <td>...</td>\n",
       "      <td>...</td>\n",
       "      <td>...</td>\n",
       "      <td>...</td>\n",
       "      <td>...</td>\n",
       "      <td>...</td>\n",
       "    </tr>\n",
       "    <tr>\n",
       "      <td>76</td>\n",
       "      <td>2020-05-17</td>\n",
       "      <td>4.0</td>\n",
       "      <td>0.0</td>\n",
       "      <td>18.0</td>\n",
       "      <td>17.0</td>\n",
       "    </tr>\n",
       "    <tr>\n",
       "      <td>77</td>\n",
       "      <td>2020-05-18</td>\n",
       "      <td>1.0</td>\n",
       "      <td>0.0</td>\n",
       "      <td>4.0</td>\n",
       "      <td>19.0</td>\n",
       "    </tr>\n",
       "    <tr>\n",
       "      <td>78</td>\n",
       "      <td>2020-05-19</td>\n",
       "      <td>7.0</td>\n",
       "      <td>0.0</td>\n",
       "      <td>6.0</td>\n",
       "      <td>19.0</td>\n",
       "    </tr>\n",
       "    <tr>\n",
       "      <td>79</td>\n",
       "      <td>2020-05-20</td>\n",
       "      <td>6.0</td>\n",
       "      <td>0.0</td>\n",
       "      <td>23.0</td>\n",
       "      <td>19.0</td>\n",
       "    </tr>\n",
       "    <tr>\n",
       "      <td>80</td>\n",
       "      <td>2020-05-21</td>\n",
       "      <td>6.0</td>\n",
       "      <td>0.0</td>\n",
       "      <td>25.0</td>\n",
       "      <td>19.0</td>\n",
       "    </tr>\n",
       "  </tbody>\n",
       "</table>\n",
       "<p>81 rows × 5 columns</p>\n",
       "</div>"
      ],
      "text/plain": [
       "         date  infecte  morts  recuperé  temperature\n",
       "0  2020-03-02      0.0    0.0       0.0         16.0\n",
       "1  2020-03-03      0.0    0.0       0.0         15.5\n",
       "2  2020-03-04      0.0    0.0       0.0         16.0\n",
       "3  2020-03-05      0.0    0.0       0.0         15.0\n",
       "4  2020-03-06      0.0    0.0       0.0         14.5\n",
       "..        ...      ...    ...       ...          ...\n",
       "76 2020-05-17      4.0    0.0      18.0         17.0\n",
       "77 2020-05-18      1.0    0.0       4.0         19.0\n",
       "78 2020-05-19      7.0    0.0       6.0         19.0\n",
       "79 2020-05-20      6.0    0.0      23.0         19.0\n",
       "80 2020-05-21      6.0    0.0      25.0         19.0\n",
       "\n",
       "[81 rows x 5 columns]"
      ]
     },
     "execution_count": 98,
     "metadata": {},
     "output_type": "execute_result"
    }
   ],
   "source": [
    "dfrabat=pd.read_excel(r\"C:\\Users\\youne\\Desktop\\pfa\\DataFrame.xlsx\",\"Rabat - Sale - Kenitra\")\n",
    "dfrabat"
   ]
  },
  {
   "cell_type": "code",
   "execution_count": 99,
   "metadata": {},
   "outputs": [],
   "source": [
    "imputer_mean=SimpleImputer(missing_values=np.nan,strategy=\"mean\") \n",
    "df_rabat_inf_recu=imputer_mean.fit_transform(dfrabat[['infecte','recuperé']])\n"
   ]
  },
  {
   "cell_type": "code",
   "execution_count": 100,
   "metadata": {},
   "outputs": [
    {
     "name": "stdout",
     "output_type": "stream",
     "text": [
      "(81,)\n",
      "(81,)\n",
      "(81,)\n"
     ]
    }
   ],
   "source": [
    "df_rabat_inf_recu=df_rabat_inf_recu.T\n",
    "ttt=dfrabat[\"date\"]\n",
    "print(ttt.shape)\n",
    "print(df_rabat_inf_recu[0].shape)\n",
    "print(dfrabat[\"morts\"].shape)"
   ]
  },
  {
   "cell_type": "code",
   "execution_count": 101,
   "metadata": {},
   "outputs": [
    {
     "name": "stderr",
     "output_type": "stream",
     "text": [
      "E:\\Anconda\\lib\\site-packages\\ipykernel_launcher.py:1: SettingWithCopyWarning: \n",
      "A value is trying to be set on a copy of a slice from a DataFrame\n",
      "\n",
      "See the caveats in the documentation: http://pandas.pydata.org/pandas-docs/stable/user_guide/indexing.html#returning-a-view-versus-a-copy\n",
      "  \"\"\"Entry point for launching an IPython kernel.\n"
     ]
    }
   ],
   "source": [
    "dfrabat[\"morts\"][np.isnan(dfrabat[\"morts\"])]=0"
   ]
  },
  {
   "cell_type": "code",
   "execution_count": 102,
   "metadata": {},
   "outputs": [
    {
     "data": {
      "image/png": "[encoded data removed]",
      "text/plain": [
       "<Figure size 432x288 with 1 Axes>"
      ]
     },
     "metadata": {
      "needs_background": "light"
     },
     "output_type": "display_data"
    }
   ],
   "source": [
    "plot_data(df_rabat_inf_recu,dfrabat,ttt)"
   ]
  },
  {
   "cell_type": "code",
   "execution_count": 103,
   "metadata": {},
   "outputs": [
    {
     "data": {
      "text/html": [
       "<div>\n",
       "<style scoped>\n",
       "    .dataframe tbody tr th:only-of-type {\n",
       "        vertical-align: middle;\n",
       "    }\n",
       "\n",
       "    .dataframe tbody tr th {\n",
       "        vertical-align: top;\n",
       "    }\n",
       "\n",
       "    .dataframe thead th {\n",
       "        text-align: right;\n",
       "    }\n",
       "</style>\n",
       "<table border=\"1\" class=\"dataframe\">\n",
       "  <thead>\n",
       "    <tr style=\"text-align: right;\">\n",
       "      <th></th>\n",
       "      <th>la_date</th>\n",
       "      <th>suscptible</th>\n",
       "      <th>Infectés</th>\n",
       "      <th>récupérés</th>\n",
       "      <th>morts</th>\n",
       "    </tr>\n",
       "  </thead>\n",
       "  <tbody>\n",
       "    <tr>\n",
       "      <td>0</td>\n",
       "      <td>2020-03-02</td>\n",
       "      <td>40000.000000</td>\n",
       "      <td>0.0</td>\n",
       "      <td>0.0</td>\n",
       "      <td>0.0</td>\n",
       "    </tr>\n",
       "    <tr>\n",
       "      <td>1</td>\n",
       "      <td>2020-03-03</td>\n",
       "      <td>40000.000000</td>\n",
       "      <td>0.0</td>\n",
       "      <td>0.0</td>\n",
       "      <td>0.0</td>\n",
       "    </tr>\n",
       "    <tr>\n",
       "      <td>2</td>\n",
       "      <td>2020-03-04</td>\n",
       "      <td>40000.000000</td>\n",
       "      <td>0.0</td>\n",
       "      <td>0.0</td>\n",
       "      <td>0.0</td>\n",
       "    </tr>\n",
       "    <tr>\n",
       "      <td>3</td>\n",
       "      <td>2020-03-05</td>\n",
       "      <td>40000.000000</td>\n",
       "      <td>0.0</td>\n",
       "      <td>0.0</td>\n",
       "      <td>0.0</td>\n",
       "    </tr>\n",
       "    <tr>\n",
       "      <td>4</td>\n",
       "      <td>2020-03-06</td>\n",
       "      <td>40000.000000</td>\n",
       "      <td>0.0</td>\n",
       "      <td>0.0</td>\n",
       "      <td>0.0</td>\n",
       "    </tr>\n",
       "    <tr>\n",
       "      <td>...</td>\n",
       "      <td>...</td>\n",
       "      <td>...</td>\n",
       "      <td>...</td>\n",
       "      <td>...</td>\n",
       "      <td>...</td>\n",
       "    </tr>\n",
       "    <tr>\n",
       "      <td>76</td>\n",
       "      <td>2020-05-17</td>\n",
       "      <td>38685.675676</td>\n",
       "      <td>4.0</td>\n",
       "      <td>18.0</td>\n",
       "      <td>0.0</td>\n",
       "    </tr>\n",
       "    <tr>\n",
       "      <td>77</td>\n",
       "      <td>2020-05-18</td>\n",
       "      <td>38680.675676</td>\n",
       "      <td>1.0</td>\n",
       "      <td>4.0</td>\n",
       "      <td>0.0</td>\n",
       "    </tr>\n",
       "    <tr>\n",
       "      <td>78</td>\n",
       "      <td>2020-05-19</td>\n",
       "      <td>38667.675676</td>\n",
       "      <td>7.0</td>\n",
       "      <td>6.0</td>\n",
       "      <td>0.0</td>\n",
       "    </tr>\n",
       "    <tr>\n",
       "      <td>79</td>\n",
       "      <td>2020-05-20</td>\n",
       "      <td>38638.675676</td>\n",
       "      <td>6.0</td>\n",
       "      <td>23.0</td>\n",
       "      <td>0.0</td>\n",
       "    </tr>\n",
       "    <tr>\n",
       "      <td>80</td>\n",
       "      <td>2020-05-21</td>\n",
       "      <td>38607.675676</td>\n",
       "      <td>6.0</td>\n",
       "      <td>25.0</td>\n",
       "      <td>0.0</td>\n",
       "    </tr>\n",
       "  </tbody>\n",
       "</table>\n",
       "<p>81 rows × 5 columns</p>\n",
       "</div>"
      ],
      "text/plain": [
       "      la_date    suscptible  Infectés  récupérés  morts\n",
       "0  2020-03-02  40000.000000       0.0        0.0    0.0\n",
       "1  2020-03-03  40000.000000       0.0        0.0    0.0\n",
       "2  2020-03-04  40000.000000       0.0        0.0    0.0\n",
       "3  2020-03-05  40000.000000       0.0        0.0    0.0\n",
       "4  2020-03-06  40000.000000       0.0        0.0    0.0\n",
       "..        ...           ...       ...        ...    ...\n",
       "76 2020-05-17  38685.675676       4.0       18.0    0.0\n",
       "77 2020-05-18  38680.675676       1.0        4.0    0.0\n",
       "78 2020-05-19  38667.675676       7.0        6.0    0.0\n",
       "79 2020-05-20  38638.675676       6.0       23.0    0.0\n",
       "80 2020-05-21  38607.675676       6.0       25.0    0.0\n",
       "\n",
       "[81 rows x 5 columns]"
      ]
     },
     "execution_count": 103,
     "metadata": {},
     "output_type": "execute_result"
    }
   ],
   "source": [
    "Suscptiblet=[]\n",
    "S=40000\n",
    "for i in range(81):\n",
    "    S=S-df_rabat_inf_recu[0][i]-df_rabat_inf_recu[1][i]\n",
    "    Suscptiblet.append(S)\n",
    "dataf_rabat= pd.DataFrame({'la_date':ttt,'suscptible':Suscptiblet,'Infectés':df_rabat_inf_recu[0],'récupérés':df_rabat_inf_recu[1],'morts':dfrabat[\"morts\"]})\n",
    "dataf_rabat"
   ]
  },
  {
   "cell_type": "code",
   "execution_count": 104,
   "metadata": {},
   "outputs": [
    {
     "name": "stdout",
     "output_type": "stream",
     "text": [
      "47.0\n",
      "29.0\n",
      "80.0\n",
      "84.0\n",
      "37.0\n",
      "60.0\n",
      "29.0\n",
      "71.0\n",
      "31.0\n",
      "31.0\n"
     ]
    },
    {
     "name": "stderr",
     "output_type": "stream",
     "text": [
      "E:\\Anconda\\lib\\site-packages\\ipykernel_launcher.py:8: SettingWithCopyWarning: \n",
      "A value is trying to be set on a copy of a slice from a DataFrame\n",
      "\n",
      "See the caveats in the documentation: http://pandas.pydata.org/pandas-docs/stable/user_guide/indexing.html#returning-a-view-versus-a-copy\n",
      "  \n",
      "E:\\Anconda\\lib\\site-packages\\ipykernel_launcher.py:15: SettingWithCopyWarning: \n",
      "A value is trying to be set on a copy of a slice from a DataFrame\n",
      "\n",
      "See the caveats in the documentation: http://pandas.pydata.org/pandas-docs/stable/user_guide/indexing.html#returning-a-view-versus-a-copy\n",
      "  from ipykernel import kernelapp as app\n"
     ]
    }
   ],
   "source": [
    "dataf_rabat=Dectect_aberrante(dataf_rabat)"
   ]
  },
  {
   "cell_type": "code",
   "execution_count": 105,
   "metadata": {},
   "outputs": [
    {
     "data": {
      "text/plain": [
       "[<matplotlib.lines.Line2D at 0x1ffc02723c8>]"
      ]
     },
     "execution_count": 105,
     "metadata": {},
     "output_type": "execute_result"
    },
    {
     "data": {
      "image/png": "[encoded data removed]",
      "text/plain": [
       "<Figure size 432x288 with 1 Axes>"
      ]
     },
     "metadata": {
      "needs_background": "light"
     },
     "output_type": "display_data"
    }
   ],
   "source": [
    "plt.plot(dataf_rabat.la_date,dataf_rabat.Infectés)"
   ]
  },
  {
   "cell_type": "code",
   "execution_count": 107,
   "metadata": {},
   "outputs": [],
   "source": [
    "dictionnaire_III,dictionnaire_R=filtrage(40000,1,0,np.arange(2,83),dataf_rabat)"
   ]
  },
  {
   "cell_type": "code",
   "execution_count": 108,
   "metadata": {},
   "outputs": [
    {
     "data": {
      "text/plain": [
       "('beta est:0.9909999999999999 gamma est:0.9409999999999998', 898.8535093563548)"
      ]
     },
     "execution_count": 108,
     "metadata": {},
     "output_type": "execute_result"
    }
   ],
   "source": [
    "keyminval(dictionnaire_III)"
   ]
  },
  {
   "cell_type": "code",
   "execution_count": 110,
   "metadata": {},
   "outputs": [],
   "source": [
    "Sttt,Ittt,Rttt=SolutionSIR(40000,1,0,np.arange(2,183),0.9909999999999999,0.9409999999999998)"
   ]
  },
  {
   "cell_type": "code",
   "execution_count": 114,
   "metadata": {},
   "outputs": [
    {
     "data": {
      "image/png": "[encoded data removed]",
      "text/plain": [
       "<Figure size 360x360 with 1 Axes>"
      ]
     },
     "metadata": {
      "needs_background": "light"
     },
     "output_type": "display_data"
    }
   ],
   "source": [
    "plt.figure(figsize=(5,5))\n",
    "plt.plot(np.arange(2,183),Ittt)\n",
    "plt.plot(np.arange(2,83),dataf_rabat.Infectés)\n",
    "plt.savefig(\"RabatRA.png\")\n",
    "plt.show()\n"
   ]
  },
  {
   "cell_type": "markdown",
   "metadata": {},
   "source": [
    "# la région Oreintal\n"
   ]
  },
  {
   "cell_type": "code",
   "execution_count": 115,
   "metadata": {},
   "outputs": [
    {
     "data": {
      "text/html": [
       "<div>\n",
       "<style scoped>\n",
       "    .dataframe tbody tr th:only-of-type {\n",
       "        vertical-align: middle;\n",
       "    }\n",
       "\n",
       "    .dataframe tbody tr th {\n",
       "        vertical-align: top;\n",
       "    }\n",
       "\n",
       "    .dataframe thead th {\n",
       "        text-align: right;\n",
       "    }\n",
       "</style>\n",
       "<table border=\"1\" class=\"dataframe\">\n",
       "  <thead>\n",
       "    <tr style=\"text-align: right;\">\n",
       "      <th></th>\n",
       "      <th>date</th>\n",
       "      <th>infecte</th>\n",
       "      <th>morts</th>\n",
       "      <th>recuperé</th>\n",
       "      <th>temperature</th>\n",
       "    </tr>\n",
       "  </thead>\n",
       "  <tbody>\n",
       "    <tr>\n",
       "      <td>0</td>\n",
       "      <td>2020-03-02</td>\n",
       "      <td>0.0</td>\n",
       "      <td>0.0</td>\n",
       "      <td>0.0</td>\n",
       "      <td>16.0</td>\n",
       "    </tr>\n",
       "    <tr>\n",
       "      <td>1</td>\n",
       "      <td>2020-03-03</td>\n",
       "      <td>0.0</td>\n",
       "      <td>0.0</td>\n",
       "      <td>0.0</td>\n",
       "      <td>16.5</td>\n",
       "    </tr>\n",
       "    <tr>\n",
       "      <td>2</td>\n",
       "      <td>2020-03-04</td>\n",
       "      <td>0.0</td>\n",
       "      <td>0.0</td>\n",
       "      <td>0.0</td>\n",
       "      <td>17.0</td>\n",
       "    </tr>\n",
       "    <tr>\n",
       "      <td>3</td>\n",
       "      <td>2020-03-05</td>\n",
       "      <td>0.0</td>\n",
       "      <td>0.0</td>\n",
       "      <td>0.0</td>\n",
       "      <td>15.0</td>\n",
       "    </tr>\n",
       "    <tr>\n",
       "      <td>4</td>\n",
       "      <td>2020-03-06</td>\n",
       "      <td>0.0</td>\n",
       "      <td>0.0</td>\n",
       "      <td>0.0</td>\n",
       "      <td>14.0</td>\n",
       "    </tr>\n",
       "    <tr>\n",
       "      <td>...</td>\n",
       "      <td>...</td>\n",
       "      <td>...</td>\n",
       "      <td>...</td>\n",
       "      <td>...</td>\n",
       "      <td>...</td>\n",
       "    </tr>\n",
       "    <tr>\n",
       "      <td>76</td>\n",
       "      <td>2020-05-17</td>\n",
       "      <td>1.0</td>\n",
       "      <td>0.0</td>\n",
       "      <td>2.0</td>\n",
       "      <td>21.5</td>\n",
       "    </tr>\n",
       "    <tr>\n",
       "      <td>77</td>\n",
       "      <td>2020-05-18</td>\n",
       "      <td>0.0</td>\n",
       "      <td>0.0</td>\n",
       "      <td>1.0</td>\n",
       "      <td>21.5</td>\n",
       "    </tr>\n",
       "    <tr>\n",
       "      <td>78</td>\n",
       "      <td>2020-05-19</td>\n",
       "      <td>0.0</td>\n",
       "      <td>0.0</td>\n",
       "      <td>3.0</td>\n",
       "      <td>21.5</td>\n",
       "    </tr>\n",
       "    <tr>\n",
       "      <td>79</td>\n",
       "      <td>2020-05-20</td>\n",
       "      <td>1.0</td>\n",
       "      <td>0.0</td>\n",
       "      <td>4.0</td>\n",
       "      <td>22.0</td>\n",
       "    </tr>\n",
       "    <tr>\n",
       "      <td>80</td>\n",
       "      <td>2020-05-21</td>\n",
       "      <td>0.0</td>\n",
       "      <td>0.0</td>\n",
       "      <td>15.0</td>\n",
       "      <td>21.0</td>\n",
       "    </tr>\n",
       "  </tbody>\n",
       "</table>\n",
       "<p>81 rows × 5 columns</p>\n",
       "</div>"
      ],
      "text/plain": [
       "         date  infecte  morts  recuperé  temperature\n",
       "0  2020-03-02      0.0    0.0       0.0         16.0\n",
       "1  2020-03-03      0.0    0.0       0.0         16.5\n",
       "2  2020-03-04      0.0    0.0       0.0         17.0\n",
       "3  2020-03-05      0.0    0.0       0.0         15.0\n",
       "4  2020-03-06      0.0    0.0       0.0         14.0\n",
       "..        ...      ...    ...       ...          ...\n",
       "76 2020-05-17      1.0    0.0       2.0         21.5\n",
       "77 2020-05-18      0.0    0.0       1.0         21.5\n",
       "78 2020-05-19      0.0    0.0       3.0         21.5\n",
       "79 2020-05-20      1.0    0.0       4.0         22.0\n",
       "80 2020-05-21      0.0    0.0      15.0         21.0\n",
       "\n",
       "[81 rows x 5 columns]"
      ]
     },
     "execution_count": 115,
     "metadata": {},
     "output_type": "execute_result"
    }
   ],
   "source": [
    "dforeintal=pd.read_excel(r\"C:\\Users\\youne\\Desktop\\pfa\\DataFrame.xlsx\",\"Oreintal\")\n",
    "dforeintal"
   ]
  },
  {
   "cell_type": "code",
   "execution_count": 116,
   "metadata": {},
   "outputs": [],
   "source": [
    "\n",
    "df_oreintal_inf_recu=imputer_mean.fit_transform(dforeintal[['infecte','recuperé']])"
   ]
  },
  {
   "cell_type": "code",
   "execution_count": 117,
   "metadata": {},
   "outputs": [
    {
     "name": "stdout",
     "output_type": "stream",
     "text": [
      "(81,)\n",
      "(81,)\n",
      "(81,)\n"
     ]
    }
   ],
   "source": [
    "df_oreintal_inf_recu=df_oreintal_inf_recu.T\n",
    "toreintal=dforeintal[\"date\"]\n",
    "print(toreintal.shape)\n",
    "print(df_oreintal_inf_recu[0].shape)\n",
    "print(dforeintal[\"morts\"].shape)"
   ]
  },
  {
   "cell_type": "code",
   "execution_count": 118,
   "metadata": {},
   "outputs": [
    {
     "name": "stderr",
     "output_type": "stream",
     "text": [
      "E:\\Anconda\\lib\\site-packages\\ipykernel_launcher.py:1: SettingWithCopyWarning: \n",
      "A value is trying to be set on a copy of a slice from a DataFrame\n",
      "\n",
      "See the caveats in the documentation: http://pandas.pydata.org/pandas-docs/stable/user_guide/indexing.html#returning-a-view-versus-a-copy\n",
      "  \"\"\"Entry point for launching an IPython kernel.\n"
     ]
    }
   ],
   "source": [
    "dforeintal[\"morts\"][np.isnan(dforeintal[\"morts\"])]=0"
   ]
  },
  {
   "cell_type": "code",
   "execution_count": 119,
   "metadata": {},
   "outputs": [
    {
     "data": {
      "image/png": "[encoded data removed]",
      "text/plain": [
       "<Figure size 432x288 with 1 Axes>"
      ]
     },
     "metadata": {
      "needs_background": "light"
     },
     "output_type": "display_data"
    }
   ],
   "source": [
    "plot_data(df_oreintal_inf_recu,dforeintal,toreintal)"
   ]
  },
  {
   "cell_type": "code",
   "execution_count": 120,
   "metadata": {},
   "outputs": [
    {
     "data": {
      "text/html": [
       "<div>\n",
       "<style scoped>\n",
       "    .dataframe tbody tr th:only-of-type {\n",
       "        vertical-align: middle;\n",
       "    }\n",
       "\n",
       "    .dataframe tbody tr th {\n",
       "        vertical-align: top;\n",
       "    }\n",
       "\n",
       "    .dataframe thead th {\n",
       "        text-align: right;\n",
       "    }\n",
       "</style>\n",
       "<table border=\"1\" class=\"dataframe\">\n",
       "  <thead>\n",
       "    <tr style=\"text-align: right;\">\n",
       "      <th></th>\n",
       "      <th>la_date</th>\n",
       "      <th>suscptible</th>\n",
       "      <th>Infectés</th>\n",
       "      <th>récupérés</th>\n",
       "      <th>morts</th>\n",
       "    </tr>\n",
       "  </thead>\n",
       "  <tbody>\n",
       "    <tr>\n",
       "      <td>0</td>\n",
       "      <td>2020-03-02</td>\n",
       "      <td>30000.000000</td>\n",
       "      <td>0.0</td>\n",
       "      <td>0.0</td>\n",
       "      <td>0.0</td>\n",
       "    </tr>\n",
       "    <tr>\n",
       "      <td>1</td>\n",
       "      <td>2020-03-03</td>\n",
       "      <td>30000.000000</td>\n",
       "      <td>0.0</td>\n",
       "      <td>0.0</td>\n",
       "      <td>0.0</td>\n",
       "    </tr>\n",
       "    <tr>\n",
       "      <td>2</td>\n",
       "      <td>2020-03-04</td>\n",
       "      <td>30000.000000</td>\n",
       "      <td>0.0</td>\n",
       "      <td>0.0</td>\n",
       "      <td>0.0</td>\n",
       "    </tr>\n",
       "    <tr>\n",
       "      <td>3</td>\n",
       "      <td>2020-03-05</td>\n",
       "      <td>30000.000000</td>\n",
       "      <td>0.0</td>\n",
       "      <td>0.0</td>\n",
       "      <td>0.0</td>\n",
       "    </tr>\n",
       "    <tr>\n",
       "      <td>4</td>\n",
       "      <td>2020-03-06</td>\n",
       "      <td>30000.000000</td>\n",
       "      <td>0.0</td>\n",
       "      <td>0.0</td>\n",
       "      <td>0.0</td>\n",
       "    </tr>\n",
       "    <tr>\n",
       "      <td>...</td>\n",
       "      <td>...</td>\n",
       "      <td>...</td>\n",
       "      <td>...</td>\n",
       "      <td>...</td>\n",
       "      <td>...</td>\n",
       "    </tr>\n",
       "    <tr>\n",
       "      <td>76</td>\n",
       "      <td>2020-05-17</td>\n",
       "      <td>29571.056203</td>\n",
       "      <td>1.0</td>\n",
       "      <td>2.0</td>\n",
       "      <td>0.0</td>\n",
       "    </tr>\n",
       "    <tr>\n",
       "      <td>77</td>\n",
       "      <td>2020-05-18</td>\n",
       "      <td>29570.056203</td>\n",
       "      <td>0.0</td>\n",
       "      <td>1.0</td>\n",
       "      <td>0.0</td>\n",
       "    </tr>\n",
       "    <tr>\n",
       "      <td>78</td>\n",
       "      <td>2020-05-19</td>\n",
       "      <td>29567.056203</td>\n",
       "      <td>0.0</td>\n",
       "      <td>3.0</td>\n",
       "      <td>0.0</td>\n",
       "    </tr>\n",
       "    <tr>\n",
       "      <td>79</td>\n",
       "      <td>2020-05-20</td>\n",
       "      <td>29562.056203</td>\n",
       "      <td>1.0</td>\n",
       "      <td>4.0</td>\n",
       "      <td>0.0</td>\n",
       "    </tr>\n",
       "    <tr>\n",
       "      <td>80</td>\n",
       "      <td>2020-05-21</td>\n",
       "      <td>29547.056203</td>\n",
       "      <td>0.0</td>\n",
       "      <td>15.0</td>\n",
       "      <td>0.0</td>\n",
       "    </tr>\n",
       "  </tbody>\n",
       "</table>\n",
       "<p>81 rows × 5 columns</p>\n",
       "</div>"
      ],
      "text/plain": [
       "      la_date    suscptible  Infectés  récupérés  morts\n",
       "0  2020-03-02  30000.000000       0.0        0.0    0.0\n",
       "1  2020-03-03  30000.000000       0.0        0.0    0.0\n",
       "2  2020-03-04  30000.000000       0.0        0.0    0.0\n",
       "3  2020-03-05  30000.000000       0.0        0.0    0.0\n",
       "4  2020-03-06  30000.000000       0.0        0.0    0.0\n",
       "..        ...           ...       ...        ...    ...\n",
       "76 2020-05-17  29571.056203       1.0        2.0    0.0\n",
       "77 2020-05-18  29570.056203       0.0        1.0    0.0\n",
       "78 2020-05-19  29567.056203       0.0        3.0    0.0\n",
       "79 2020-05-20  29562.056203       1.0        4.0    0.0\n",
       "80 2020-05-21  29547.056203       0.0       15.0    0.0\n",
       "\n",
       "[81 rows x 5 columns]"
      ]
     },
     "execution_count": 120,
     "metadata": {},
     "output_type": "execute_result"
    }
   ],
   "source": [
    "Suscptibleo=[]\n",
    "S=30000\n",
    "for i in range(81):\n",
    "    S=S-df_oreintal_inf_recu[0][i]-df_oreintal_inf_recu[1][i]\n",
    "    Suscptibleo.append(S)\n",
    "dataf_oreintal= pd.DataFrame({'la_date':toreintal,'suscptible':Suscptibleo,'Infectés':df_oreintal_inf_recu[0],'récupérés':df_oreintal_inf_recu[1],'morts':dforeintal[\"morts\"]})\n",
    "dataf_oreintal"
   ]
  },
  {
   "cell_type": "code",
   "execution_count": 121,
   "metadata": {},
   "outputs": [
    {
     "name": "stdout",
     "output_type": "stream",
     "text": [
      "6.0\n",
      "31.0\n",
      "9.0\n",
      "13.0\n",
      "7.0\n",
      "12.0\n",
      "10.0\n",
      "8.0\n",
      "7.0\n",
      "8.0\n",
      "6.0\n",
      "10.0\n",
      "16.0\n"
     ]
    },
    {
     "name": "stderr",
     "output_type": "stream",
     "text": [
      "E:\\Anconda\\lib\\site-packages\\ipykernel_launcher.py:8: SettingWithCopyWarning: \n",
      "A value is trying to be set on a copy of a slice from a DataFrame\n",
      "\n",
      "See the caveats in the documentation: http://pandas.pydata.org/pandas-docs/stable/user_guide/indexing.html#returning-a-view-versus-a-copy\n",
      "  \n",
      "E:\\Anconda\\lib\\site-packages\\ipykernel_launcher.py:15: SettingWithCopyWarning: \n",
      "A value is trying to be set on a copy of a slice from a DataFrame\n",
      "\n",
      "See the caveats in the documentation: http://pandas.pydata.org/pandas-docs/stable/user_guide/indexing.html#returning-a-view-versus-a-copy\n",
      "  from ipykernel import kernelapp as app\n"
     ]
    }
   ],
   "source": [
    "dataf_oreintal=Dectect_aberrante(dataf_oreintal)"
   ]
  },
  {
   "cell_type": "code",
   "execution_count": 122,
   "metadata": {},
   "outputs": [
    {
     "data": {
      "text/plain": [
       "[<matplotlib.lines.Line2D at 0x1ffc2a3bf48>]"
      ]
     },
     "execution_count": 122,
     "metadata": {},
     "output_type": "execute_result"
    },
    {
     "data": {
      "image/png": "[encoded data removed]",
      "text/plain": [
       "<Figure size 432x288 with 1 Axes>"
      ]
     },
     "metadata": {
      "needs_background": "light"
     },
     "output_type": "display_data"
    }
   ],
   "source": [
    "plt.plot(dataf_oreintal.la_date,dataf_oreintal.Infectés)"
   ]
  },
  {
   "cell_type": "code",
   "execution_count": 123,
   "metadata": {},
   "outputs": [],
   "source": [
    "dictionnaire_III,dictionnaire_R=filtrage(30000,1,0,np.arange(2,83),dataf_oreintal)"
   ]
  },
  {
   "cell_type": "code",
   "execution_count": 124,
   "metadata": {},
   "outputs": [
    {
     "data": {
      "text/plain": [
       "('beta est:0.9909999999999999 gamma est:0.9609999999999999', 525.2667159161167)"
      ]
     },
     "execution_count": 124,
     "metadata": {},
     "output_type": "execute_result"
    }
   ],
   "source": [
    "keyminval(dictionnaire_III)"
   ]
  },
  {
   "cell_type": "code",
   "execution_count": 131,
   "metadata": {},
   "outputs": [],
   "source": [
    "Sor,Ior,Ror=SolutionSIR(30000,1,0,np.arange(2,283),0.990,0.960)"
   ]
  },
  {
   "cell_type": "code",
   "execution_count": 134,
   "metadata": {},
   "outputs": [
    {
     "data": {
      "image/png": "[encoded data removed]",
      "text/plain": [
       "<Figure size 144x144 with 1 Axes>"
      ]
     },
     "metadata": {
      "needs_background": "light"
     },
     "output_type": "display_data"
    }
   ],
   "source": [
    "plt.figure(figsize=(2,2))\n",
    "plt.plot(np.arange(2,283),Ior)\n",
    "plt.plot(np.arange(2,83),dataf_oreintal.Infectés)\n",
    "plt.savefig(\"oriental.png\")\n",
    "plt.show()"
   ]
  },
  {
   "cell_type": "code",
   "execution_count": null,
   "metadata": {},
   "outputs": [],
   "source": []
  },
  {
   "cell_type": "markdown",
   "metadata": {},
   "source": [
    "## la région Darra_tafilalet"
   ]
  },
  {
   "cell_type": "code",
   "execution_count": 135,
   "metadata": {},
   "outputs": [
    {
     "data": {
      "text/html": [
       "<div>\n",
       "<style scoped>\n",
       "    .dataframe tbody tr th:only-of-type {\n",
       "        vertical-align: middle;\n",
       "    }\n",
       "\n",
       "    .dataframe tbody tr th {\n",
       "        vertical-align: top;\n",
       "    }\n",
       "\n",
       "    .dataframe thead th {\n",
       "        text-align: right;\n",
       "    }\n",
       "</style>\n",
       "<table border=\"1\" class=\"dataframe\">\n",
       "  <thead>\n",
       "    <tr style=\"text-align: right;\">\n",
       "      <th></th>\n",
       "      <th>date</th>\n",
       "      <th>infecte</th>\n",
       "      <th>morts</th>\n",
       "      <th>recuperé</th>\n",
       "      <th>temperature</th>\n",
       "    </tr>\n",
       "  </thead>\n",
       "  <tbody>\n",
       "    <tr>\n",
       "      <td>0</td>\n",
       "      <td>2020-03-02</td>\n",
       "      <td>0.0</td>\n",
       "      <td>0.0</td>\n",
       "      <td>0.0</td>\n",
       "      <td>16.0</td>\n",
       "    </tr>\n",
       "    <tr>\n",
       "      <td>1</td>\n",
       "      <td>2020-03-03</td>\n",
       "      <td>0.0</td>\n",
       "      <td>0.0</td>\n",
       "      <td>0.0</td>\n",
       "      <td>16.5</td>\n",
       "    </tr>\n",
       "    <tr>\n",
       "      <td>2</td>\n",
       "      <td>2020-03-04</td>\n",
       "      <td>0.0</td>\n",
       "      <td>0.0</td>\n",
       "      <td>0.0</td>\n",
       "      <td>17.0</td>\n",
       "    </tr>\n",
       "    <tr>\n",
       "      <td>3</td>\n",
       "      <td>2020-03-05</td>\n",
       "      <td>0.0</td>\n",
       "      <td>0.0</td>\n",
       "      <td>0.0</td>\n",
       "      <td>15.0</td>\n",
       "    </tr>\n",
       "    <tr>\n",
       "      <td>4</td>\n",
       "      <td>2020-03-06</td>\n",
       "      <td>0.0</td>\n",
       "      <td>0.0</td>\n",
       "      <td>0.0</td>\n",
       "      <td>14.0</td>\n",
       "    </tr>\n",
       "    <tr>\n",
       "      <td>...</td>\n",
       "      <td>...</td>\n",
       "      <td>...</td>\n",
       "      <td>...</td>\n",
       "      <td>...</td>\n",
       "      <td>...</td>\n",
       "    </tr>\n",
       "    <tr>\n",
       "      <td>76</td>\n",
       "      <td>2020-05-17</td>\n",
       "      <td>0.0</td>\n",
       "      <td>0.0</td>\n",
       "      <td>4.0</td>\n",
       "      <td>25.0</td>\n",
       "    </tr>\n",
       "    <tr>\n",
       "      <td>77</td>\n",
       "      <td>2020-05-18</td>\n",
       "      <td>0.0</td>\n",
       "      <td>0.0</td>\n",
       "      <td>10.0</td>\n",
       "      <td>27.0</td>\n",
       "    </tr>\n",
       "    <tr>\n",
       "      <td>78</td>\n",
       "      <td>2020-05-19</td>\n",
       "      <td>0.0</td>\n",
       "      <td>0.0</td>\n",
       "      <td>5.0</td>\n",
       "      <td>29.0</td>\n",
       "    </tr>\n",
       "    <tr>\n",
       "      <td>79</td>\n",
       "      <td>2020-05-20</td>\n",
       "      <td>0.0</td>\n",
       "      <td>0.0</td>\n",
       "      <td>5.0</td>\n",
       "      <td>29.5</td>\n",
       "    </tr>\n",
       "    <tr>\n",
       "      <td>80</td>\n",
       "      <td>2020-05-21</td>\n",
       "      <td>0.0</td>\n",
       "      <td>0.0</td>\n",
       "      <td>33.0</td>\n",
       "      <td>32.0</td>\n",
       "    </tr>\n",
       "  </tbody>\n",
       "</table>\n",
       "<p>81 rows × 5 columns</p>\n",
       "</div>"
      ],
      "text/plain": [
       "         date  infecte  morts  recuperé  temperature\n",
       "0  2020-03-02      0.0    0.0       0.0         16.0\n",
       "1  2020-03-03      0.0    0.0       0.0         16.5\n",
       "2  2020-03-04      0.0    0.0       0.0         17.0\n",
       "3  2020-03-05      0.0    0.0       0.0         15.0\n",
       "4  2020-03-06      0.0    0.0       0.0         14.0\n",
       "..        ...      ...    ...       ...          ...\n",
       "76 2020-05-17      0.0    0.0       4.0         25.0\n",
       "77 2020-05-18      0.0    0.0      10.0         27.0\n",
       "78 2020-05-19      0.0    0.0       5.0         29.0\n",
       "79 2020-05-20      0.0    0.0       5.0         29.5\n",
       "80 2020-05-21      0.0    0.0      33.0         32.0\n",
       "\n",
       "[81 rows x 5 columns]"
      ]
     },
     "execution_count": 135,
     "metadata": {},
     "output_type": "execute_result"
    }
   ],
   "source": [
    "dfdaraa=pd.read_excel(r\"C:\\Users\\youne\\Desktop\\pfa\\DataFrame.xlsx\",\"Daraa - Tafilalet\")\n",
    "dfdaraa"
   ]
  },
  {
   "cell_type": "code",
   "execution_count": 136,
   "metadata": {},
   "outputs": [],
   "source": [
    "df_daraa_inf_recu=imputer_mean.fit_transform(dfdaraa[['infecte','recuperé']])"
   ]
  },
  {
   "cell_type": "code",
   "execution_count": null,
   "metadata": {},
   "outputs": [],
   "source": []
  },
  {
   "cell_type": "code",
   "execution_count": 137,
   "metadata": {},
   "outputs": [
    {
     "name": "stdout",
     "output_type": "stream",
     "text": [
      "(81,)\n",
      "(81,)\n",
      "(81,)\n"
     ]
    }
   ],
   "source": [
    "df_daraa_inf_recu=df_daraa_inf_recu.T\n",
    "tdaraa=dfdaraa[\"date\"]\n",
    "print(tdaraa.shape)\n",
    "print(df_daraa_inf_recu[0].shape)\n",
    "print(dfdaraa[\"morts\"].shape)"
   ]
  },
  {
   "cell_type": "code",
   "execution_count": 138,
   "metadata": {},
   "outputs": [
    {
     "name": "stderr",
     "output_type": "stream",
     "text": [
      "E:\\Anconda\\lib\\site-packages\\ipykernel_launcher.py:1: SettingWithCopyWarning: \n",
      "A value is trying to be set on a copy of a slice from a DataFrame\n",
      "\n",
      "See the caveats in the documentation: http://pandas.pydata.org/pandas-docs/stable/user_guide/indexing.html#returning-a-view-versus-a-copy\n",
      "  \"\"\"Entry point for launching an IPython kernel.\n"
     ]
    }
   ],
   "source": [
    "dfdaraa[\"morts\"][np.isnan(dfdaraa[\"morts\"])]=0"
   ]
  },
  {
   "cell_type": "code",
   "execution_count": 139,
   "metadata": {},
   "outputs": [
    {
     "data": {
      "image/png": "[encoded data removed]",
      "text/plain": [
       "<Figure size 432x288 with 1 Axes>"
      ]
     },
     "metadata": {
      "needs_background": "light"
     },
     "output_type": "display_data"
    }
   ],
   "source": [
    "plot_data(df_daraa_inf_recu,dfdaraa,tdaraa)"
   ]
  },
  {
   "cell_type": "code",
   "execution_count": 140,
   "metadata": {},
   "outputs": [
    {
     "data": {
      "text/html": [
       "<div>\n",
       "<style scoped>\n",
       "    .dataframe tbody tr th:only-of-type {\n",
       "        vertical-align: middle;\n",
       "    }\n",
       "\n",
       "    .dataframe tbody tr th {\n",
       "        vertical-align: top;\n",
       "    }\n",
       "\n",
       "    .dataframe thead th {\n",
       "        text-align: right;\n",
       "    }\n",
       "</style>\n",
       "<table border=\"1\" class=\"dataframe\">\n",
       "  <thead>\n",
       "    <tr style=\"text-align: right;\">\n",
       "      <th></th>\n",
       "      <th>la_date</th>\n",
       "      <th>suscptible</th>\n",
       "      <th>Infectés</th>\n",
       "      <th>récupérés</th>\n",
       "      <th>morts</th>\n",
       "    </tr>\n",
       "  </thead>\n",
       "  <tbody>\n",
       "    <tr>\n",
       "      <td>0</td>\n",
       "      <td>2020-03-02</td>\n",
       "      <td>25000.000000</td>\n",
       "      <td>0.0</td>\n",
       "      <td>0.0</td>\n",
       "      <td>0.0</td>\n",
       "    </tr>\n",
       "    <tr>\n",
       "      <td>1</td>\n",
       "      <td>2020-03-03</td>\n",
       "      <td>25000.000000</td>\n",
       "      <td>0.0</td>\n",
       "      <td>0.0</td>\n",
       "      <td>0.0</td>\n",
       "    </tr>\n",
       "    <tr>\n",
       "      <td>2</td>\n",
       "      <td>2020-03-04</td>\n",
       "      <td>25000.000000</td>\n",
       "      <td>0.0</td>\n",
       "      <td>0.0</td>\n",
       "      <td>0.0</td>\n",
       "    </tr>\n",
       "    <tr>\n",
       "      <td>3</td>\n",
       "      <td>2020-03-05</td>\n",
       "      <td>25000.000000</td>\n",
       "      <td>0.0</td>\n",
       "      <td>0.0</td>\n",
       "      <td>0.0</td>\n",
       "    </tr>\n",
       "    <tr>\n",
       "      <td>4</td>\n",
       "      <td>2020-03-06</td>\n",
       "      <td>25000.000000</td>\n",
       "      <td>0.0</td>\n",
       "      <td>0.0</td>\n",
       "      <td>0.0</td>\n",
       "    </tr>\n",
       "    <tr>\n",
       "      <td>...</td>\n",
       "      <td>...</td>\n",
       "      <td>...</td>\n",
       "      <td>...</td>\n",
       "      <td>...</td>\n",
       "      <td>...</td>\n",
       "    </tr>\n",
       "    <tr>\n",
       "      <td>76</td>\n",
       "      <td>2020-05-17</td>\n",
       "      <td>23667.597731</td>\n",
       "      <td>0.0</td>\n",
       "      <td>4.0</td>\n",
       "      <td>0.0</td>\n",
       "    </tr>\n",
       "    <tr>\n",
       "      <td>77</td>\n",
       "      <td>2020-05-18</td>\n",
       "      <td>23657.597731</td>\n",
       "      <td>0.0</td>\n",
       "      <td>10.0</td>\n",
       "      <td>0.0</td>\n",
       "    </tr>\n",
       "    <tr>\n",
       "      <td>78</td>\n",
       "      <td>2020-05-19</td>\n",
       "      <td>23652.597731</td>\n",
       "      <td>0.0</td>\n",
       "      <td>5.0</td>\n",
       "      <td>0.0</td>\n",
       "    </tr>\n",
       "    <tr>\n",
       "      <td>79</td>\n",
       "      <td>2020-05-20</td>\n",
       "      <td>23647.597731</td>\n",
       "      <td>0.0</td>\n",
       "      <td>5.0</td>\n",
       "      <td>0.0</td>\n",
       "    </tr>\n",
       "    <tr>\n",
       "      <td>80</td>\n",
       "      <td>2020-05-21</td>\n",
       "      <td>23614.597731</td>\n",
       "      <td>0.0</td>\n",
       "      <td>33.0</td>\n",
       "      <td>0.0</td>\n",
       "    </tr>\n",
       "  </tbody>\n",
       "</table>\n",
       "<p>81 rows × 5 columns</p>\n",
       "</div>"
      ],
      "text/plain": [
       "      la_date    suscptible  Infectés  récupérés  morts\n",
       "0  2020-03-02  25000.000000       0.0        0.0    0.0\n",
       "1  2020-03-03  25000.000000       0.0        0.0    0.0\n",
       "2  2020-03-04  25000.000000       0.0        0.0    0.0\n",
       "3  2020-03-05  25000.000000       0.0        0.0    0.0\n",
       "4  2020-03-06  25000.000000       0.0        0.0    0.0\n",
       "..        ...           ...       ...        ...    ...\n",
       "76 2020-05-17  23667.597731       0.0        4.0    0.0\n",
       "77 2020-05-18  23657.597731       0.0       10.0    0.0\n",
       "78 2020-05-19  23652.597731       0.0        5.0    0.0\n",
       "79 2020-05-20  23647.597731       0.0        5.0    0.0\n",
       "80 2020-05-21  23614.597731       0.0       33.0    0.0\n",
       "\n",
       "[81 rows x 5 columns]"
      ]
     },
     "execution_count": 140,
     "metadata": {},
     "output_type": "execute_result"
    }
   ],
   "source": [
    "Suscptibled=[]\n",
    "S=25000\n",
    "for i in range(81):\n",
    "    S=S-df_daraa_inf_recu[0][i]-df_daraa_inf_recu[1][i]\n",
    "    Suscptibled.append(S)\n",
    "dataf_daraa= pd.DataFrame({'la_date':tdaraa,'suscptible':Suscptibled,'Infectés':df_daraa_inf_recu[0],'récupérés':df_daraa_inf_recu[1],'morts':dfdaraa[\"morts\"]})\n",
    "dataf_daraa"
   ]
  },
  {
   "cell_type": "code",
   "execution_count": 141,
   "metadata": {},
   "outputs": [
    {
     "name": "stdout",
     "output_type": "stream",
     "text": [
      "77.0\n",
      "80.0\n",
      "69.0\n",
      "72.0\n",
      "67.0\n",
      "34.0\n",
      "90.0\n",
      "26.0\n",
      "23.0\n",
      "34.0\n",
      "88.0\n",
      "85.0\n",
      "80.0\n",
      "74.0\n",
      "36.0\n",
      "36.0\n",
      "33.0\n"
     ]
    },
    {
     "name": "stderr",
     "output_type": "stream",
     "text": [
      "E:\\Anconda\\lib\\site-packages\\ipykernel_launcher.py:8: SettingWithCopyWarning: \n",
      "A value is trying to be set on a copy of a slice from a DataFrame\n",
      "\n",
      "See the caveats in the documentation: http://pandas.pydata.org/pandas-docs/stable/user_guide/indexing.html#returning-a-view-versus-a-copy\n",
      "  \n",
      "E:\\Anconda\\lib\\site-packages\\ipykernel_launcher.py:15: SettingWithCopyWarning: \n",
      "A value is trying to be set on a copy of a slice from a DataFrame\n",
      "\n",
      "See the caveats in the documentation: http://pandas.pydata.org/pandas-docs/stable/user_guide/indexing.html#returning-a-view-versus-a-copy\n",
      "  from ipykernel import kernelapp as app\n"
     ]
    }
   ],
   "source": [
    "dataf_daraa=Dectect_aberrante(dataf_daraa)"
   ]
  },
  {
   "cell_type": "code",
   "execution_count": 142,
   "metadata": {},
   "outputs": [
    {
     "data": {
      "text/plain": [
       "[<matplotlib.lines.Line2D at 0x1ffc2de6b48>]"
      ]
     },
     "execution_count": 142,
     "metadata": {},
     "output_type": "execute_result"
    },
    {
     "data": {
      "image/png": "[encoded data removed]",
      "text/plain": [
       "<Figure size 432x288 with 1 Axes>"
      ]
     },
     "metadata": {
      "needs_background": "light"
     },
     "output_type": "display_data"
    }
   ],
   "source": [
    "plt.plot(dataf_daraa.la_date,dataf_daraa.Infectés)"
   ]
  },
  {
   "cell_type": "code",
   "execution_count": 143,
   "metadata": {},
   "outputs": [],
   "source": [
    "dictionnaire_III,dictionnaire_R=filtrage(25000,1,0,np.arange(2,83),dataf_daraa)"
   ]
  },
  {
   "cell_type": "code",
   "execution_count": 144,
   "metadata": {},
   "outputs": [
    {
     "data": {
      "text/plain": [
       "('beta est:0.9909999999999999 gamma est:0.9409999999999998', 1142.676206173901)"
      ]
     },
     "execution_count": 144,
     "metadata": {},
     "output_type": "execute_result"
    }
   ],
   "source": [
    "keyminval(dictionnaire_III)"
   ]
  },
  {
   "cell_type": "code",
   "execution_count": 145,
   "metadata": {},
   "outputs": [],
   "source": [
    "Sor,Ior,Ror=SolutionSIR(25000,1,0,np.arange(2,283),0.990,0.940)"
   ]
  },
  {
   "cell_type": "code",
   "execution_count": 147,
   "metadata": {},
   "outputs": [
    {
     "data": {
      "image/png": "[encoded data removed]",
      "text/plain": [
       "<Figure size 144x144 with 1 Axes>"
      ]
     },
     "metadata": {
      "needs_background": "light"
     },
     "output_type": "display_data"
    }
   ],
   "source": [
    "plt.figure(figsize=(2,2))\n",
    "plt.plot(np.arange(2,283),Ior)\n",
    "plt.plot(np.arange(2,83),dataf_daraa.Infectés)\n",
    "plt.savefig(\"daraa.png\")\n",
    "plt.show()"
   ]
  },
  {
   "cell_type": "raw",
   "metadata": {},
   "source": [
    "# region Souss massa\n"
   ]
  },
  {
   "cell_type": "code",
   "execution_count": 148,
   "metadata": {},
   "outputs": [
    {
     "data": {
      "text/html": [
       "<div>\n",
       "<style scoped>\n",
       "    .dataframe tbody tr th:only-of-type {\n",
       "        vertical-align: middle;\n",
       "    }\n",
       "\n",
       "    .dataframe tbody tr th {\n",
       "        vertical-align: top;\n",
       "    }\n",
       "\n",
       "    .dataframe thead th {\n",
       "        text-align: right;\n",
       "    }\n",
       "</style>\n",
       "<table border=\"1\" class=\"dataframe\">\n",
       "  <thead>\n",
       "    <tr style=\"text-align: right;\">\n",
       "      <th></th>\n",
       "      <th>date</th>\n",
       "      <th>infecte</th>\n",
       "      <th>morts</th>\n",
       "      <th>recuperé</th>\n",
       "      <th>temperature</th>\n",
       "    </tr>\n",
       "  </thead>\n",
       "  <tbody>\n",
       "    <tr>\n",
       "      <td>0</td>\n",
       "      <td>2020-03-02</td>\n",
       "      <td>0.0</td>\n",
       "      <td>0.0</td>\n",
       "      <td>0.0</td>\n",
       "      <td>16.0</td>\n",
       "    </tr>\n",
       "    <tr>\n",
       "      <td>1</td>\n",
       "      <td>2020-03-03</td>\n",
       "      <td>0.0</td>\n",
       "      <td>0.0</td>\n",
       "      <td>0.0</td>\n",
       "      <td>16.5</td>\n",
       "    </tr>\n",
       "    <tr>\n",
       "      <td>2</td>\n",
       "      <td>2020-03-04</td>\n",
       "      <td>0.0</td>\n",
       "      <td>0.0</td>\n",
       "      <td>0.0</td>\n",
       "      <td>17.0</td>\n",
       "    </tr>\n",
       "    <tr>\n",
       "      <td>3</td>\n",
       "      <td>2020-03-05</td>\n",
       "      <td>0.0</td>\n",
       "      <td>0.0</td>\n",
       "      <td>0.0</td>\n",
       "      <td>15.0</td>\n",
       "    </tr>\n",
       "    <tr>\n",
       "      <td>4</td>\n",
       "      <td>2020-03-06</td>\n",
       "      <td>0.0</td>\n",
       "      <td>0.0</td>\n",
       "      <td>0.0</td>\n",
       "      <td>14.0</td>\n",
       "    </tr>\n",
       "    <tr>\n",
       "      <td>...</td>\n",
       "      <td>...</td>\n",
       "      <td>...</td>\n",
       "      <td>...</td>\n",
       "      <td>...</td>\n",
       "      <td>...</td>\n",
       "    </tr>\n",
       "    <tr>\n",
       "      <td>76</td>\n",
       "      <td>2020-05-17</td>\n",
       "      <td>0.0</td>\n",
       "      <td>0.0</td>\n",
       "      <td>1.0</td>\n",
       "      <td>20.5</td>\n",
       "    </tr>\n",
       "    <tr>\n",
       "      <td>77</td>\n",
       "      <td>2020-05-18</td>\n",
       "      <td>0.0</td>\n",
       "      <td>0.0</td>\n",
       "      <td>0.0</td>\n",
       "      <td>22.5</td>\n",
       "    </tr>\n",
       "    <tr>\n",
       "      <td>78</td>\n",
       "      <td>2020-05-19</td>\n",
       "      <td>0.0</td>\n",
       "      <td>0.0</td>\n",
       "      <td>3.0</td>\n",
       "      <td>27.0</td>\n",
       "    </tr>\n",
       "    <tr>\n",
       "      <td>79</td>\n",
       "      <td>2020-05-20</td>\n",
       "      <td>1.0</td>\n",
       "      <td>0.0</td>\n",
       "      <td>0.0</td>\n",
       "      <td>22.5</td>\n",
       "    </tr>\n",
       "    <tr>\n",
       "      <td>80</td>\n",
       "      <td>2020-05-21</td>\n",
       "      <td>5.0</td>\n",
       "      <td>0.0</td>\n",
       "      <td>2.0</td>\n",
       "      <td>18.5</td>\n",
       "    </tr>\n",
       "  </tbody>\n",
       "</table>\n",
       "<p>81 rows × 5 columns</p>\n",
       "</div>"
      ],
      "text/plain": [
       "         date  infecte  morts  recuperé  temperature\n",
       "0  2020-03-02      0.0    0.0       0.0         16.0\n",
       "1  2020-03-03      0.0    0.0       0.0         16.5\n",
       "2  2020-03-04      0.0    0.0       0.0         17.0\n",
       "3  2020-03-05      0.0    0.0       0.0         15.0\n",
       "4  2020-03-06      0.0    0.0       0.0         14.0\n",
       "..        ...      ...    ...       ...          ...\n",
       "76 2020-05-17      0.0    0.0       1.0         20.5\n",
       "77 2020-05-18      0.0    0.0       0.0         22.5\n",
       "78 2020-05-19      0.0    0.0       3.0         27.0\n",
       "79 2020-05-20      1.0    0.0       0.0         22.5\n",
       "80 2020-05-21      5.0    0.0       2.0         18.5\n",
       "\n",
       "[81 rows x 5 columns]"
      ]
     },
     "execution_count": 148,
     "metadata": {},
     "output_type": "execute_result"
    }
   ],
   "source": [
    "dfsouss=pd.read_excel(r\"C:\\Users\\youne\\Desktop\\pfa\\DataFrame.xlsx\",\"Souss - Massa\")\n",
    "dfsouss"
   ]
  },
  {
   "cell_type": "code",
   "execution_count": 149,
   "metadata": {},
   "outputs": [],
   "source": [
    "df_souss_inf_recu=imputer_mean.fit_transform(dfsouss[['infecte','recuperé']])"
   ]
  },
  {
   "cell_type": "code",
   "execution_count": 150,
   "metadata": {},
   "outputs": [
    {
     "name": "stdout",
     "output_type": "stream",
     "text": [
      "(81,)\n",
      "(81,)\n",
      "(81,)\n"
     ]
    }
   ],
   "source": [
    "df_souss_inf_recu=df_souss_inf_recu.T\n",
    "tsouss=dfsouss[\"date\"]\n",
    "print(tsouss.shape)\n",
    "print(df_souss_inf_recu[0].shape)\n",
    "print(dfsouss[\"morts\"].shape)"
   ]
  },
  {
   "cell_type": "code",
   "execution_count": 151,
   "metadata": {},
   "outputs": [
    {
     "name": "stderr",
     "output_type": "stream",
     "text": [
      "E:\\Anconda\\lib\\site-packages\\ipykernel_launcher.py:1: SettingWithCopyWarning: \n",
      "A value is trying to be set on a copy of a slice from a DataFrame\n",
      "\n",
      "See the caveats in the documentation: http://pandas.pydata.org/pandas-docs/stable/user_guide/indexing.html#returning-a-view-versus-a-copy\n",
      "  \"\"\"Entry point for launching an IPython kernel.\n"
     ]
    }
   ],
   "source": [
    "dfsouss[\"morts\"][np.isnan(dfsouss[\"morts\"])]=0"
   ]
  },
  {
   "cell_type": "code",
   "execution_count": 152,
   "metadata": {},
   "outputs": [
    {
     "data": {
      "image/png": "[encoded data removed]",
      "text/plain": [
       "<Figure size 432x288 with 1 Axes>"
      ]
     },
     "metadata": {
      "needs_background": "light"
     },
     "output_type": "display_data"
    }
   ],
   "source": [
    "plot_data(df_souss_inf_recu,dfsouss,tsouss)"
   ]
  },
  {
   "cell_type": "code",
   "execution_count": 153,
   "metadata": {},
   "outputs": [
    {
     "data": {
      "text/html": [
       "<div>\n",
       "<style scoped>\n",
       "    .dataframe tbody tr th:only-of-type {\n",
       "        vertical-align: middle;\n",
       "    }\n",
       "\n",
       "    .dataframe tbody tr th {\n",
       "        vertical-align: top;\n",
       "    }\n",
       "\n",
       "    .dataframe thead th {\n",
       "        text-align: right;\n",
       "    }\n",
       "</style>\n",
       "<table border=\"1\" class=\"dataframe\">\n",
       "  <thead>\n",
       "    <tr style=\"text-align: right;\">\n",
       "      <th></th>\n",
       "      <th>la_date</th>\n",
       "      <th>suscptible</th>\n",
       "      <th>Infectés</th>\n",
       "      <th>récupérés</th>\n",
       "      <th>morts</th>\n",
       "    </tr>\n",
       "  </thead>\n",
       "  <tbody>\n",
       "    <tr>\n",
       "      <td>0</td>\n",
       "      <td>2020-03-02</td>\n",
       "      <td>20000.000000</td>\n",
       "      <td>0.0</td>\n",
       "      <td>0.0</td>\n",
       "      <td>0.0</td>\n",
       "    </tr>\n",
       "    <tr>\n",
       "      <td>1</td>\n",
       "      <td>2020-03-03</td>\n",
       "      <td>20000.000000</td>\n",
       "      <td>0.0</td>\n",
       "      <td>0.0</td>\n",
       "      <td>0.0</td>\n",
       "    </tr>\n",
       "    <tr>\n",
       "      <td>2</td>\n",
       "      <td>2020-03-04</td>\n",
       "      <td>20000.000000</td>\n",
       "      <td>0.0</td>\n",
       "      <td>0.0</td>\n",
       "      <td>0.0</td>\n",
       "    </tr>\n",
       "    <tr>\n",
       "      <td>3</td>\n",
       "      <td>2020-03-05</td>\n",
       "      <td>20000.000000</td>\n",
       "      <td>0.0</td>\n",
       "      <td>0.0</td>\n",
       "      <td>0.0</td>\n",
       "    </tr>\n",
       "    <tr>\n",
       "      <td>4</td>\n",
       "      <td>2020-03-06</td>\n",
       "      <td>20000.000000</td>\n",
       "      <td>0.0</td>\n",
       "      <td>0.0</td>\n",
       "      <td>0.0</td>\n",
       "    </tr>\n",
       "    <tr>\n",
       "      <td>...</td>\n",
       "      <td>...</td>\n",
       "      <td>...</td>\n",
       "      <td>...</td>\n",
       "      <td>...</td>\n",
       "      <td>...</td>\n",
       "    </tr>\n",
       "    <tr>\n",
       "      <td>76</td>\n",
       "      <td>2020-05-17</td>\n",
       "      <td>19816.347614</td>\n",
       "      <td>0.0</td>\n",
       "      <td>1.0</td>\n",
       "      <td>0.0</td>\n",
       "    </tr>\n",
       "    <tr>\n",
       "      <td>77</td>\n",
       "      <td>2020-05-18</td>\n",
       "      <td>19816.347614</td>\n",
       "      <td>0.0</td>\n",
       "      <td>0.0</td>\n",
       "      <td>0.0</td>\n",
       "    </tr>\n",
       "    <tr>\n",
       "      <td>78</td>\n",
       "      <td>2020-05-19</td>\n",
       "      <td>19813.347614</td>\n",
       "      <td>0.0</td>\n",
       "      <td>3.0</td>\n",
       "      <td>0.0</td>\n",
       "    </tr>\n",
       "    <tr>\n",
       "      <td>79</td>\n",
       "      <td>2020-05-20</td>\n",
       "      <td>19812.347614</td>\n",
       "      <td>1.0</td>\n",
       "      <td>0.0</td>\n",
       "      <td>0.0</td>\n",
       "    </tr>\n",
       "    <tr>\n",
       "      <td>80</td>\n",
       "      <td>2020-05-21</td>\n",
       "      <td>19805.347614</td>\n",
       "      <td>5.0</td>\n",
       "      <td>2.0</td>\n",
       "      <td>0.0</td>\n",
       "    </tr>\n",
       "  </tbody>\n",
       "</table>\n",
       "<p>81 rows × 5 columns</p>\n",
       "</div>"
      ],
      "text/plain": [
       "      la_date    suscptible  Infectés  récupérés  morts\n",
       "0  2020-03-02  20000.000000       0.0        0.0    0.0\n",
       "1  2020-03-03  20000.000000       0.0        0.0    0.0\n",
       "2  2020-03-04  20000.000000       0.0        0.0    0.0\n",
       "3  2020-03-05  20000.000000       0.0        0.0    0.0\n",
       "4  2020-03-06  20000.000000       0.0        0.0    0.0\n",
       "..        ...           ...       ...        ...    ...\n",
       "76 2020-05-17  19816.347614       0.0        1.0    0.0\n",
       "77 2020-05-18  19816.347614       0.0        0.0    0.0\n",
       "78 2020-05-19  19813.347614       0.0        3.0    0.0\n",
       "79 2020-05-20  19812.347614       1.0        0.0    0.0\n",
       "80 2020-05-21  19805.347614       5.0        2.0    0.0\n",
       "\n",
       "[81 rows x 5 columns]"
      ]
     },
     "execution_count": 153,
     "metadata": {},
     "output_type": "execute_result"
    }
   ],
   "source": [
    "Suscptibles=[]\n",
    "S=20000\n",
    "for i in range(81):\n",
    "    S=S-df_souss_inf_recu[0][i]-df_souss_inf_recu[1][i]\n",
    "    Suscptibles.append(S)\n",
    "dataf_souss= pd.DataFrame({'la_date':tsouss,'suscptible':Suscptibles,'Infectés':df_souss_inf_recu[0],'récupérés':df_souss_inf_recu[1],'morts':dfsouss[\"morts\"]})\n",
    "dataf_souss"
   ]
  },
  {
   "cell_type": "code",
   "execution_count": 154,
   "metadata": {},
   "outputs": [
    {
     "name": "stdout",
     "output_type": "stream",
     "text": [
      "24.0\n",
      "27.0\n",
      "8.0\n",
      "9.0\n",
      "7.0\n",
      "5.0\n",
      "3.0\n",
      "13.0\n",
      "7.0\n",
      "4.0\n",
      "5.0\n",
      "3.0\n",
      "3.0\n",
      "3.0\n"
     ]
    },
    {
     "name": "stderr",
     "output_type": "stream",
     "text": [
      "E:\\Anconda\\lib\\site-packages\\ipykernel_launcher.py:8: SettingWithCopyWarning: \n",
      "A value is trying to be set on a copy of a slice from a DataFrame\n",
      "\n",
      "See the caveats in the documentation: http://pandas.pydata.org/pandas-docs/stable/user_guide/indexing.html#returning-a-view-versus-a-copy\n",
      "  \n",
      "E:\\Anconda\\lib\\site-packages\\ipykernel_launcher.py:15: SettingWithCopyWarning: \n",
      "A value is trying to be set on a copy of a slice from a DataFrame\n",
      "\n",
      "See the caveats in the documentation: http://pandas.pydata.org/pandas-docs/stable/user_guide/indexing.html#returning-a-view-versus-a-copy\n",
      "  from ipykernel import kernelapp as app\n"
     ]
    }
   ],
   "source": [
    "dataf_souss=Dectect_aberrante(dataf_souss)"
   ]
  },
  {
   "cell_type": "code",
   "execution_count": 155,
   "metadata": {},
   "outputs": [
    {
     "data": {
      "text/plain": [
       "[<matplotlib.lines.Line2D at 0x1ffc2b58388>]"
      ]
     },
     "execution_count": 155,
     "metadata": {},
     "output_type": "execute_result"
    },
    {
     "data": {
      "image/png": "[encoded data removed]",
      "text/plain": [
       "<Figure size 432x288 with 1 Axes>"
      ]
     },
     "metadata": {
      "needs_background": "light"
     },
     "output_type": "display_data"
    }
   ],
   "source": [
    "plt.plot(dataf_souss.la_date,dataf_souss.Infectés)"
   ]
  },
  {
   "cell_type": "code",
   "execution_count": 165,
   "metadata": {},
   "outputs": [],
   "source": [
    "dictionnaire_III,dictionnaire_R=filtrage(20000,1,0,np.arange(2,83),dataf_souss)"
   ]
  },
  {
   "cell_type": "code",
   "execution_count": 166,
   "metadata": {},
   "outputs": [
    {
     "data": {
      "text/plain": [
       "('beta est:0.5509999999999999 gamma est:0.5309999999999999',\n",
       " 181.16999252918657)"
      ]
     },
     "execution_count": 166,
     "metadata": {},
     "output_type": "execute_result"
    }
   ],
   "source": [
    "keyminval(dictionnaire_III)"
   ]
  },
  {
   "cell_type": "code",
   "execution_count": 167,
   "metadata": {},
   "outputs": [],
   "source": [
    "Sor,Ior,Ror=SolutionSIR(20000,1,0,np.arange(2,683),0.55,0.53)"
   ]
  },
  {
   "cell_type": "code",
   "execution_count": 169,
   "metadata": {},
   "outputs": [
    {
     "data": {
      "image/png": "[encoded data removed]",
      "text/plain": [
       "<Figure size 144x144 with 1 Axes>"
      ]
     },
     "metadata": {
      "needs_background": "light"
     },
     "output_type": "display_data"
    }
   ],
   "source": [
    "plt.figure(figsize=(2,2))\n",
    "plt.plot(np.arange(2,683),Ior)\n",
    "plt.plot(np.arange(2,83),dataf_souss.Infectés)\n",
    "plt.savefig(\"souss.png\")\n",
    "plt.show()"
   ]
  },
  {
   "cell_type": "markdown",
   "metadata": {},
   "source": [
    "# yeteteeeyy"
   ]
  },
  {
   "cell_type": "code",
   "execution_count": 170,
   "metadata": {},
   "outputs": [
    {
     "data": {
      "text/html": [
       "<div>\n",
       "<style scoped>\n",
       "    .dataframe tbody tr th:only-of-type {\n",
       "        vertical-align: middle;\n",
       "    }\n",
       "\n",
       "    .dataframe tbody tr th {\n",
       "        vertical-align: top;\n",
       "    }\n",
       "\n",
       "    .dataframe thead th {\n",
       "        text-align: right;\n",
       "    }\n",
       "</style>\n",
       "<table border=\"1\" class=\"dataframe\">\n",
       "  <thead>\n",
       "    <tr style=\"text-align: right;\">\n",
       "      <th></th>\n",
       "      <th>date</th>\n",
       "      <th>infecté</th>\n",
       "      <th>morts</th>\n",
       "      <th>recupéré</th>\n",
       "      <th>temperature</th>\n",
       "    </tr>\n",
       "  </thead>\n",
       "  <tbody>\n",
       "    <tr>\n",
       "      <td>0</td>\n",
       "      <td>2020-03-02</td>\n",
       "      <td>0.0</td>\n",
       "      <td>0.0</td>\n",
       "      <td>0.0</td>\n",
       "      <td>17.5</td>\n",
       "    </tr>\n",
       "    <tr>\n",
       "      <td>1</td>\n",
       "      <td>2020-03-03</td>\n",
       "      <td>0.0</td>\n",
       "      <td>0.0</td>\n",
       "      <td>0.0</td>\n",
       "      <td>18.0</td>\n",
       "    </tr>\n",
       "    <tr>\n",
       "      <td>2</td>\n",
       "      <td>2020-03-04</td>\n",
       "      <td>0.0</td>\n",
       "      <td>0.0</td>\n",
       "      <td>0.0</td>\n",
       "      <td>23.0</td>\n",
       "    </tr>\n",
       "    <tr>\n",
       "      <td>3</td>\n",
       "      <td>2020-03-05</td>\n",
       "      <td>0.0</td>\n",
       "      <td>0.0</td>\n",
       "      <td>0.0</td>\n",
       "      <td>21.0</td>\n",
       "    </tr>\n",
       "    <tr>\n",
       "      <td>4</td>\n",
       "      <td>2020-03-06</td>\n",
       "      <td>0.0</td>\n",
       "      <td>0.0</td>\n",
       "      <td>0.0</td>\n",
       "      <td>14.5</td>\n",
       "    </tr>\n",
       "    <tr>\n",
       "      <td>...</td>\n",
       "      <td>...</td>\n",
       "      <td>...</td>\n",
       "      <td>...</td>\n",
       "      <td>...</td>\n",
       "      <td>...</td>\n",
       "    </tr>\n",
       "    <tr>\n",
       "      <td>76</td>\n",
       "      <td>2020-05-17</td>\n",
       "      <td>3.0</td>\n",
       "      <td>0.0</td>\n",
       "      <td>3.0</td>\n",
       "      <td>18.0</td>\n",
       "    </tr>\n",
       "    <tr>\n",
       "      <td>77</td>\n",
       "      <td>2020-05-18</td>\n",
       "      <td>0.0</td>\n",
       "      <td>0.0</td>\n",
       "      <td>0.0</td>\n",
       "      <td>21.0</td>\n",
       "    </tr>\n",
       "    <tr>\n",
       "      <td>78</td>\n",
       "      <td>2020-05-19</td>\n",
       "      <td>0.0</td>\n",
       "      <td>0.0</td>\n",
       "      <td>0.0</td>\n",
       "      <td>22.0</td>\n",
       "    </tr>\n",
       "    <tr>\n",
       "      <td>79</td>\n",
       "      <td>2020-05-20</td>\n",
       "      <td>0.0</td>\n",
       "      <td>0.0</td>\n",
       "      <td>7.0</td>\n",
       "      <td>22.5</td>\n",
       "    </tr>\n",
       "    <tr>\n",
       "      <td>80</td>\n",
       "      <td>2020-05-21</td>\n",
       "      <td>1.0</td>\n",
       "      <td>0.0</td>\n",
       "      <td>1.0</td>\n",
       "      <td>22.5</td>\n",
       "    </tr>\n",
       "  </tbody>\n",
       "</table>\n",
       "<p>81 rows × 5 columns</p>\n",
       "</div>"
      ],
      "text/plain": [
       "         date  infecté  morts  recupéré  temperature\n",
       "0  2020-03-02      0.0    0.0       0.0         17.5\n",
       "1  2020-03-03      0.0    0.0       0.0         18.0\n",
       "2  2020-03-04      0.0    0.0       0.0         23.0\n",
       "3  2020-03-05      0.0    0.0       0.0         21.0\n",
       "4  2020-03-06      0.0    0.0       0.0         14.5\n",
       "..        ...      ...    ...       ...          ...\n",
       "76 2020-05-17      3.0    0.0       3.0         18.0\n",
       "77 2020-05-18      0.0    0.0       0.0         21.0\n",
       "78 2020-05-19      0.0    0.0       0.0         22.0\n",
       "79 2020-05-20      0.0    0.0       7.0         22.5\n",
       "80 2020-05-21      1.0    0.0       1.0         22.5\n",
       "\n",
       "[81 rows x 5 columns]"
      ]
     },
     "execution_count": 170,
     "metadata": {},
     "output_type": "execute_result"
    }
   ],
   "source": [
    "dfbeni=pd.read_excel(r\"C:\\Users\\youne\\Desktop\\pfa\\DataFrame.xlsx\",\"beni-mellal\")\n",
    "dfbeni"
   ]
  },
  {
   "cell_type": "code",
   "execution_count": 177,
   "metadata": {},
   "outputs": [
    {
     "name": "stdout",
     "output_type": "stream",
     "text": [
      "(81,)\n",
      "(81,)\n",
      "(81,)\n"
     ]
    },
    {
     "name": "stderr",
     "output_type": "stream",
     "text": [
      "E:\\Anconda\\lib\\site-packages\\ipykernel_launcher.py:9: SettingWithCopyWarning: \n",
      "A value is trying to be set on a copy of a slice from a DataFrame\n",
      "\n",
      "See the caveats in the documentation: http://pandas.pydata.org/pandas-docs/stable/user_guide/indexing.html#returning-a-view-versus-a-copy\n",
      "  if __name__ == '__main__':\n"
     ]
    },
    {
     "data": {
      "image/png": "[encoded data removed]",
      "text/plain": [
       "<Figure size 432x288 with 1 Axes>"
      ]
     },
     "metadata": {
      "needs_background": "light"
     },
     "output_type": "display_data"
    },
    {
     "name": "stdout",
     "output_type": "stream",
     "text": [
      "7.0\n",
      "12.0\n",
      "10.0\n",
      "12.0\n",
      "7.0\n",
      "6.0\n",
      "7.0\n",
      "7.0\n"
     ]
    },
    {
     "name": "stderr",
     "output_type": "stream",
     "text": [
      "E:\\Anconda\\lib\\site-packages\\ipykernel_launcher.py:8: SettingWithCopyWarning: \n",
      "A value is trying to be set on a copy of a slice from a DataFrame\n",
      "\n",
      "See the caveats in the documentation: http://pandas.pydata.org/pandas-docs/stable/user_guide/indexing.html#returning-a-view-versus-a-copy\n",
      "  \n",
      "E:\\Anconda\\lib\\site-packages\\ipykernel_launcher.py:15: SettingWithCopyWarning: \n",
      "A value is trying to be set on a copy of a slice from a DataFrame\n",
      "\n",
      "See the caveats in the documentation: http://pandas.pydata.org/pandas-docs/stable/user_guide/indexing.html#returning-a-view-versus-a-copy\n",
      "  from ipykernel import kernelapp as app\n"
     ]
    },
    {
     "data": {
      "text/plain": [
       "('beta est:0.581 gamma est:0.5609999999999999', 117.44053399026679)"
      ]
     },
     "execution_count": 177,
     "metadata": {},
     "output_type": "execute_result"
    },
    {
     "data": {
      "image/png": "[encoded data removed]",
      "text/plain": [
       "<Figure size 432x288 with 1 Axes>"
      ]
     },
     "metadata": {
      "needs_background": "light"
     },
     "output_type": "display_data"
    }
   ],
   "source": [
    "df_beni_inf_recu=imputer_mean.fit_transform(dfbeni[['infecté','recupéré']])\n",
    "##\n",
    "df_beni_inf_recu=df_beni_inf_recu.T\n",
    "tbeni=dfbeni[\"date\"]\n",
    "print(tbeni.shape)\n",
    "print(df_beni_inf_recu[0].shape)\n",
    "print(dfbeni[\"morts\"].shape)\n",
    "#\n",
    "dfbeni[\"morts\"][np.isnan(dfbeni[\"morts\"])]=0\n",
    "#\n",
    "plot_data(df_beni_inf_recu,dfbeni,tbeni)\n",
    "#\n",
    "Suscptibled=[]\n",
    "S=30000\n",
    "for i in range(81):\n",
    "    S=S-df_beni_inf_recu[0][i]-df_beni_inf_recu[1][i]\n",
    "    Suscptibled.append(S)\n",
    "dataf_beni= pd.DataFrame({'la_date':tbeni,'suscptible':Suscptibled,'Infectés':df_beni_inf_recu[0],'récupérés':df_beni_inf_recu[1],'morts':dfbeni[\"morts\"]})\n",
    "dataf_beni\n",
    "#\n",
    "dataf_beni=Dectect_aberrante(dataf_beni)\n",
    "#\n",
    "plt.plot(dataf_beni.la_date,dataf_beni.Infectés)\n",
    "#\n",
    "dictionnaire_Ibeni,dictionnaire_R=filtrage(30000,1,0,np.arange(2,83),dataf_beni)\n",
    "#\n",
    "keyminval(dictionnaire_Ibeni)\n",
    "#\n",
    "\n"
   ]
  },
  {
   "cell_type": "code",
   "execution_count": 180,
   "metadata": {},
   "outputs": [
    {
     "data": {
      "image/png": "[encoded data removed]",
      "text/plain": [
       "<Figure size 144x144 with 1 Axes>"
      ]
     },
     "metadata": {
      "needs_background": "light"
     },
     "output_type": "display_data"
    }
   ],
   "source": [
    "Sor,Ior,Ror=SolutionSIR(30000,1,0,np.arange(2,283),0.581,0.560)\n",
    "plt.figure(figsize=(2,2))\n",
    "plt.plot(np.arange(2,283),Ior)\n",
    "plt.plot(np.arange(2,83),dataf_beni.Infectés)\n",
    "plt.savefig(\"beni_mellal.png\")\n",
    "plt.show()"
   ]
  },
  {
   "cell_type": "markdown",
   "metadata": {},
   "source": [
    "# le région"
   ]
  },
  {
   "cell_type": "code",
   "execution_count": 181,
   "metadata": {},
   "outputs": [
    {
     "data": {
      "text/html": [
       "<div>\n",
       "<style scoped>\n",
       "    .dataframe tbody tr th:only-of-type {\n",
       "        vertical-align: middle;\n",
       "    }\n",
       "\n",
       "    .dataframe tbody tr th {\n",
       "        vertical-align: top;\n",
       "    }\n",
       "\n",
       "    .dataframe thead th {\n",
       "        text-align: right;\n",
       "    }\n",
       "</style>\n",
       "<table border=\"1\" class=\"dataframe\">\n",
       "  <thead>\n",
       "    <tr style=\"text-align: right;\">\n",
       "      <th></th>\n",
       "      <th>date</th>\n",
       "      <th>infectés</th>\n",
       "      <th>morts</th>\n",
       "      <th>guéris</th>\n",
       "      <th>température</th>\n",
       "    </tr>\n",
       "  </thead>\n",
       "  <tbody>\n",
       "    <tr>\n",
       "      <td>0</td>\n",
       "      <td>2020-03-02</td>\n",
       "      <td>0.0</td>\n",
       "      <td>0.0</td>\n",
       "      <td>0.0</td>\n",
       "      <td>16.0</td>\n",
       "    </tr>\n",
       "    <tr>\n",
       "      <td>1</td>\n",
       "      <td>2020-03-03</td>\n",
       "      <td>0.0</td>\n",
       "      <td>0.0</td>\n",
       "      <td>0.0</td>\n",
       "      <td>14.5</td>\n",
       "    </tr>\n",
       "    <tr>\n",
       "      <td>2</td>\n",
       "      <td>2020-03-04</td>\n",
       "      <td>0.0</td>\n",
       "      <td>0.0</td>\n",
       "      <td>0.0</td>\n",
       "      <td>15.5</td>\n",
       "    </tr>\n",
       "    <tr>\n",
       "      <td>3</td>\n",
       "      <td>2020-03-05</td>\n",
       "      <td>0.0</td>\n",
       "      <td>0.0</td>\n",
       "      <td>0.0</td>\n",
       "      <td>15.5</td>\n",
       "    </tr>\n",
       "    <tr>\n",
       "      <td>4</td>\n",
       "      <td>2020-03-06</td>\n",
       "      <td>0.0</td>\n",
       "      <td>0.0</td>\n",
       "      <td>0.0</td>\n",
       "      <td>13.5</td>\n",
       "    </tr>\n",
       "    <tr>\n",
       "      <td>...</td>\n",
       "      <td>...</td>\n",
       "      <td>...</td>\n",
       "      <td>...</td>\n",
       "      <td>...</td>\n",
       "      <td>...</td>\n",
       "    </tr>\n",
       "    <tr>\n",
       "      <td>76</td>\n",
       "      <td>2020-05-17</td>\n",
       "      <td>13.0</td>\n",
       "      <td>0.0</td>\n",
       "      <td>37.0</td>\n",
       "      <td>17.5</td>\n",
       "    </tr>\n",
       "    <tr>\n",
       "      <td>77</td>\n",
       "      <td>2020-05-18</td>\n",
       "      <td>5.0</td>\n",
       "      <td>0.0</td>\n",
       "      <td>28.0</td>\n",
       "      <td>20.0</td>\n",
       "    </tr>\n",
       "    <tr>\n",
       "      <td>78</td>\n",
       "      <td>2020-05-19</td>\n",
       "      <td>10.0</td>\n",
       "      <td>1.0</td>\n",
       "      <td>47.0</td>\n",
       "      <td>18.0</td>\n",
       "    </tr>\n",
       "    <tr>\n",
       "      <td>79</td>\n",
       "      <td>2020-05-20</td>\n",
       "      <td>0.0</td>\n",
       "      <td>0.0</td>\n",
       "      <td>0.0</td>\n",
       "      <td>21.0</td>\n",
       "    </tr>\n",
       "    <tr>\n",
       "      <td>80</td>\n",
       "      <td>2020-05-21</td>\n",
       "      <td>2.0</td>\n",
       "      <td>1.0</td>\n",
       "      <td>60.0</td>\n",
       "      <td>20.0</td>\n",
       "    </tr>\n",
       "  </tbody>\n",
       "</table>\n",
       "<p>81 rows × 5 columns</p>\n",
       "</div>"
      ],
      "text/plain": [
       "         date  infectés  morts  guéris  température\n",
       "0  2020-03-02       0.0    0.0     0.0         16.0\n",
       "1  2020-03-03       0.0    0.0     0.0         14.5\n",
       "2  2020-03-04       0.0    0.0     0.0         15.5\n",
       "3  2020-03-05       0.0    0.0     0.0         15.5\n",
       "4  2020-03-06       0.0    0.0     0.0         13.5\n",
       "..        ...       ...    ...     ...          ...\n",
       "76 2020-05-17      13.0    0.0    37.0         17.5\n",
       "77 2020-05-18       5.0    0.0    28.0         20.0\n",
       "78 2020-05-19      10.0    1.0    47.0         18.0\n",
       "79 2020-05-20       0.0    0.0     0.0         21.0\n",
       "80 2020-05-21       2.0    1.0    60.0         20.0\n",
       "\n",
       "[81 rows x 5 columns]"
      ]
     },
     "execution_count": 181,
     "metadata": {},
     "output_type": "execute_result"
    }
   ],
   "source": [
    "dftanger=pd.read_excel(r\"C:\\Users\\youne\\Desktop\\pfa\\DataFrame.xlsx\",\"tanger-ELHoceima\")\n",
    "dftanger"
   ]
  },
  {
   "cell_type": "code",
   "execution_count": 183,
   "metadata": {},
   "outputs": [
    {
     "name": "stdout",
     "output_type": "stream",
     "text": [
      "(81,)\n",
      "(81,)\n",
      "(81,)\n"
     ]
    },
    {
     "name": "stderr",
     "output_type": "stream",
     "text": [
      "E:\\Anconda\\lib\\site-packages\\ipykernel_launcher.py:9: SettingWithCopyWarning: \n",
      "A value is trying to be set on a copy of a slice from a DataFrame\n",
      "\n",
      "See the caveats in the documentation: http://pandas.pydata.org/pandas-docs/stable/user_guide/indexing.html#returning-a-view-versus-a-copy\n",
      "  if __name__ == '__main__':\n"
     ]
    },
    {
     "data": {
      "image/png": "[encoded data removed]",
      "text/plain": [
       "<Figure size 432x288 with 1 Axes>"
      ]
     },
     "metadata": {
      "needs_background": "light"
     },
     "output_type": "display_data"
    },
    {
     "name": "stdout",
     "output_type": "stream",
     "text": [
      "91.0\n",
      "44.0\n",
      "30.0\n",
      "23.0\n",
      "29.0\n",
      "52.0\n",
      "37.0\n",
      "28.0\n",
      "47.0\n",
      "60.0\n"
     ]
    },
    {
     "name": "stderr",
     "output_type": "stream",
     "text": [
      "E:\\Anconda\\lib\\site-packages\\ipykernel_launcher.py:8: SettingWithCopyWarning: \n",
      "A value is trying to be set on a copy of a slice from a DataFrame\n",
      "\n",
      "See the caveats in the documentation: http://pandas.pydata.org/pandas-docs/stable/user_guide/indexing.html#returning-a-view-versus-a-copy\n",
      "  \n",
      "E:\\Anconda\\lib\\site-packages\\ipykernel_launcher.py:15: SettingWithCopyWarning: \n",
      "A value is trying to be set on a copy of a slice from a DataFrame\n",
      "\n",
      "See the caveats in the documentation: http://pandas.pydata.org/pandas-docs/stable/user_guide/indexing.html#returning-a-view-versus-a-copy\n",
      "  from ipykernel import kernelapp as app\n"
     ]
    },
    {
     "data": {
      "text/plain": [
       "('beta est:0.9909999999999999 gamma est:0.9409999999999998', 956.5332685571028)"
      ]
     },
     "execution_count": 183,
     "metadata": {},
     "output_type": "execute_result"
    },
    {
     "data": {
      "image/png": "[encoded data removed]",
      "text/plain": [
       "<Figure size 432x288 with 1 Axes>"
      ]
     },
     "metadata": {
      "needs_background": "light"
     },
     "output_type": "display_data"
    }
   ],
   "source": [
    "df_tanger_inf_recu=imputer_mean.fit_transform(dftanger[['infectés','guéris']])\n",
    "##\n",
    "df_tanger_inf_recu=df_tanger_inf_recu.T\n",
    "ttanger=dftanger[\"date\"]\n",
    "print(ttanger.shape)\n",
    "print(df_tanger_inf_recu[0].shape)\n",
    "print(dftanger[\"morts\"].shape)\n",
    "#\n",
    "dftanger[\"morts\"][np.isnan(dftanger[\"morts\"])]=0\n",
    "#\n",
    "plot_data(df_tanger_inf_recu,dftanger,ttanger)\n",
    "#\n",
    "Suscptibled=[]\n",
    "S=40000\n",
    "for i in range(81):\n",
    "    S=S-df_tanger_inf_recu[0][i]-df_tanger_inf_recu[1][i]\n",
    "    Suscptibled.append(S)\n",
    "dataf_tanger= pd.DataFrame({'la_date':ttanger,'suscptible':Suscptibled,'Infectés':df_tanger_inf_recu[0],'récupérés':df_tanger_inf_recu[1],'morts':dftanger[\"morts\"]})\n",
    "dataf_tanger\n",
    "#\n",
    "dataf_tanger=Dectect_aberrante(dataf_tanger)\n",
    "#\n",
    "plt.plot(dataf_tanger.la_date,dataf_tanger.Infectés)\n",
    "#\n",
    "dictionnaire_Itanger,dictionnaire_R=filtrage(40000,1,0,np.arange(2,83),dataf_tanger)\n",
    "#\n",
    "keyminval(dictionnaire_Itanger)\n",
    "#\n"
   ]
  },
  {
   "cell_type": "code",
   "execution_count": 185,
   "metadata": {},
   "outputs": [
    {
     "data": {
      "image/png": "[encoded data removed]",
      "text/plain": [
       "<Figure size 144x144 with 1 Axes>"
      ]
     },
     "metadata": {
      "needs_background": "light"
     },
     "output_type": "display_data"
    }
   ],
   "source": [
    "Sor,Ior,Ror=SolutionSIR(40000,1,0,np.arange(2,283),0.991,0.941)\n",
    "plt.figure(figsize=(2,2))\n",
    "plt.plot(np.arange(2,283),Ior)\n",
    "plt.plot(np.arange(2,83),dataf_tanger.Infectés)\n",
    "plt.savefig(\"tanger.png\")\n",
    "plt.show()"
   ]
  },
  {
   "cell_type": "markdown",
   "metadata": {},
   "source": [
    "# la région"
   ]
  },
  {
   "cell_type": "code",
   "execution_count": 186,
   "metadata": {},
   "outputs": [
    {
     "data": {
      "text/html": [
       "<div>\n",
       "<style scoped>\n",
       "    .dataframe tbody tr th:only-of-type {\n",
       "        vertical-align: middle;\n",
       "    }\n",
       "\n",
       "    .dataframe tbody tr th {\n",
       "        vertical-align: top;\n",
       "    }\n",
       "\n",
       "    .dataframe thead th {\n",
       "        text-align: right;\n",
       "    }\n",
       "</style>\n",
       "<table border=\"1\" class=\"dataframe\">\n",
       "  <thead>\n",
       "    <tr style=\"text-align: right;\">\n",
       "      <th></th>\n",
       "      <th>date</th>\n",
       "      <th>infecte</th>\n",
       "      <th>morts</th>\n",
       "      <th>recuperé</th>\n",
       "      <th>temperature</th>\n",
       "    </tr>\n",
       "  </thead>\n",
       "  <tbody>\n",
       "    <tr>\n",
       "      <td>0</td>\n",
       "      <td>2020-03-02</td>\n",
       "      <td>0.0</td>\n",
       "      <td>0</td>\n",
       "      <td>0.0</td>\n",
       "      <td>16.0</td>\n",
       "    </tr>\n",
       "    <tr>\n",
       "      <td>1</td>\n",
       "      <td>2020-03-03</td>\n",
       "      <td>0.0</td>\n",
       "      <td>0</td>\n",
       "      <td>0.0</td>\n",
       "      <td>16.5</td>\n",
       "    </tr>\n",
       "    <tr>\n",
       "      <td>2</td>\n",
       "      <td>2020-03-04</td>\n",
       "      <td>0.0</td>\n",
       "      <td>0</td>\n",
       "      <td>0.0</td>\n",
       "      <td>17.0</td>\n",
       "    </tr>\n",
       "    <tr>\n",
       "      <td>3</td>\n",
       "      <td>2020-03-05</td>\n",
       "      <td>0.0</td>\n",
       "      <td>0</td>\n",
       "      <td>0.0</td>\n",
       "      <td>15.0</td>\n",
       "    </tr>\n",
       "    <tr>\n",
       "      <td>4</td>\n",
       "      <td>2020-03-06</td>\n",
       "      <td>0.0</td>\n",
       "      <td>0</td>\n",
       "      <td>0.0</td>\n",
       "      <td>14.0</td>\n",
       "    </tr>\n",
       "    <tr>\n",
       "      <td>...</td>\n",
       "      <td>...</td>\n",
       "      <td>...</td>\n",
       "      <td>...</td>\n",
       "      <td>...</td>\n",
       "      <td>...</td>\n",
       "    </tr>\n",
       "    <tr>\n",
       "      <td>76</td>\n",
       "      <td>2020-05-17</td>\n",
       "      <td>6.0</td>\n",
       "      <td>0</td>\n",
       "      <td>32.0</td>\n",
       "      <td>21.0</td>\n",
       "    </tr>\n",
       "    <tr>\n",
       "      <td>77</td>\n",
       "      <td>2020-05-18</td>\n",
       "      <td>13.0</td>\n",
       "      <td>0</td>\n",
       "      <td>39.0</td>\n",
       "      <td>22.5</td>\n",
       "    </tr>\n",
       "    <tr>\n",
       "      <td>78</td>\n",
       "      <td>2020-05-19</td>\n",
       "      <td>1.0</td>\n",
       "      <td>0</td>\n",
       "      <td>45.0</td>\n",
       "      <td>23.0</td>\n",
       "    </tr>\n",
       "    <tr>\n",
       "      <td>79</td>\n",
       "      <td>2020-05-20</td>\n",
       "      <td>21.0</td>\n",
       "      <td>1</td>\n",
       "      <td>39.0</td>\n",
       "      <td>21.0</td>\n",
       "    </tr>\n",
       "    <tr>\n",
       "      <td>80</td>\n",
       "      <td>2020-05-21</td>\n",
       "      <td>4.0</td>\n",
       "      <td>0</td>\n",
       "      <td>34.0</td>\n",
       "      <td>21.5</td>\n",
       "    </tr>\n",
       "  </tbody>\n",
       "</table>\n",
       "<p>81 rows × 5 columns</p>\n",
       "</div>"
      ],
      "text/plain": [
       "         date  infecte  morts  recuperé  temperature\n",
       "0  2020-03-02      0.0      0       0.0         16.0\n",
       "1  2020-03-03      0.0      0       0.0         16.5\n",
       "2  2020-03-04      0.0      0       0.0         17.0\n",
       "3  2020-03-05      0.0      0       0.0         15.0\n",
       "4  2020-03-06      0.0      0       0.0         14.0\n",
       "..        ...      ...    ...       ...          ...\n",
       "76 2020-05-17      6.0      0      32.0         21.0\n",
       "77 2020-05-18     13.0      0      39.0         22.5\n",
       "78 2020-05-19      1.0      0      45.0         23.0\n",
       "79 2020-05-20     21.0      1      39.0         21.0\n",
       "80 2020-05-21      4.0      0      34.0         21.5\n",
       "\n",
       "[81 rows x 5 columns]"
      ]
     },
     "execution_count": 186,
     "metadata": {},
     "output_type": "execute_result"
    }
   ],
   "source": [
    "dffes=pd.read_excel(r\"C:\\Users\\youne\\Desktop\\pfa\\DataFrame.xlsx\",\"Fes - Meknes\")\n",
    "dffes"
   ]
  },
  {
   "cell_type": "code",
   "execution_count": 187,
   "metadata": {},
   "outputs": [
    {
     "name": "stdout",
     "output_type": "stream",
     "text": [
      "(81,)\n",
      "(81,)\n",
      "(81,)\n"
     ]
    },
    {
     "data": {
      "image/png": "[encoded data removed]",
      "text/plain": [
       "<Figure size 432x288 with 1 Axes>"
      ]
     },
     "metadata": {
      "needs_background": "light"
     },
     "output_type": "display_data"
    },
    {
     "name": "stdout",
     "output_type": "stream",
     "text": [
      "230.0\n",
      "295.0\n",
      "47.0\n",
      "47.0\n",
      "44.0\n",
      "45.0\n",
      "83.0\n",
      "54.0\n",
      "53.0\n",
      "45.0\n"
     ]
    },
    {
     "name": "stderr",
     "output_type": "stream",
     "text": [
      "E:\\Anconda\\lib\\site-packages\\ipykernel_launcher.py:8: SettingWithCopyWarning: \n",
      "A value is trying to be set on a copy of a slice from a DataFrame\n",
      "\n",
      "See the caveats in the documentation: http://pandas.pydata.org/pandas-docs/stable/user_guide/indexing.html#returning-a-view-versus-a-copy\n",
      "  \n",
      "E:\\Anconda\\lib\\site-packages\\ipykernel_launcher.py:15: SettingWithCopyWarning: \n",
      "A value is trying to be set on a copy of a slice from a DataFrame\n",
      "\n",
      "See the caveats in the documentation: http://pandas.pydata.org/pandas-docs/stable/user_guide/indexing.html#returning-a-view-versus-a-copy\n",
      "  from ipykernel import kernelapp as app\n"
     ]
    },
    {
     "data": {
      "text/plain": [
       "('beta est:0.9909999999999999 gamma est:0.9309999999999998', 2989.429338810489)"
      ]
     },
     "execution_count": 187,
     "metadata": {},
     "output_type": "execute_result"
    },
    {
     "data": {
      "image/png": "[encoded data removed]",
      "text/plain": [
       "<Figure size 432x288 with 1 Axes>"
      ]
     },
     "metadata": {
      "needs_background": "light"
     },
     "output_type": "display_data"
    }
   ],
   "source": [
    "df_fes_inf_recu=imputer_mean.fit_transform(dffes[['infecte','recuperé']])\n",
    "##\n",
    "df_fes_inf_recu=df_fes_inf_recu.T\n",
    "tfes=dffes[\"date\"]\n",
    "print(tfes.shape)\n",
    "print(df_fes_inf_recu[0].shape)\n",
    "print(dffes[\"morts\"].shape)\n",
    "\n",
    "plot_data(df_fes_inf_recu,dffes,tfes)\n",
    "#\n",
    "Suscptibled=[]\n",
    "S=35000\n",
    "for i in range(81):\n",
    "    S=S-df_fes_inf_recu[0][i]-df_fes_inf_recu[1][i]\n",
    "    Suscptibled.append(S)\n",
    "dataf_fes= pd.DataFrame({'la_date':tfes,'suscptible':Suscptibled,'Infectés':df_fes_inf_recu[0],'récupérés':df_fes_inf_recu[1],'morts':dffes[\"morts\"]})\n",
    "dataf_fes\n",
    "#\n",
    "dataf_fes=Dectect_aberrante(dataf_fes)\n",
    "#\n",
    "plt.plot(dataf_fes.la_date,dataf_fes.Infectés)\n",
    "#\n",
    "dictionnaire_Ifes,dictionnaire_R=filtrage(35000,1,0,np.arange(2,83),dataf_fes)\n",
    "#\n",
    "keyminval(dictionnaire_Ifes)\n",
    "#"
   ]
  },
  {
   "cell_type": "code",
   "execution_count": 189,
   "metadata": {},
   "outputs": [
    {
     "data": {
      "image/png": "[encoded data removed]",
      "text/plain": [
       "<Figure size 144x144 with 1 Axes>"
      ]
     },
     "metadata": {
      "needs_background": "light"
     },
     "output_type": "display_data"
    }
   ],
   "source": [
    "Sor,Ior,Ror=SolutionSIR(35000,1,0,np.arange(2,283),0.991,0.931)\n",
    "plt.figure(figsize=(2,2))\n",
    "plt.plot(np.arange(2,283),Ior)\n",
    "plt.plot(np.arange(2,83),dataf_daraa.Infectés)\n",
    "plt.savefig(\"fes.png\")\n",
    "plt.show()"
   ]
  },
  {
   "cell_type": "markdown",
   "metadata": {},
   "source": [
    "# LA région Guelmim"
   ]
  },
  {
   "cell_type": "code",
   "execution_count": 197,
   "metadata": {},
   "outputs": [
    {
     "data": {
      "text/html": [
       "<div>\n",
       "<style scoped>\n",
       "    .dataframe tbody tr th:only-of-type {\n",
       "        vertical-align: middle;\n",
       "    }\n",
       "\n",
       "    .dataframe tbody tr th {\n",
       "        vertical-align: top;\n",
       "    }\n",
       "\n",
       "    .dataframe thead th {\n",
       "        text-align: right;\n",
       "    }\n",
       "</style>\n",
       "<table border=\"1\" class=\"dataframe\">\n",
       "  <thead>\n",
       "    <tr style=\"text-align: right;\">\n",
       "      <th></th>\n",
       "      <th>la date</th>\n",
       "      <th>infectés</th>\n",
       "      <th>morts</th>\n",
       "      <th>guéris</th>\n",
       "      <th>température</th>\n",
       "    </tr>\n",
       "  </thead>\n",
       "  <tbody>\n",
       "    <tr>\n",
       "      <td>0</td>\n",
       "      <td>2020-03-02</td>\n",
       "      <td>0.0</td>\n",
       "      <td>0</td>\n",
       "      <td>0.0</td>\n",
       "      <td>17.5</td>\n",
       "    </tr>\n",
       "    <tr>\n",
       "      <td>1</td>\n",
       "      <td>2020-03-03</td>\n",
       "      <td>0.0</td>\n",
       "      <td>0</td>\n",
       "      <td>0.0</td>\n",
       "      <td>20.5</td>\n",
       "    </tr>\n",
       "    <tr>\n",
       "      <td>2</td>\n",
       "      <td>2020-03-04</td>\n",
       "      <td>0.0</td>\n",
       "      <td>0</td>\n",
       "      <td>0.0</td>\n",
       "      <td>18.0</td>\n",
       "    </tr>\n",
       "    <tr>\n",
       "      <td>3</td>\n",
       "      <td>2020-03-05</td>\n",
       "      <td>0.0</td>\n",
       "      <td>0</td>\n",
       "      <td>0.0</td>\n",
       "      <td>20.0</td>\n",
       "    </tr>\n",
       "    <tr>\n",
       "      <td>4</td>\n",
       "      <td>2020-03-06</td>\n",
       "      <td>0.0</td>\n",
       "      <td>0</td>\n",
       "      <td>0.0</td>\n",
       "      <td>18.0</td>\n",
       "    </tr>\n",
       "    <tr>\n",
       "      <td>...</td>\n",
       "      <td>...</td>\n",
       "      <td>...</td>\n",
       "      <td>...</td>\n",
       "      <td>...</td>\n",
       "      <td>...</td>\n",
       "    </tr>\n",
       "    <tr>\n",
       "      <td>76</td>\n",
       "      <td>2020-05-17</td>\n",
       "      <td>0.0</td>\n",
       "      <td>0</td>\n",
       "      <td>5.0</td>\n",
       "      <td>23.0</td>\n",
       "    </tr>\n",
       "    <tr>\n",
       "      <td>77</td>\n",
       "      <td>2020-05-18</td>\n",
       "      <td>0.0</td>\n",
       "      <td>0</td>\n",
       "      <td>0.0</td>\n",
       "      <td>24.0</td>\n",
       "    </tr>\n",
       "    <tr>\n",
       "      <td>78</td>\n",
       "      <td>2020-05-19</td>\n",
       "      <td>0.0</td>\n",
       "      <td>0</td>\n",
       "      <td>0.0</td>\n",
       "      <td>25.5</td>\n",
       "    </tr>\n",
       "    <tr>\n",
       "      <td>79</td>\n",
       "      <td>2020-05-20</td>\n",
       "      <td>0.0</td>\n",
       "      <td>0</td>\n",
       "      <td>0.0</td>\n",
       "      <td>24.5</td>\n",
       "    </tr>\n",
       "    <tr>\n",
       "      <td>80</td>\n",
       "      <td>2020-05-21</td>\n",
       "      <td>0.0</td>\n",
       "      <td>0</td>\n",
       "      <td>5.0</td>\n",
       "      <td>24.0</td>\n",
       "    </tr>\n",
       "  </tbody>\n",
       "</table>\n",
       "<p>81 rows × 5 columns</p>\n",
       "</div>"
      ],
      "text/plain": [
       "      la date  infectés  morts  guéris  température\n",
       "0  2020-03-02       0.0      0     0.0         17.5\n",
       "1  2020-03-03       0.0      0     0.0         20.5\n",
       "2  2020-03-04       0.0      0     0.0         18.0\n",
       "3  2020-03-05       0.0      0     0.0         20.0\n",
       "4  2020-03-06       0.0      0     0.0         18.0\n",
       "..        ...       ...    ...     ...          ...\n",
       "76 2020-05-17       0.0      0     5.0         23.0\n",
       "77 2020-05-18       0.0      0     0.0         24.0\n",
       "78 2020-05-19       0.0      0     0.0         25.5\n",
       "79 2020-05-20       0.0      0     0.0         24.5\n",
       "80 2020-05-21       0.0      0     5.0         24.0\n",
       "\n",
       "[81 rows x 5 columns]"
      ]
     },
     "execution_count": 197,
     "metadata": {},
     "output_type": "execute_result"
    }
   ],
   "source": [
    "dfguelmim=pd.read_excel(r\"C:\\Users\\youne\\Desktop\\pfa\\DataFrame.xlsx\",\"Guelmim - Oued noun\")\n",
    "dfguelmim"
   ]
  },
  {
   "cell_type": "code",
   "execution_count": 199,
   "metadata": {},
   "outputs": [
    {
     "name": "stdout",
     "output_type": "stream",
     "text": [
      "(81,)\n",
      "(81,)\n",
      "(81,)\n"
     ]
    },
    {
     "name": "stderr",
     "output_type": "stream",
     "text": [
      "E:\\Anconda\\lib\\site-packages\\ipykernel_launcher.py:9: SettingWithCopyWarning: \n",
      "A value is trying to be set on a copy of a slice from a DataFrame\n",
      "\n",
      "See the caveats in the documentation: http://pandas.pydata.org/pandas-docs/stable/user_guide/indexing.html#returning-a-view-versus-a-copy\n",
      "  if __name__ == '__main__':\n"
     ]
    },
    {
     "data": {
      "image/png": "[encoded data removed]",
      "text/plain": [
       "<Figure size 432x288 with 1 Axes>"
      ]
     },
     "metadata": {
      "needs_background": "light"
     },
     "output_type": "display_data"
    },
    {
     "name": "stdout",
     "output_type": "stream",
     "text": [
      "1.0\n",
      "1.0\n",
      "0.2875\n",
      "1.0\n",
      "6.0\n",
      "4.0\n",
      "3.0\n",
      "3.0\n",
      "1.0\n",
      "1.0\n",
      "2.0\n",
      "0.25316455696202533\n",
      "0.25316455696202533\n",
      "3.0\n",
      "3.0\n",
      "1.0\n",
      "2.0\n",
      "1.0\n",
      "5.0\n",
      "5.0\n"
     ]
    },
    {
     "name": "stderr",
     "output_type": "stream",
     "text": [
      "E:\\Anconda\\lib\\site-packages\\ipykernel_launcher.py:8: SettingWithCopyWarning: \n",
      "A value is trying to be set on a copy of a slice from a DataFrame\n",
      "\n",
      "See the caveats in the documentation: http://pandas.pydata.org/pandas-docs/stable/user_guide/indexing.html#returning-a-view-versus-a-copy\n",
      "  \n",
      "E:\\Anconda\\lib\\site-packages\\ipykernel_launcher.py:15: SettingWithCopyWarning: \n",
      "A value is trying to be set on a copy of a slice from a DataFrame\n",
      "\n",
      "See the caveats in the documentation: http://pandas.pydata.org/pandas-docs/stable/user_guide/indexing.html#returning-a-view-versus-a-copy\n",
      "  from ipykernel import kernelapp as app\n"
     ]
    },
    {
     "data": {
      "text/plain": [
       "('beta est:0.05099999999999999 gamma est:0.020999999999999998',\n",
       " 63.836831577245725)"
      ]
     },
     "execution_count": 199,
     "metadata": {},
     "output_type": "execute_result"
    },
    {
     "data": {
      "image/png": "[encoded data removed]",
      "text/plain": [
       "<Figure size 432x288 with 1 Axes>"
      ]
     },
     "metadata": {
      "needs_background": "light"
     },
     "output_type": "display_data"
    }
   ],
   "source": [
    "df_guelmim_inf_recu=imputer_mean.fit_transform(dfguelmim[['infectés','guéris']])\n",
    "##\n",
    "df_guelmim_inf_recu=df_guelmim_inf_recu.T\n",
    "tguelmim=dfguelmim[\"la date\"]\n",
    "print(tguelmim.shape)\n",
    "print(df_guelmim_inf_recu[0].shape)\n",
    "print(dfguelmim[\"morts\"].shape)\n",
    "#\n",
    "dfguelmim[\"morts\"][np.isnan(dfguelmim[\"morts\"])]=0\n",
    "#\n",
    "plot_data(df_guelmim_inf_recu,dfguelmim,tguelmim)\n",
    "#\n",
    "Suscptibled=[]\n",
    "S=50000\n",
    "for i in range(81):\n",
    "    S=S-df_guelmim_inf_recu[0][i]-df_guelmim_inf_recu[1][i]\n",
    "    Suscptibled.append(S)\n",
    "dataf_guelmim= pd.DataFrame({'la_date':tguelmim,'suscptible':Suscptibled,'Infectés':df_guelmim_inf_recu[0],'récupérés':df_guelmim_inf_recu[1],'morts':dfguelmim[\"morts\"]})\n",
    "dataf_guelmim\n",
    "#\n",
    "dataf_guelmim=Dectect_aberrante(dataf_guelmim)\n",
    "#\n",
    "plt.plot(dataf_guelmim.la_date,dataf_guelmim.Infectés)\n",
    "#\n",
    "dictionnaire_Iguelmim,dictionnaire_R=filtrage(50000,1,0,np.arange(2,83),dataf_guelmim)\n",
    "#\n",
    "keyminval(dictionnaire_Iguelmim)\n",
    "#"
   ]
  },
  {
   "cell_type": "code",
   "execution_count": 200,
   "metadata": {},
   "outputs": [
    {
     "data": {
      "text/plain": [
       "[<matplotlib.lines.Line2D at 0x1ffc4b7bd08>]"
      ]
     },
     "execution_count": 200,
     "metadata": {},
     "output_type": "execute_result"
    },
    {
     "data": {
      "image/png": "[encoded data removed]",
      "text/plain": [
       "<Figure size 432x288 with 1 Axes>"
      ]
     },
     "metadata": {
      "needs_background": "light"
     },
     "output_type": "display_data"
    }
   ],
   "source": [
    "Sor,Ior,Ror=SolutionSIR(50000,1,0,np.arange(2,283),0.051,0.021)\n",
    "#\n",
    "plt.plot(np.arange(2,283),Ior)\n",
    "plt.plot(np.arange(2,83),dataf_guelmim.Infectés)"
   ]
  },
  {
   "cell_type": "code",
   "execution_count": null,
   "metadata": {},
   "outputs": [],
   "source": []
  },
  {
   "cell_type": "code",
   "execution_count": null,
   "metadata": {},
   "outputs": [],
   "source": [
    "dffes=pd.read_excel(r\"C:\\Users\\youne\\Desktop\\pfa\\DataFrame.xlsx\",\"Fes - Meknes\")\n",
    "dffes"
   ]
  },
  {
   "cell_type": "code",
   "execution_count": null,
   "metadata": {},
   "outputs": [],
   "source": [
    "df_fes_inf_recu=imputer_mean.fit_transform(dffes[['infecte','recuperé']])\n",
    "##\n",
    "#df_daraa_inf_recu=df_daraa_inf_recu.T\n",
    "#tdaraa=dfdaraa[\"date\"]\n",
    "#print(tdaraa.shape)\n",
    "#print(df_daraa_inf_recu[0].shape)\n",
    "#print(dfdaraa[\"morts\"].shape)\n",
    "#\n",
    "#dfdaraa[\"morts\"][np.isnan(dfdaraa[\"morts\"])]=0\n",
    "#\n",
    "#plot_data(df_daraa_inf_recu,dfdaraa,tdaraa)\n",
    "#\n",
    "#Suscptibled=[]\n",
    "#S=2000000\n",
    "#for i in range(81):\n",
    "    #S=S-df_daraa_inf_recu[0][i]-df_daraa_inf_recu[1][i]\n",
    "    #Suscptibled.append(S)\n",
    "#dataf_daraa= pd.DataFrame({'la_date':tdaraa,'suscptible':Suscptibled,'Infectés':df_daraa_inf_recu[0],'récupérés':df_daraa_inf_recu[1],'morts':dfdaraa[\"morts\"]})\n",
    "#dataf_daraa\n",
    "#\n",
    "#dataf_daraa=Dectect_aberrante(dataf_daraa)\n",
    "#\n",
    "#plt.plot(dataf_daraa.la_date,dataf_daraa.Infectés)\n",
    "#\n",
    "#dictionnaire_III,dictionnaire_R=filtrage(2000000,1,0,np.arange(2,83),dataf_daraa)\n",
    "#\n",
    "#keyminval(dictionnaire_III)\n",
    "#"
   ]
  },
  {
   "cell_type": "code",
   "execution_count": null,
   "metadata": {},
   "outputs": [],
   "source": [
    "#Sor,Ior,Ror=SolutionSIR(20000,1,0,np.arange(2,283),0.9909999999999999,0.9309999999999998)\n",
    "#\n",
    "#plt.plot(np.arange(2,283),Ior)\n",
    "#plt.plot(np.arange(2,83),dataf_daraa.Infectés)"
   ]
  },
  {
   "cell_type": "code",
   "execution_count": null,
   "metadata": {},
   "outputs": [],
   "source": []
  },
  {
   "cell_type": "code",
   "execution_count": null,
   "metadata": {},
   "outputs": [],
   "source": []
  },
  {
   "cell_type": "code",
   "execution_count": null,
   "metadata": {},
   "outputs": [],
   "source": []
  },
  {
   "cell_type": "code",
   "execution_count": null,
   "metadata": {},
   "outputs": [],
   "source": []
  },
  {
   "cell_type": "code",
   "execution_count": null,
   "metadata": {},
   "outputs": [],
   "source": []
  },
  {
   "cell_type": "code",
   "execution_count": null,
   "metadata": {},
   "outputs": [],
   "source": []
  },
  {
   "cell_type": "code",
   "execution_count": null,
   "metadata": {},
   "outputs": [],
   "source": []
  },
  {
   "cell_type": "code",
   "execution_count": null,
   "metadata": {},
   "outputs": [],
   "source": []
  },
  {
   "cell_type": "code",
   "execution_count": null,
   "metadata": {},
   "outputs": [],
   "source": []
  },
  {
   "cell_type": "code",
   "execution_count": null,
   "metadata": {},
   "outputs": [],
   "source": []
  },
  {
   "cell_type": "code",
   "execution_count": null,
   "metadata": {},
   "outputs": [],
   "source": []
  },
  {
   "cell_type": "code",
   "execution_count": null,
   "metadata": {},
   "outputs": [],
   "source": []
  },
  {
   "cell_type": "code",
   "execution_count": null,
   "metadata": {},
   "outputs": [],
   "source": []
  },
  {
   "cell_type": "code",
   "execution_count": null,
   "metadata": {},
   "outputs": [],
   "source": []
  },
  {
   "cell_type": "code",
   "execution_count": null,
   "metadata": {},
   "outputs": [],
   "source": []
  },
  {
   "cell_type": "code",
   "execution_count": null,
   "metadata": {},
   "outputs": [],
   "source": []
  },
  {
   "cell_type": "code",
   "execution_count": null,
   "metadata": {},
   "outputs": [],
   "source": []
  },
  {
   "cell_type": "code",
   "execution_count": null,
   "metadata": {},
   "outputs": [],
   "source": []
  },
  {
   "cell_type": "code",
   "execution_count": null,
   "metadata": {},
   "outputs": [],
   "source": []
  },
  {
   "cell_type": "code",
   "execution_count": null,
   "metadata": {},
   "outputs": [],
   "source": []
  },
  {
   "cell_type": "code",
   "execution_count": null,
   "metadata": {},
   "outputs": [],
   "source": []
  },
  {
   "cell_type": "code",
   "execution_count": null,
   "metadata": {},
   "outputs": [],
   "source": []
  },
  {
   "cell_type": "code",
   "execution_count": null,
   "metadata": {},
   "outputs": [],
   "source": []
  },
  {
   "cell_type": "code",
   "execution_count": null,
   "metadata": {},
   "outputs": [],
   "source": []
  },
  {
   "cell_type": "code",
   "execution_count": null,
   "metadata": {},
   "outputs": [],
   "source": []
  },
  {
   "cell_type": "code",
   "execution_count": null,
   "metadata": {},
   "outputs": [],
   "source": []
  },
  {
   "cell_type": "code",
   "execution_count": null,
   "metadata": {},
   "outputs": [],
   "source": []
  },
  {
   "cell_type": "code",
   "execution_count": null,
   "metadata": {},
   "outputs": [],
   "source": []
  },
  {
   "cell_type": "code",
   "execution_count": null,
   "metadata": {},
   "outputs": [],
   "source": []
  }
 ],
 "metadata": {
  "kernelspec": {
   "display_name": "Python 3",
   "language": "python",
   "name": "python3"
  },
  "language_info": {
   "codemirror_mode": {
    "name": "ipython",
    "version": 3
   },
   "file_extension": ".py",
   "mimetype": "text/x-python",
   "name": "python",
   "nbconvert_exporter": "python",
   "pygments_lexer": "ipython3",
   "version": "3.7.4"
  }
 },
 "nbformat": 4,
 "nbformat_minor": 2
}
